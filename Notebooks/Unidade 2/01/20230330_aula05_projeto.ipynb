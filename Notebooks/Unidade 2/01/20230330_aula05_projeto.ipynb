{
 "cells": [
  {
   "cell_type": "code",
   "execution_count": 105,
   "metadata": {},
   "outputs": [],
   "source": [
    "import warnings\n",
    "warnings.filterwarnings('ignore')"
   ]
  },
  {
   "attachments": {},
   "cell_type": "markdown",
   "metadata": {},
   "source": [
    "# Pré-processamento de dados\n",
    "## abertura da base de dados"
   ]
  },
  {
   "cell_type": "code",
   "execution_count": 106,
   "metadata": {},
   "outputs": [],
   "source": [
    "import pandas as pd\n",
    "dados = pd.read_csv('projeto_aula_4.csv')\n",
    "dados.columns = [x.lower() for x in dados.columns]"
   ]
  },
  {
   "cell_type": "code",
   "execution_count": 107,
   "metadata": {},
   "outputs": [
    {
     "data": {
      "text/html": [
       "<div>\n",
       "<style scoped>\n",
       "    .dataframe tbody tr th:only-of-type {\n",
       "        vertical-align: middle;\n",
       "    }\n",
       "\n",
       "    .dataframe tbody tr th {\n",
       "        vertical-align: top;\n",
       "    }\n",
       "\n",
       "    .dataframe thead th {\n",
       "        text-align: right;\n",
       "    }\n",
       "</style>\n",
       "<table border=\"1\" class=\"dataframe\">\n",
       "  <thead>\n",
       "    <tr style=\"text-align: right;\">\n",
       "      <th></th>\n",
       "      <th>education</th>\n",
       "      <th>joiningyear</th>\n",
       "      <th>city</th>\n",
       "      <th>paymenttier</th>\n",
       "      <th>age</th>\n",
       "      <th>gender</th>\n",
       "      <th>everbenched</th>\n",
       "      <th>experienceincurrentdomain</th>\n",
       "      <th>leaveornot</th>\n",
       "    </tr>\n",
       "  </thead>\n",
       "  <tbody>\n",
       "    <tr>\n",
       "      <th>0</th>\n",
       "      <td>Bachelors</td>\n",
       "      <td>2017</td>\n",
       "      <td>Bangalore</td>\n",
       "      <td>3</td>\n",
       "      <td>34</td>\n",
       "      <td>Male</td>\n",
       "      <td>No</td>\n",
       "      <td>0</td>\n",
       "      <td>0</td>\n",
       "    </tr>\n",
       "    <tr>\n",
       "      <th>1</th>\n",
       "      <td>Bachelors</td>\n",
       "      <td>2013</td>\n",
       "      <td>Pune</td>\n",
       "      <td>1</td>\n",
       "      <td>28</td>\n",
       "      <td>Female</td>\n",
       "      <td>No</td>\n",
       "      <td>3</td>\n",
       "      <td>1</td>\n",
       "    </tr>\n",
       "    <tr>\n",
       "      <th>2</th>\n",
       "      <td>Bachelors</td>\n",
       "      <td>2014</td>\n",
       "      <td>New Delhi</td>\n",
       "      <td>3</td>\n",
       "      <td>38</td>\n",
       "      <td>Female</td>\n",
       "      <td>No</td>\n",
       "      <td>2</td>\n",
       "      <td>0</td>\n",
       "    </tr>\n",
       "    <tr>\n",
       "      <th>3</th>\n",
       "      <td>Masters</td>\n",
       "      <td>2016</td>\n",
       "      <td>Bangalore</td>\n",
       "      <td>3</td>\n",
       "      <td>27</td>\n",
       "      <td>Male</td>\n",
       "      <td>No</td>\n",
       "      <td>5</td>\n",
       "      <td>1</td>\n",
       "    </tr>\n",
       "    <tr>\n",
       "      <th>4</th>\n",
       "      <td>Masters</td>\n",
       "      <td>2017</td>\n",
       "      <td>Pune</td>\n",
       "      <td>3</td>\n",
       "      <td>24</td>\n",
       "      <td>Male</td>\n",
       "      <td>no</td>\n",
       "      <td>2</td>\n",
       "      <td>1</td>\n",
       "    </tr>\n",
       "    <tr>\n",
       "      <th>...</th>\n",
       "      <td>...</td>\n",
       "      <td>...</td>\n",
       "      <td>...</td>\n",
       "      <td>...</td>\n",
       "      <td>...</td>\n",
       "      <td>...</td>\n",
       "      <td>...</td>\n",
       "      <td>...</td>\n",
       "      <td>...</td>\n",
       "    </tr>\n",
       "    <tr>\n",
       "      <th>5893</th>\n",
       "      <td>Bachelors</td>\n",
       "      <td>2012</td>\n",
       "      <td>Hyderabad</td>\n",
       "      <td>3</td>\n",
       "      <td>32</td>\n",
       "      <td>Female</td>\n",
       "      <td>no</td>\n",
       "      <td>2</td>\n",
       "      <td>1</td>\n",
       "    </tr>\n",
       "    <tr>\n",
       "      <th>5894</th>\n",
       "      <td>High School</td>\n",
       "      <td>2017</td>\n",
       "      <td>Bangalore</td>\n",
       "      <td>3</td>\n",
       "      <td>29</td>\n",
       "      <td>Male</td>\n",
       "      <td>No</td>\n",
       "      <td>2</td>\n",
       "      <td>0</td>\n",
       "    </tr>\n",
       "    <tr>\n",
       "      <th>5895</th>\n",
       "      <td>High School</td>\n",
       "      <td>2013</td>\n",
       "      <td>New Delhi</td>\n",
       "      <td>3</td>\n",
       "      <td>25</td>\n",
       "      <td>Female</td>\n",
       "      <td>No</td>\n",
       "      <td>5</td>\n",
       "      <td>1</td>\n",
       "    </tr>\n",
       "    <tr>\n",
       "      <th>5896</th>\n",
       "      <td>High School</td>\n",
       "      <td>2011</td>\n",
       "      <td>Ahmedabad</td>\n",
       "      <td>3</td>\n",
       "      <td>29</td>\n",
       "      <td>Male</td>\n",
       "      <td>No</td>\n",
       "      <td>5</td>\n",
       "      <td>0</td>\n",
       "    </tr>\n",
       "    <tr>\n",
       "      <th>5897</th>\n",
       "      <td>PHD</td>\n",
       "      <td>2014</td>\n",
       "      <td>Ahmedabad</td>\n",
       "      <td>3</td>\n",
       "      <td>35</td>\n",
       "      <td>Male</td>\n",
       "      <td>No</td>\n",
       "      <td>5</td>\n",
       "      <td>1</td>\n",
       "    </tr>\n",
       "  </tbody>\n",
       "</table>\n",
       "<p>5898 rows × 9 columns</p>\n",
       "</div>"
      ],
      "text/plain": [
       "        education joiningyear       city  paymenttier age  gender everbenched  \\\n",
       "0       Bachelors        2017  Bangalore            3  34    Male          No   \n",
       "1       Bachelors        2013       Pune            1  28  Female          No   \n",
       "2       Bachelors        2014  New Delhi            3  38  Female          No   \n",
       "3         Masters        2016  Bangalore            3  27    Male          No   \n",
       "4         Masters        2017       Pune            3  24    Male          no   \n",
       "...           ...         ...        ...          ...  ..     ...         ...   \n",
       "5893    Bachelors        2012  Hyderabad            3  32  Female          no   \n",
       "5894  High School        2017  Bangalore            3  29    Male          No   \n",
       "5895  High School        2013  New Delhi            3  25  Female          No   \n",
       "5896  High School        2011  Ahmedabad            3  29    Male          No   \n",
       "5897          PHD        2014  Ahmedabad            3  35    Male          No   \n",
       "\n",
       "     experienceincurrentdomain  leaveornot  \n",
       "0                            0           0  \n",
       "1                            3           1  \n",
       "2                            2           0  \n",
       "3                            5           1  \n",
       "4                            2           1  \n",
       "...                        ...         ...  \n",
       "5893                         2           1  \n",
       "5894                         2           0  \n",
       "5895                         5           1  \n",
       "5896                         5           0  \n",
       "5897                         5           1  \n",
       "\n",
       "[5898 rows x 9 columns]"
      ]
     },
     "execution_count": 107,
     "metadata": {},
     "output_type": "execute_result"
    }
   ],
   "source": [
    "dados"
   ]
  },
  {
   "attachments": {},
   "cell_type": "markdown",
   "metadata": {},
   "source": [
    "## Verificando os atributos do dataframe"
   ]
  },
  {
   "cell_type": "code",
   "execution_count": 108,
   "metadata": {},
   "outputs": [
    {
     "data": {
      "text/plain": [
       "Bachelors      3729\n",
       "Masters        1000\n",
       "High School     851\n",
       "PHD             318\n",
       "Name: education, dtype: int64"
      ]
     },
     "execution_count": 108,
     "metadata": {},
     "output_type": "execute_result"
    }
   ],
   "source": [
    "dados.education.value_counts()"
   ]
  },
  {
   "cell_type": "code",
   "execution_count": 109,
   "metadata": {},
   "outputs": [
    {
     "data": {
      "text/plain": [
       "2017             1230\n",
       "2015              886\n",
       "2014              832\n",
       "2013              751\n",
       "2016              639\n",
       "2012              607\n",
       "2018              482\n",
       "2011              125\n",
       "2019              124\n",
       "2010              120\n",
       "Not available     102\n",
       "Name: joiningyear, dtype: int64"
      ]
     },
     "execution_count": 109,
     "metadata": {},
     "output_type": "execute_result"
    }
   ],
   "source": [
    "dados.joiningyear.value_counts()"
   ]
  },
  {
   "cell_type": "code",
   "execution_count": 110,
   "metadata": {},
   "outputs": [
    {
     "data": {
      "text/plain": [
       "Bangalore    2406\n",
       "Pune         1444\n",
       "New Delhi    1325\n",
       "Chennai       186\n",
       "Ahmedabad     182\n",
       "Hyderabad     182\n",
       "Mumbai        173\n",
       "Name: city, dtype: int64"
      ]
     },
     "execution_count": 110,
     "metadata": {},
     "output_type": "execute_result"
    }
   ],
   "source": [
    "dados.city.value_counts()"
   ]
  },
  {
   "cell_type": "code",
   "execution_count": 111,
   "metadata": {},
   "outputs": [
    {
     "data": {
      "text/plain": [
       "3    4424\n",
       "2    1175\n",
       "1     299\n",
       "Name: paymenttier, dtype: int64"
      ]
     },
     "execution_count": 111,
     "metadata": {},
     "output_type": "execute_result"
    }
   ],
   "source": [
    "dados.paymenttier.value_counts()"
   ]
  },
  {
   "cell_type": "code",
   "execution_count": 112,
   "metadata": {},
   "outputs": [
    {
     "data": {
      "text/plain": [
       "Male      3350\n",
       "Female    2261\n",
       "male       168\n",
       "female     119\n",
       "Name: gender, dtype: int64"
      ]
     },
     "execution_count": 112,
     "metadata": {},
     "output_type": "execute_result"
    }
   ],
   "source": [
    "dados.gender.value_counts()"
   ]
  },
  {
   "cell_type": "code",
   "execution_count": 113,
   "metadata": {},
   "outputs": [
    {
     "data": {
      "text/plain": [
       "No     5038\n",
       "Yes     586\n",
       "no      150\n",
       "yes     124\n",
       "Name: everbenched, dtype: int64"
      ]
     },
     "execution_count": 113,
     "metadata": {},
     "output_type": "execute_result"
    }
   ],
   "source": [
    "dados.everbenched.value_counts()"
   ]
  },
  {
   "cell_type": "code",
   "execution_count": 114,
   "metadata": {},
   "outputs": [
    {
     "data": {
      "text/plain": [
       "2                1322\n",
       "4                1164\n",
       "5                1129\n",
       "3                 958\n",
       "1                 691\n",
       "0                 435\n",
       "Not available     179\n",
       "7                  11\n",
       "6                   9\n",
       "Name: experienceincurrentdomain, dtype: int64"
      ]
     },
     "execution_count": 114,
     "metadata": {},
     "output_type": "execute_result"
    }
   ],
   "source": [
    "dados.experienceincurrentdomain.value_counts()"
   ]
  },
  {
   "cell_type": "code",
   "execution_count": 115,
   "metadata": {},
   "outputs": [
    {
     "data": {
      "text/plain": [
       "0    3855\n",
       "1    2043\n",
       "Name: leaveornot, dtype: int64"
      ]
     },
     "execution_count": 115,
     "metadata": {},
     "output_type": "execute_result"
    }
   ],
   "source": [
    "dados.leaveornot.value_counts()"
   ]
  },
  {
   "attachments": {},
   "cell_type": "markdown",
   "metadata": {},
   "source": [
    "## Anotações sobre o que fazer em cada coluna:\n",
    "\n",
    "<li> experienceincurrentdomain - preencher valores não disponíveis\n",
    "<li> everbenched - corrigir classes dados e encodar\n",
    "<li> gender - corrigir classes e encodar dummy\n",
    "<li> city - encodar dummy\n",
    "<li> joiningyear - preencher valores não disponíveis e padronizar\n",
    "<li> education - encodar ordinal\n"
   ]
  },
  {
   "attachments": {},
   "cell_type": "markdown",
   "metadata": {},
   "source": [
    "### tratando experienceincurrentdomain"
   ]
  },
  {
   "cell_type": "code",
   "execution_count": 116,
   "metadata": {},
   "outputs": [
    {
     "name": "stdout",
     "output_type": "stream",
     "text": [
      "<class 'pandas.core.frame.DataFrame'>\n",
      "RangeIndex: 5898 entries, 0 to 5897\n",
      "Data columns (total 9 columns):\n",
      " #   Column                     Non-Null Count  Dtype \n",
      "---  ------                     --------------  ----- \n",
      " 0   education                  5898 non-null   object\n",
      " 1   joiningyear                5898 non-null   object\n",
      " 2   city                       5898 non-null   object\n",
      " 3   paymenttier                5898 non-null   int64 \n",
      " 4   age                        5898 non-null   object\n",
      " 5   gender                     5898 non-null   object\n",
      " 6   everbenched                5898 non-null   object\n",
      " 7   experienceincurrentdomain  5898 non-null   object\n",
      " 8   leaveornot                 5898 non-null   int64 \n",
      "dtypes: int64(2), object(7)\n",
      "memory usage: 414.8+ KB\n"
     ]
    }
   ],
   "source": [
    "dados.info()\n"
   ]
  },
  {
   "cell_type": "code",
   "execution_count": 191,
   "metadata": {},
   "outputs": [
    {
     "data": {
      "text/plain": [
       "experienceincurrentdomain\n",
       "2                            1322\n",
       "4                            1164\n",
       "5                            1129\n",
       "3                             958\n",
       "1                             691\n",
       "0                             435\n",
       "7                              11\n",
       "6                               9\n",
       "dtype: int64"
      ]
     },
     "execution_count": 191,
     "metadata": {},
     "output_type": "execute_result"
    }
   ],
   "source": [
    "coluna7 = dados[['experienceincurrentdomain']] #cópia somente da coluna de interesse\n",
    "dados_numericos = coluna7[coluna7.experienceincurrentdomain!='Not available'] #filtrando pelos dados numéricos\n",
    "dados_numericos.value_counts()"
   ]
  },
  {
   "cell_type": "code",
   "execution_count": 192,
   "metadata": {},
   "outputs": [
    {
     "name": "stdout",
     "output_type": "stream",
     "text": [
      "<class 'pandas.core.frame.DataFrame'>\n",
      "Int64Index: 5719 entries, 0 to 5897\n",
      "Data columns (total 1 columns):\n",
      " #   Column                     Non-Null Count  Dtype \n",
      "---  ------                     --------------  ----- \n",
      " 0   experienceincurrentdomain  5719 non-null   object\n",
      "dtypes: object(1)\n",
      "memory usage: 89.4+ KB\n"
     ]
    }
   ],
   "source": [
    "dados_numericos.info()"
   ]
  },
  {
   "attachments": {},
   "cell_type": "markdown",
   "metadata": {},
   "source": [
    "Os dados da coluna 7 são do tipo objeto. Será necessário conversão antes de uma análise matemática:"
   ]
  },
  {
   "cell_type": "code",
   "execution_count": 193,
   "metadata": {},
   "outputs": [
    {
     "name": "stdout",
     "output_type": "stream",
     "text": [
      "<class 'pandas.core.frame.DataFrame'>\n",
      "Int64Index: 5719 entries, 0 to 5897\n",
      "Data columns (total 1 columns):\n",
      " #   Column                     Non-Null Count  Dtype\n",
      "---  ------                     --------------  -----\n",
      " 0   experienceincurrentdomain  5719 non-null   int32\n",
      "dtypes: int32(1)\n",
      "memory usage: 67.0 KB\n"
     ]
    }
   ],
   "source": [
    "dados_numericos['experienceincurrentdomain'] = dados_numericos['experienceincurrentdomain'].astype(int)\n",
    "dados_numericos.info()"
   ]
  },
  {
   "cell_type": "code",
   "execution_count": 194,
   "metadata": {},
   "outputs": [
    {
     "data": {
      "text/html": [
       "<div>\n",
       "<style scoped>\n",
       "    .dataframe tbody tr th:only-of-type {\n",
       "        vertical-align: middle;\n",
       "    }\n",
       "\n",
       "    .dataframe tbody tr th {\n",
       "        vertical-align: top;\n",
       "    }\n",
       "\n",
       "    .dataframe thead th {\n",
       "        text-align: right;\n",
       "    }\n",
       "</style>\n",
       "<table border=\"1\" class=\"dataframe\">\n",
       "  <thead>\n",
       "    <tr style=\"text-align: right;\">\n",
       "      <th></th>\n",
       "      <th>experienceincurrentdomain</th>\n",
       "    </tr>\n",
       "  </thead>\n",
       "  <tbody>\n",
       "    <tr>\n",
       "      <th>count</th>\n",
       "      <td>5719.000000</td>\n",
       "    </tr>\n",
       "    <tr>\n",
       "      <th>mean</th>\n",
       "      <td>2.909774</td>\n",
       "    </tr>\n",
       "    <tr>\n",
       "      <th>std</th>\n",
       "      <td>1.558661</td>\n",
       "    </tr>\n",
       "    <tr>\n",
       "      <th>min</th>\n",
       "      <td>0.000000</td>\n",
       "    </tr>\n",
       "    <tr>\n",
       "      <th>25%</th>\n",
       "      <td>2.000000</td>\n",
       "    </tr>\n",
       "    <tr>\n",
       "      <th>50%</th>\n",
       "      <td>3.000000</td>\n",
       "    </tr>\n",
       "    <tr>\n",
       "      <th>75%</th>\n",
       "      <td>4.000000</td>\n",
       "    </tr>\n",
       "    <tr>\n",
       "      <th>max</th>\n",
       "      <td>7.000000</td>\n",
       "    </tr>\n",
       "  </tbody>\n",
       "</table>\n",
       "</div>"
      ],
      "text/plain": [
       "       experienceincurrentdomain\n",
       "count                5719.000000\n",
       "mean                    2.909774\n",
       "std                     1.558661\n",
       "min                     0.000000\n",
       "25%                     2.000000\n",
       "50%                     3.000000\n",
       "75%                     4.000000\n",
       "max                     7.000000"
      ]
     },
     "execution_count": 194,
     "metadata": {},
     "output_type": "execute_result"
    }
   ],
   "source": [
    "dados_numericos.describe()"
   ]
  },
  {
   "cell_type": "code",
   "execution_count": 195,
   "metadata": {},
   "outputs": [
    {
     "data": {
      "text/plain": [
       "(array([ 435.,  691., 1322.,    0.,  958., 1164.,    0., 1129.,    9.,\n",
       "          11.]),\n",
       " array([0. , 0.7, 1.4, 2.1, 2.8, 3.5, 4.2, 4.9, 5.6, 6.3, 7. ]),\n",
       " <BarContainer object of 10 artists>)"
      ]
     },
     "execution_count": 195,
     "metadata": {},
     "output_type": "execute_result"
    },
    {
     "data": {
      "image/png": "[encoded data removed]",
      "text/plain": [
       "<Figure size 640x480 with 1 Axes>"
      ]
     },
     "metadata": {},
     "output_type": "display_data"
    }
   ],
   "source": [
    "import matplotlib.pyplot as plt\n",
    "plt.hist(dados_numericos.experienceincurrentdomain)"
   ]
  },
  {
   "attachments": {},
   "cell_type": "markdown",
   "metadata": {},
   "source": [
    "Definir uma função que gera aleatoriamente valores entre 2 e 5"
   ]
  },
  {
   "cell_type": "code",
   "execution_count": 196,
   "metadata": {},
   "outputs": [],
   "source": [
    "import numpy as np\n",
    "def valor_aleatorio():\n",
    "    valor = np.random.randint(2,6)\n",
    "    return str(valor)\n"
   ]
  },
  {
   "cell_type": "code",
   "execution_count": 197,
   "metadata": {},
   "outputs": [
    {
     "data": {
      "text/plain": [
       "'4'"
      ]
     },
     "execution_count": 197,
     "metadata": {},
     "output_type": "execute_result"
    }
   ],
   "source": [
    "valor_aleatorio()"
   ]
  },
  {
   "attachments": {},
   "cell_type": "markdown",
   "metadata": {},
   "source": [
    "Substituir em coluna7 valores \"Not avaliable\" por valores gerados pela função"
   ]
  },
  {
   "cell_type": "code",
   "execution_count": 201,
   "metadata": {},
   "outputs": [],
   "source": [
    "coluna7['experienceincurrentdomain'] = [valor_aleatorio() if x == 'Not available' else x for x in coluna7['experienceincurrentdomain']]"
   ]
  },
  {
   "cell_type": "code",
   "execution_count": 202,
   "metadata": {},
   "outputs": [
    {
     "data": {
      "text/plain": [
       "2    1363\n",
       "4    1216\n",
       "5    1177\n",
       "3     996\n",
       "1     691\n",
       "0     435\n",
       "7      11\n",
       "6       9\n",
       "Name: experienceincurrentdomain, dtype: int64"
      ]
     },
     "execution_count": 202,
     "metadata": {},
     "output_type": "execute_result"
    }
   ],
   "source": [
    "coluna7.experienceincurrentdomain.value_counts()"
   ]
  },
  {
   "cell_type": "code",
   "execution_count": 203,
   "metadata": {},
   "outputs": [
    {
     "data": {
      "text/plain": [
       "2                1322\n",
       "4                1164\n",
       "5                1129\n",
       "3                 958\n",
       "1                 691\n",
       "0                 435\n",
       "Not available     179\n",
       "7                  11\n",
       "6                   9\n",
       "Name: experienceincurrentdomain, dtype: int64"
      ]
     },
     "execution_count": 203,
     "metadata": {},
     "output_type": "execute_result"
    }
   ],
   "source": [
    "dados.experienceincurrentdomain.value_counts()"
   ]
  },
  {
   "cell_type": "code",
   "execution_count": 204,
   "metadata": {},
   "outputs": [
    {
     "name": "stdout",
     "output_type": "stream",
     "text": [
      "<class 'pandas.core.frame.DataFrame'>\n",
      "RangeIndex: 5898 entries, 0 to 5897\n",
      "Data columns (total 1 columns):\n",
      " #   Column                     Non-Null Count  Dtype \n",
      "---  ------                     --------------  ----- \n",
      " 0   experienceincurrentdomain  5898 non-null   object\n",
      "dtypes: object(1)\n",
      "memory usage: 46.2+ KB\n"
     ]
    }
   ],
   "source": [
    "coluna7.info()"
   ]
  },
  {
   "cell_type": "code",
   "execution_count": 205,
   "metadata": {},
   "outputs": [
    {
     "name": "stdout",
     "output_type": "stream",
     "text": [
      "<class 'pandas.core.frame.DataFrame'>\n",
      "RangeIndex: 5898 entries, 0 to 5897\n",
      "Data columns (total 1 columns):\n",
      " #   Column                     Non-Null Count  Dtype\n",
      "---  ------                     --------------  -----\n",
      " 0   experienceincurrentdomain  5898 non-null   int32\n",
      "dtypes: int32(1)\n",
      "memory usage: 23.2 KB\n"
     ]
    }
   ],
   "source": [
    "coluna7['experienceincurrentdomain'] = coluna7['experienceincurrentdomain'].astype(int)\n",
    "coluna7.info()"
   ]
  },
  {
   "attachments": {},
   "cell_type": "markdown",
   "metadata": {},
   "source": [
    "## Anotações sobre o que fazer em cada coluna:\n",
    "\n",
    "<li> experienceincurrentdomain - preencher valores não disponíveis - OK\n",
    "<li> everbenched - corrigir classes dados e encodar\n",
    "<li> gender - corrigir classes e encodar dummy\n",
    "<li> city - encodar dummy\n",
    "<li> joiningyear - preencher valores não disponíveis e padronizar\n",
    "<li> education - encodar ordinal\n",
    "\n",
    "### tratando everbenched"
   ]
  },
  {
   "cell_type": "code",
   "execution_count": 206,
   "metadata": {},
   "outputs": [
    {
     "name": "stdout",
     "output_type": "stream",
     "text": [
      "<class 'pandas.core.frame.DataFrame'>\n",
      "RangeIndex: 5898 entries, 0 to 5897\n",
      "Data columns (total 9 columns):\n",
      " #   Column                     Non-Null Count  Dtype \n",
      "---  ------                     --------------  ----- \n",
      " 0   education                  5898 non-null   object\n",
      " 1   joiningyear                5898 non-null   object\n",
      " 2   city                       5898 non-null   object\n",
      " 3   paymenttier                5898 non-null   int64 \n",
      " 4   age                        5898 non-null   object\n",
      " 5   gender                     5898 non-null   object\n",
      " 6   everbenched                5898 non-null   object\n",
      " 7   experienceincurrentdomain  5898 non-null   object\n",
      " 8   leaveornot                 5898 non-null   int64 \n",
      "dtypes: int64(2), object(7)\n",
      "memory usage: 414.8+ KB\n"
     ]
    }
   ],
   "source": [
    "dados.info()"
   ]
  },
  {
   "cell_type": "code",
   "execution_count": 207,
   "metadata": {},
   "outputs": [
    {
     "data": {
      "text/html": [
       "<div>\n",
       "<style scoped>\n",
       "    .dataframe tbody tr th:only-of-type {\n",
       "        vertical-align: middle;\n",
       "    }\n",
       "\n",
       "    .dataframe tbody tr th {\n",
       "        vertical-align: top;\n",
       "    }\n",
       "\n",
       "    .dataframe thead th {\n",
       "        text-align: right;\n",
       "    }\n",
       "</style>\n",
       "<table border=\"1\" class=\"dataframe\">\n",
       "  <thead>\n",
       "    <tr style=\"text-align: right;\">\n",
       "      <th></th>\n",
       "      <th>everbenched</th>\n",
       "    </tr>\n",
       "  </thead>\n",
       "  <tbody>\n",
       "    <tr>\n",
       "      <th>0</th>\n",
       "      <td>No</td>\n",
       "    </tr>\n",
       "    <tr>\n",
       "      <th>1</th>\n",
       "      <td>No</td>\n",
       "    </tr>\n",
       "    <tr>\n",
       "      <th>2</th>\n",
       "      <td>No</td>\n",
       "    </tr>\n",
       "    <tr>\n",
       "      <th>3</th>\n",
       "      <td>No</td>\n",
       "    </tr>\n",
       "    <tr>\n",
       "      <th>4</th>\n",
       "      <td>no</td>\n",
       "    </tr>\n",
       "    <tr>\n",
       "      <th>...</th>\n",
       "      <td>...</td>\n",
       "    </tr>\n",
       "    <tr>\n",
       "      <th>5893</th>\n",
       "      <td>no</td>\n",
       "    </tr>\n",
       "    <tr>\n",
       "      <th>5894</th>\n",
       "      <td>No</td>\n",
       "    </tr>\n",
       "    <tr>\n",
       "      <th>5895</th>\n",
       "      <td>No</td>\n",
       "    </tr>\n",
       "    <tr>\n",
       "      <th>5896</th>\n",
       "      <td>No</td>\n",
       "    </tr>\n",
       "    <tr>\n",
       "      <th>5897</th>\n",
       "      <td>No</td>\n",
       "    </tr>\n",
       "  </tbody>\n",
       "</table>\n",
       "<p>5898 rows × 1 columns</p>\n",
       "</div>"
      ],
      "text/plain": [
       "     everbenched\n",
       "0             No\n",
       "1             No\n",
       "2             No\n",
       "3             No\n",
       "4             no\n",
       "...          ...\n",
       "5893          no\n",
       "5894          No\n",
       "5895          No\n",
       "5896          No\n",
       "5897          No\n",
       "\n",
       "[5898 rows x 1 columns]"
      ]
     },
     "execution_count": 207,
     "metadata": {},
     "output_type": "execute_result"
    }
   ],
   "source": [
    "coluna6 = dados[['everbenched']]\n",
    "coluna6"
   ]
  },
  {
   "cell_type": "code",
   "execution_count": 208,
   "metadata": {},
   "outputs": [
    {
     "data": {
      "text/plain": [
       "No     5038\n",
       "Yes     586\n",
       "no      150\n",
       "yes     124\n",
       "Name: everbenched, dtype: int64"
      ]
     },
     "execution_count": 208,
     "metadata": {},
     "output_type": "execute_result"
    }
   ],
   "source": [
    "coluna6.everbenched.value_counts()"
   ]
  },
  {
   "attachments": {},
   "cell_type": "markdown",
   "metadata": {},
   "source": [
    "Capitalizando a primeira letra"
   ]
  },
  {
   "cell_type": "code",
   "execution_count": 209,
   "metadata": {},
   "outputs": [
    {
     "data": {
      "text/plain": [
       "No     5188\n",
       "Yes     710\n",
       "Name: everbenched, dtype: int64"
      ]
     },
     "execution_count": 209,
     "metadata": {},
     "output_type": "execute_result"
    }
   ],
   "source": [
    "coluna6['everbenched'] = [x.capitalize() for x in coluna6['everbenched']]\n",
    "coluna6.everbenched.value_counts()"
   ]
  },
  {
   "attachments": {},
   "cell_type": "markdown",
   "metadata": {},
   "source": [
    "Encodando os dados (dados booleanos, logo Não -> 0 e Sim -> 1)"
   ]
  },
  {
   "cell_type": "code",
   "execution_count": 210,
   "metadata": {},
   "outputs": [
    {
     "data": {
      "text/plain": [
       "0    5188\n",
       "1     710\n",
       "Name: everbenched, dtype: int64"
      ]
     },
     "execution_count": 210,
     "metadata": {},
     "output_type": "execute_result"
    }
   ],
   "source": [
    "coluna6['everbenched'] = np.where(\n",
    "    coluna6['everbenched'] == \"No\",\n",
    "    0,\n",
    "    1\n",
    ")\n",
    "coluna6.everbenched.value_counts()"
   ]
  },
  {
   "attachments": {},
   "cell_type": "markdown",
   "metadata": {},
   "source": [
    "## Anotações sobre o que fazer em cada coluna:\n",
    "\n",
    "<li> experienceincurrentdomain - preencher valores não disponíveis - OK\n",
    "<li> everbenched - corrigir classes dados e encodar - OK\n",
    "<li> gender - corrigir classes e encodar dummy\n",
    "<li> city - encodar dummy\n",
    "<li> joiningyear - preencher valores não disponíveis e padronizar\n",
    "<li> education - encodar ordinal\n",
    "\n",
    "### tratando gender"
   ]
  },
  {
   "cell_type": "code",
   "execution_count": 211,
   "metadata": {},
   "outputs": [
    {
     "name": "stdout",
     "output_type": "stream",
     "text": [
      "<class 'pandas.core.frame.DataFrame'>\n",
      "RangeIndex: 5898 entries, 0 to 5897\n",
      "Data columns (total 9 columns):\n",
      " #   Column                     Non-Null Count  Dtype \n",
      "---  ------                     --------------  ----- \n",
      " 0   education                  5898 non-null   object\n",
      " 1   joiningyear                5898 non-null   object\n",
      " 2   city                       5898 non-null   object\n",
      " 3   paymenttier                5898 non-null   int64 \n",
      " 4   age                        5898 non-null   object\n",
      " 5   gender                     5898 non-null   object\n",
      " 6   everbenched                5898 non-null   object\n",
      " 7   experienceincurrentdomain  5898 non-null   object\n",
      " 8   leaveornot                 5898 non-null   int64 \n",
      "dtypes: int64(2), object(7)\n",
      "memory usage: 414.8+ KB\n"
     ]
    }
   ],
   "source": [
    "dados.info()"
   ]
  },
  {
   "cell_type": "code",
   "execution_count": 212,
   "metadata": {},
   "outputs": [
    {
     "data": {
      "text/plain": [
       "gender\n",
       "Male      3350\n",
       "Female    2261\n",
       "male       168\n",
       "female     119\n",
       "dtype: int64"
      ]
     },
     "execution_count": 212,
     "metadata": {},
     "output_type": "execute_result"
    }
   ],
   "source": [
    "coluna5 = dados[['gender']]\n",
    "coluna5.value_counts()"
   ]
  },
  {
   "cell_type": "code",
   "execution_count": 213,
   "metadata": {},
   "outputs": [
    {
     "data": {
      "text/plain": [
       "gender\n",
       "Male      3518\n",
       "Female    2380\n",
       "dtype: int64"
      ]
     },
     "execution_count": 213,
     "metadata": {},
     "output_type": "execute_result"
    }
   ],
   "source": [
    "coluna5['gender'] = [x.capitalize() for x in coluna5.gender]\n",
    "coluna5.value_counts()"
   ]
  },
  {
   "attachments": {},
   "cell_type": "markdown",
   "metadata": {},
   "source": [
    "Dummy encoding"
   ]
  },
  {
   "cell_type": "code",
   "execution_count": 214,
   "metadata": {},
   "outputs": [
    {
     "data": {
      "text/html": [
       "<div>\n",
       "<style scoped>\n",
       "    .dataframe tbody tr th:only-of-type {\n",
       "        vertical-align: middle;\n",
       "    }\n",
       "\n",
       "    .dataframe tbody tr th {\n",
       "        vertical-align: top;\n",
       "    }\n",
       "\n",
       "    .dataframe thead th {\n",
       "        text-align: right;\n",
       "    }\n",
       "</style>\n",
       "<table border=\"1\" class=\"dataframe\">\n",
       "  <thead>\n",
       "    <tr style=\"text-align: right;\">\n",
       "      <th></th>\n",
       "      <th>gender_Female</th>\n",
       "      <th>gender_Male</th>\n",
       "    </tr>\n",
       "  </thead>\n",
       "  <tbody>\n",
       "    <tr>\n",
       "      <th>0</th>\n",
       "      <td>0</td>\n",
       "      <td>1</td>\n",
       "    </tr>\n",
       "    <tr>\n",
       "      <th>1</th>\n",
       "      <td>1</td>\n",
       "      <td>0</td>\n",
       "    </tr>\n",
       "    <tr>\n",
       "      <th>2</th>\n",
       "      <td>1</td>\n",
       "      <td>0</td>\n",
       "    </tr>\n",
       "    <tr>\n",
       "      <th>3</th>\n",
       "      <td>0</td>\n",
       "      <td>1</td>\n",
       "    </tr>\n",
       "    <tr>\n",
       "      <th>4</th>\n",
       "      <td>0</td>\n",
       "      <td>1</td>\n",
       "    </tr>\n",
       "    <tr>\n",
       "      <th>...</th>\n",
       "      <td>...</td>\n",
       "      <td>...</td>\n",
       "    </tr>\n",
       "    <tr>\n",
       "      <th>5893</th>\n",
       "      <td>1</td>\n",
       "      <td>0</td>\n",
       "    </tr>\n",
       "    <tr>\n",
       "      <th>5894</th>\n",
       "      <td>0</td>\n",
       "      <td>1</td>\n",
       "    </tr>\n",
       "    <tr>\n",
       "      <th>5895</th>\n",
       "      <td>1</td>\n",
       "      <td>0</td>\n",
       "    </tr>\n",
       "    <tr>\n",
       "      <th>5896</th>\n",
       "      <td>0</td>\n",
       "      <td>1</td>\n",
       "    </tr>\n",
       "    <tr>\n",
       "      <th>5897</th>\n",
       "      <td>0</td>\n",
       "      <td>1</td>\n",
       "    </tr>\n",
       "  </tbody>\n",
       "</table>\n",
       "<p>5898 rows × 2 columns</p>\n",
       "</div>"
      ],
      "text/plain": [
       "      gender_Female  gender_Male\n",
       "0                 0            1\n",
       "1                 1            0\n",
       "2                 1            0\n",
       "3                 0            1\n",
       "4                 0            1\n",
       "...             ...          ...\n",
       "5893              1            0\n",
       "5894              0            1\n",
       "5895              1            0\n",
       "5896              0            1\n",
       "5897              0            1\n",
       "\n",
       "[5898 rows x 2 columns]"
      ]
     },
     "execution_count": 214,
     "metadata": {},
     "output_type": "execute_result"
    }
   ],
   "source": [
    "coluna5 = pd.get_dummies(coluna5,columns=['gender'])\n",
    "coluna5"
   ]
  },
  {
   "attachments": {},
   "cell_type": "markdown",
   "metadata": {},
   "source": [
    "## Anotações sobre o que fazer em cada coluna:\n",
    "\n",
    "<li> experienceincurrentdomain - preencher valores não disponíveis - OK\n",
    "<li> everbenched - corrigir classes dados e encodar - OK\n",
    "<li> gender - corrigir classes e encodar dummy - OK\n",
    "<li> city - encodar dummy\n",
    "<li> joiningyear - preencher valores não disponíveis e padronizar\n",
    "<li> education - encodar ordinal\n",
    "\n",
    "### tratando city"
   ]
  },
  {
   "cell_type": "code",
   "execution_count": 215,
   "metadata": {},
   "outputs": [
    {
     "name": "stdout",
     "output_type": "stream",
     "text": [
      "<class 'pandas.core.frame.DataFrame'>\n",
      "RangeIndex: 5898 entries, 0 to 5897\n",
      "Data columns (total 9 columns):\n",
      " #   Column                     Non-Null Count  Dtype \n",
      "---  ------                     --------------  ----- \n",
      " 0   education                  5898 non-null   object\n",
      " 1   joiningyear                5898 non-null   object\n",
      " 2   city                       5898 non-null   object\n",
      " 3   paymenttier                5898 non-null   int64 \n",
      " 4   age                        5898 non-null   object\n",
      " 5   gender                     5898 non-null   object\n",
      " 6   everbenched                5898 non-null   object\n",
      " 7   experienceincurrentdomain  5898 non-null   object\n",
      " 8   leaveornot                 5898 non-null   int64 \n",
      "dtypes: int64(2), object(7)\n",
      "memory usage: 414.8+ KB\n"
     ]
    }
   ],
   "source": [
    "dados.info()"
   ]
  },
  {
   "cell_type": "code",
   "execution_count": 216,
   "metadata": {},
   "outputs": [
    {
     "data": {
      "text/plain": [
       "city     \n",
       "Bangalore    2406\n",
       "Pune         1444\n",
       "New Delhi    1325\n",
       "Chennai       186\n",
       "Ahmedabad     182\n",
       "Hyderabad     182\n",
       "Mumbai        173\n",
       "dtype: int64"
      ]
     },
     "execution_count": 216,
     "metadata": {},
     "output_type": "execute_result"
    }
   ],
   "source": [
    "coluna2 = dados[['city']]\n",
    "coluna2.value_counts()"
   ]
  },
  {
   "cell_type": "code",
   "execution_count": 217,
   "metadata": {},
   "outputs": [
    {
     "data": {
      "text/html": [
       "<div>\n",
       "<style scoped>\n",
       "    .dataframe tbody tr th:only-of-type {\n",
       "        vertical-align: middle;\n",
       "    }\n",
       "\n",
       "    .dataframe tbody tr th {\n",
       "        vertical-align: top;\n",
       "    }\n",
       "\n",
       "    .dataframe thead th {\n",
       "        text-align: right;\n",
       "    }\n",
       "</style>\n",
       "<table border=\"1\" class=\"dataframe\">\n",
       "  <thead>\n",
       "    <tr style=\"text-align: right;\">\n",
       "      <th></th>\n",
       "      <th>city_Ahmedabad</th>\n",
       "      <th>city_Bangalore</th>\n",
       "      <th>city_Chennai</th>\n",
       "      <th>city_Hyderabad</th>\n",
       "      <th>city_Mumbai</th>\n",
       "      <th>city_New Delhi</th>\n",
       "      <th>city_Pune</th>\n",
       "    </tr>\n",
       "  </thead>\n",
       "  <tbody>\n",
       "    <tr>\n",
       "      <th>0</th>\n",
       "      <td>0</td>\n",
       "      <td>1</td>\n",
       "      <td>0</td>\n",
       "      <td>0</td>\n",
       "      <td>0</td>\n",
       "      <td>0</td>\n",
       "      <td>0</td>\n",
       "    </tr>\n",
       "    <tr>\n",
       "      <th>1</th>\n",
       "      <td>0</td>\n",
       "      <td>0</td>\n",
       "      <td>0</td>\n",
       "      <td>0</td>\n",
       "      <td>0</td>\n",
       "      <td>0</td>\n",
       "      <td>1</td>\n",
       "    </tr>\n",
       "    <tr>\n",
       "      <th>2</th>\n",
       "      <td>0</td>\n",
       "      <td>0</td>\n",
       "      <td>0</td>\n",
       "      <td>0</td>\n",
       "      <td>0</td>\n",
       "      <td>1</td>\n",
       "      <td>0</td>\n",
       "    </tr>\n",
       "    <tr>\n",
       "      <th>3</th>\n",
       "      <td>0</td>\n",
       "      <td>1</td>\n",
       "      <td>0</td>\n",
       "      <td>0</td>\n",
       "      <td>0</td>\n",
       "      <td>0</td>\n",
       "      <td>0</td>\n",
       "    </tr>\n",
       "    <tr>\n",
       "      <th>4</th>\n",
       "      <td>0</td>\n",
       "      <td>0</td>\n",
       "      <td>0</td>\n",
       "      <td>0</td>\n",
       "      <td>0</td>\n",
       "      <td>0</td>\n",
       "      <td>1</td>\n",
       "    </tr>\n",
       "    <tr>\n",
       "      <th>...</th>\n",
       "      <td>...</td>\n",
       "      <td>...</td>\n",
       "      <td>...</td>\n",
       "      <td>...</td>\n",
       "      <td>...</td>\n",
       "      <td>...</td>\n",
       "      <td>...</td>\n",
       "    </tr>\n",
       "    <tr>\n",
       "      <th>5893</th>\n",
       "      <td>0</td>\n",
       "      <td>0</td>\n",
       "      <td>0</td>\n",
       "      <td>1</td>\n",
       "      <td>0</td>\n",
       "      <td>0</td>\n",
       "      <td>0</td>\n",
       "    </tr>\n",
       "    <tr>\n",
       "      <th>5894</th>\n",
       "      <td>0</td>\n",
       "      <td>1</td>\n",
       "      <td>0</td>\n",
       "      <td>0</td>\n",
       "      <td>0</td>\n",
       "      <td>0</td>\n",
       "      <td>0</td>\n",
       "    </tr>\n",
       "    <tr>\n",
       "      <th>5895</th>\n",
       "      <td>0</td>\n",
       "      <td>0</td>\n",
       "      <td>0</td>\n",
       "      <td>0</td>\n",
       "      <td>0</td>\n",
       "      <td>1</td>\n",
       "      <td>0</td>\n",
       "    </tr>\n",
       "    <tr>\n",
       "      <th>5896</th>\n",
       "      <td>1</td>\n",
       "      <td>0</td>\n",
       "      <td>0</td>\n",
       "      <td>0</td>\n",
       "      <td>0</td>\n",
       "      <td>0</td>\n",
       "      <td>0</td>\n",
       "    </tr>\n",
       "    <tr>\n",
       "      <th>5897</th>\n",
       "      <td>1</td>\n",
       "      <td>0</td>\n",
       "      <td>0</td>\n",
       "      <td>0</td>\n",
       "      <td>0</td>\n",
       "      <td>0</td>\n",
       "      <td>0</td>\n",
       "    </tr>\n",
       "  </tbody>\n",
       "</table>\n",
       "<p>5898 rows × 7 columns</p>\n",
       "</div>"
      ],
      "text/plain": [
       "      city_Ahmedabad  city_Bangalore  city_Chennai  city_Hyderabad  \\\n",
       "0                  0               1             0               0   \n",
       "1                  0               0             0               0   \n",
       "2                  0               0             0               0   \n",
       "3                  0               1             0               0   \n",
       "4                  0               0             0               0   \n",
       "...              ...             ...           ...             ...   \n",
       "5893               0               0             0               1   \n",
       "5894               0               1             0               0   \n",
       "5895               0               0             0               0   \n",
       "5896               1               0             0               0   \n",
       "5897               1               0             0               0   \n",
       "\n",
       "      city_Mumbai  city_New Delhi  city_Pune  \n",
       "0               0               0          0  \n",
       "1               0               0          1  \n",
       "2               0               1          0  \n",
       "3               0               0          0  \n",
       "4               0               0          1  \n",
       "...           ...             ...        ...  \n",
       "5893            0               0          0  \n",
       "5894            0               0          0  \n",
       "5895            0               1          0  \n",
       "5896            0               0          0  \n",
       "5897            0               0          0  \n",
       "\n",
       "[5898 rows x 7 columns]"
      ]
     },
     "execution_count": 217,
     "metadata": {},
     "output_type": "execute_result"
    }
   ],
   "source": [
    "coluna2 = pd.get_dummies(coluna2,columns=['city'])\n",
    "coluna2"
   ]
  },
  {
   "attachments": {},
   "cell_type": "markdown",
   "metadata": {},
   "source": [
    "## Anotações sobre o que fazer em cada coluna:\n",
    "\n",
    "<li> experienceincurrentdomain - preencher valores não disponíveis - OK\n",
    "<li> everbenched - corrigir classes dados e encodar - OK\n",
    "<li> gender - corrigir classes e encodar dummy - OK\n",
    "<li> city - encodar dummy - OK\n",
    "<li> joiningyear - preencher valores não disponíveis e padronizar\n",
    "<li> education - encodar ordinal\n",
    "\n",
    "### tratando joiningyear"
   ]
  },
  {
   "cell_type": "code",
   "execution_count": 218,
   "metadata": {},
   "outputs": [
    {
     "name": "stdout",
     "output_type": "stream",
     "text": [
      "<class 'pandas.core.frame.DataFrame'>\n",
      "RangeIndex: 5898 entries, 0 to 5897\n",
      "Data columns (total 9 columns):\n",
      " #   Column                     Non-Null Count  Dtype \n",
      "---  ------                     --------------  ----- \n",
      " 0   education                  5898 non-null   object\n",
      " 1   joiningyear                5898 non-null   object\n",
      " 2   city                       5898 non-null   object\n",
      " 3   paymenttier                5898 non-null   int64 \n",
      " 4   age                        5898 non-null   object\n",
      " 5   gender                     5898 non-null   object\n",
      " 6   everbenched                5898 non-null   object\n",
      " 7   experienceincurrentdomain  5898 non-null   object\n",
      " 8   leaveornot                 5898 non-null   int64 \n",
      "dtypes: int64(2), object(7)\n",
      "memory usage: 414.8+ KB\n"
     ]
    }
   ],
   "source": [
    "dados.info()"
   ]
  },
  {
   "cell_type": "code",
   "execution_count": 219,
   "metadata": {},
   "outputs": [
    {
     "data": {
      "text/plain": [
       "joiningyear  \n",
       "2017             1230\n",
       "2015              886\n",
       "2014              832\n",
       "2013              751\n",
       "2016              639\n",
       "2012              607\n",
       "2018              482\n",
       "2011              125\n",
       "2019              124\n",
       "2010              120\n",
       "Not available     102\n",
       "dtype: int64"
      ]
     },
     "execution_count": 219,
     "metadata": {},
     "output_type": "execute_result"
    }
   ],
   "source": [
    "coluna1 = dados[['joiningyear']]\n",
    "coluna1.value_counts()"
   ]
  },
  {
   "cell_type": "code",
   "execution_count": 220,
   "metadata": {},
   "outputs": [
    {
     "name": "stdout",
     "output_type": "stream",
     "text": [
      "<class 'pandas.core.frame.DataFrame'>\n",
      "Int64Index: 5796 entries, 0 to 5897\n",
      "Data columns (total 1 columns):\n",
      " #   Column       Non-Null Count  Dtype\n",
      "---  ------       --------------  -----\n",
      " 0   joiningyear  5796 non-null   int32\n",
      "dtypes: int32(1)\n",
      "memory usage: 67.9 KB\n"
     ]
    }
   ],
   "source": [
    "dados_numericos_ano = coluna1[coluna1.joiningyear!='Not available']\n",
    "dados_numericos_ano['joiningyear'] = dados_numericos_ano['joiningyear'].astype(int)\n",
    "dados_numericos_ano.info()"
   ]
  },
  {
   "cell_type": "code",
   "execution_count": 221,
   "metadata": {},
   "outputs": [
    {
     "data": {
      "text/plain": [
       "(array([ 120.,  125.,  607.,  751.,  832.,  886.,  639., 1230.,  482.,\n",
       "         124.]),\n",
       " array([2010. , 2010.9, 2011.8, 2012.7, 2013.6, 2014.5, 2015.4, 2016.3,\n",
       "        2017.2, 2018.1, 2019. ]),\n",
       " <BarContainer object of 10 artists>)"
      ]
     },
     "execution_count": 221,
     "metadata": {},
     "output_type": "execute_result"
    },
    {
     "data": {
      "image/png": "[encoded data removed]",
      "text/plain": [
       "<Figure size 640x480 with 1 Axes>"
      ]
     },
     "metadata": {},
     "output_type": "display_data"
    }
   ],
   "source": [
    "plt.hist(dados_numericos_ano['joiningyear'])"
   ]
  },
  {
   "cell_type": "code",
   "execution_count": 222,
   "metadata": {},
   "outputs": [
    {
     "data": {
      "text/plain": [
       "(2014.9630779848171, 2.1251645092389593)"
      ]
     },
     "execution_count": 222,
     "metadata": {},
     "output_type": "execute_result"
    }
   ],
   "source": [
    "media_ano = dados_numericos_ano['joiningyear'].mean()\n",
    "desvio_ano = dados_numericos_ano['joiningyear'].std()\n",
    "media_ano,desvio_ano"
   ]
  },
  {
   "cell_type": "code",
   "execution_count": 223,
   "metadata": {},
   "outputs": [],
   "source": [
    "def ano_aleatorio():\n",
    "    valor = np.random.normal(media_ano,desvio_ano)\n",
    "    valor = int(valor)\n",
    "    return str(valor)"
   ]
  },
  {
   "cell_type": "code",
   "execution_count": 224,
   "metadata": {},
   "outputs": [
    {
     "data": {
      "text/plain": [
       "'2013'"
      ]
     },
     "execution_count": 224,
     "metadata": {},
     "output_type": "execute_result"
    }
   ],
   "source": [
    "ano_aleatorio()"
   ]
  },
  {
   "cell_type": "code",
   "execution_count": 226,
   "metadata": {},
   "outputs": [
    {
     "data": {
      "text/plain": [
       "joiningyear\n",
       "2017           1238\n",
       "2015            904\n",
       "2014            847\n",
       "2013            770\n",
       "2016            656\n",
       "2012            617\n",
       "2018            487\n",
       "2011            129\n",
       "2019            125\n",
       "2010            123\n",
       "2009              2\n",
       "dtype: int64"
      ]
     },
     "execution_count": 226,
     "metadata": {},
     "output_type": "execute_result"
    }
   ],
   "source": [
    "coluna1['joiningyear'] = [ano_aleatorio() if x == 'Not available' else x for x in coluna1['joiningyear']]\n",
    "coluna1['joiningyear'] = coluna1['joiningyear'].astype(int)\n",
    "coluna1.value_counts()"
   ]
  },
  {
   "cell_type": "code",
   "execution_count": 228,
   "metadata": {},
   "outputs": [
    {
     "data": {
      "text/plain": [
       "2017             1230\n",
       "2015              886\n",
       "2014              832\n",
       "2013              751\n",
       "2016              639\n",
       "2012              607\n",
       "2018              482\n",
       "2011              125\n",
       "2019              124\n",
       "2010              120\n",
       "Not available     102\n",
       "Name: joiningyear, dtype: int64"
      ]
     },
     "execution_count": 228,
     "metadata": {},
     "output_type": "execute_result"
    }
   ],
   "source": [
    "dados.joiningyear.value_counts()"
   ]
  },
  {
   "attachments": {},
   "cell_type": "markdown",
   "metadata": {},
   "source": [
    "Normalização: baseado no máximo e no mínimo: máximo igual a 1, mínimo igual a 0"
   ]
  },
  {
   "cell_type": "code",
   "execution_count": 229,
   "metadata": {},
   "outputs": [
    {
     "data": {
      "text/plain": [
       "joiningyear\n",
       "0.8            1238\n",
       "0.6             904\n",
       "0.5             847\n",
       "0.4             770\n",
       "0.7             656\n",
       "0.3             617\n",
       "0.9             487\n",
       "0.2             129\n",
       "1.0             125\n",
       "0.1             123\n",
       "0.0               2\n",
       "dtype: int64"
      ]
     },
     "execution_count": 229,
     "metadata": {},
     "output_type": "execute_result"
    }
   ],
   "source": [
    "coluna1_normalizada = coluna1.copy()\n",
    "maximo = coluna1_normalizada['joiningyear'].max()\n",
    "minimo = coluna1_normalizada['joiningyear'].min()\n",
    "coluna1_normalizada['joiningyear'] = (coluna1_normalizada['joiningyear']-minimo)/(maximo-minimo)\n",
    "coluna1_normalizada.value_counts()"
   ]
  },
  {
   "attachments": {},
   "cell_type": "markdown",
   "metadata": {},
   "source": [
    "padronização: baseado na média e no desvio padrao"
   ]
  },
  {
   "cell_type": "code",
   "execution_count": 230,
   "metadata": {},
   "outputs": [
    {
     "data": {
      "text/plain": [
       " 0.963445    1238\n",
       " 0.022962     904\n",
       "-0.447279     847\n",
       "-0.917521     770\n",
       " 0.493203     656\n",
       "-1.387762     617\n",
       " 1.433686     487\n",
       "-1.858004     129\n",
       " 1.903928     125\n",
       "-2.328245     123\n",
       "-2.798486       2\n",
       "Name: joiningyear, dtype: int64"
      ]
     },
     "execution_count": 230,
     "metadata": {},
     "output_type": "execute_result"
    }
   ],
   "source": [
    "coluna1_padronizada = coluna1.copy()\n",
    "media = coluna1_padronizada['joiningyear'].mean()\n",
    "desvio = coluna1_padronizada['joiningyear'].std()\n",
    "coluna1_padronizada['joiningyear'] = (coluna1_padronizada['joiningyear']-media)/desvio\n",
    "coluna1_padronizada['joiningyear'].value_counts()\n"
   ]
  },
  {
   "attachments": {},
   "cell_type": "markdown",
   "metadata": {},
   "source": [
    "## Anotações sobre o que fazer em cada coluna:\n",
    "\n",
    "<li> experienceincurrentdomain - preencher valores não disponíveis - OK\n",
    "<li> everbenched - corrigir classes dados e encodar - OK\n",
    "<li> gender - corrigir classes e encodar dummy - OK\n",
    "<li> city - encodar dummy - OK\n",
    "<li> joiningyear - preencher valores não disponíveis e padronizar - OK\n",
    "<li> education - encodar ordinal\n",
    "\n",
    "### tratando education"
   ]
  },
  {
   "cell_type": "code",
   "execution_count": 231,
   "metadata": {},
   "outputs": [
    {
     "name": "stdout",
     "output_type": "stream",
     "text": [
      "<class 'pandas.core.frame.DataFrame'>\n",
      "RangeIndex: 5898 entries, 0 to 5897\n",
      "Data columns (total 9 columns):\n",
      " #   Column                     Non-Null Count  Dtype \n",
      "---  ------                     --------------  ----- \n",
      " 0   education                  5898 non-null   object\n",
      " 1   joiningyear                5898 non-null   object\n",
      " 2   city                       5898 non-null   object\n",
      " 3   paymenttier                5898 non-null   int64 \n",
      " 4   age                        5898 non-null   object\n",
      " 5   gender                     5898 non-null   object\n",
      " 6   everbenched                5898 non-null   object\n",
      " 7   experienceincurrentdomain  5898 non-null   object\n",
      " 8   leaveornot                 5898 non-null   int64 \n",
      "dtypes: int64(2), object(7)\n",
      "memory usage: 414.8+ KB\n"
     ]
    }
   ],
   "source": [
    "dados.info()"
   ]
  },
  {
   "cell_type": "code",
   "execution_count": 233,
   "metadata": {},
   "outputs": [
    {
     "data": {
      "text/plain": [
       "education  \n",
       "Bachelors      3729\n",
       "Masters        1000\n",
       "High School     851\n",
       "PHD             318\n",
       "dtype: int64"
      ]
     },
     "execution_count": 233,
     "metadata": {},
     "output_type": "execute_result"
    }
   ],
   "source": [
    "coluna0 = dados[['education']]\n",
    "coluna0.value_counts()"
   ]
  },
  {
   "cell_type": "code",
   "execution_count": 234,
   "metadata": {},
   "outputs": [
    {
     "data": {
      "text/plain": [
       "['Bachelors', 'High School', 'Masters', 'PHD']"
      ]
     },
     "execution_count": 234,
     "metadata": {},
     "output_type": "execute_result"
    }
   ],
   "source": [
    "lista_educacao = coluna0.education.unique().tolist()\n",
    "lista_educacao.sort()\n",
    "lista_educacao"
   ]
  },
  {
   "cell_type": "code",
   "execution_count": 237,
   "metadata": {},
   "outputs": [
    {
     "data": {
      "text/plain": [
       "[1, 0, 2, 3]"
      ]
     },
     "execution_count": 237,
     "metadata": {},
     "output_type": "execute_result"
    }
   ],
   "source": [
    "lista_valores = [1,0,2,3]\n",
    "lista_valores"
   ]
  },
  {
   "cell_type": "code",
   "execution_count": 239,
   "metadata": {},
   "outputs": [
    {
     "data": {
      "text/html": [
       "<div>\n",
       "<style scoped>\n",
       "    .dataframe tbody tr th:only-of-type {\n",
       "        vertical-align: middle;\n",
       "    }\n",
       "\n",
       "    .dataframe tbody tr th {\n",
       "        vertical-align: top;\n",
       "    }\n",
       "\n",
       "    .dataframe thead th {\n",
       "        text-align: right;\n",
       "    }\n",
       "</style>\n",
       "<table border=\"1\" class=\"dataframe\">\n",
       "  <thead>\n",
       "    <tr style=\"text-align: right;\">\n",
       "      <th></th>\n",
       "      <th>nome</th>\n",
       "      <th>valores</th>\n",
       "    </tr>\n",
       "  </thead>\n",
       "  <tbody>\n",
       "    <tr>\n",
       "      <th>0</th>\n",
       "      <td>Bachelors</td>\n",
       "      <td>1</td>\n",
       "    </tr>\n",
       "    <tr>\n",
       "      <th>1</th>\n",
       "      <td>High School</td>\n",
       "      <td>0</td>\n",
       "    </tr>\n",
       "    <tr>\n",
       "      <th>2</th>\n",
       "      <td>Masters</td>\n",
       "      <td>2</td>\n",
       "    </tr>\n",
       "    <tr>\n",
       "      <th>3</th>\n",
       "      <td>PHD</td>\n",
       "      <td>3</td>\n",
       "    </tr>\n",
       "  </tbody>\n",
       "</table>\n",
       "</div>"
      ],
      "text/plain": [
       "          nome  valores\n",
       "0    Bachelors        1\n",
       "1  High School        0\n",
       "2      Masters        2\n",
       "3          PHD        3"
      ]
     },
     "execution_count": 239,
     "metadata": {},
     "output_type": "execute_result"
    }
   ],
   "source": [
    "educacao = pd.DataFrame()\n",
    "educacao['nome'] = lista_educacao\n",
    "educacao['valores'] = lista_valores\n",
    "educacao"
   ]
  },
  {
   "cell_type": "code",
   "execution_count": 240,
   "metadata": {},
   "outputs": [
    {
     "data": {
      "text/plain": [
       "{'Bachelors': 1, 'High School': 0, 'Masters': 2, 'PHD': 3}"
      ]
     },
     "execution_count": 240,
     "metadata": {},
     "output_type": "execute_result"
    }
   ],
   "source": [
    "dc = pd.Series(\n",
    "    educacao.valores.values,\n",
    "    index = educacao.nome\n",
    ").to_dict()\n",
    "dc"
   ]
  },
  {
   "cell_type": "code",
   "execution_count": 241,
   "metadata": {},
   "outputs": [
    {
     "data": {
      "text/html": [
       "<div>\n",
       "<style scoped>\n",
       "    .dataframe tbody tr th:only-of-type {\n",
       "        vertical-align: middle;\n",
       "    }\n",
       "\n",
       "    .dataframe tbody tr th {\n",
       "        vertical-align: top;\n",
       "    }\n",
       "\n",
       "    .dataframe thead th {\n",
       "        text-align: right;\n",
       "    }\n",
       "</style>\n",
       "<table border=\"1\" class=\"dataframe\">\n",
       "  <thead>\n",
       "    <tr style=\"text-align: right;\">\n",
       "      <th></th>\n",
       "      <th>education</th>\n",
       "    </tr>\n",
       "  </thead>\n",
       "  <tbody>\n",
       "    <tr>\n",
       "      <th>0</th>\n",
       "      <td>Bachelors</td>\n",
       "    </tr>\n",
       "    <tr>\n",
       "      <th>1</th>\n",
       "      <td>Bachelors</td>\n",
       "    </tr>\n",
       "    <tr>\n",
       "      <th>2</th>\n",
       "      <td>Bachelors</td>\n",
       "    </tr>\n",
       "    <tr>\n",
       "      <th>3</th>\n",
       "      <td>Masters</td>\n",
       "    </tr>\n",
       "    <tr>\n",
       "      <th>4</th>\n",
       "      <td>Masters</td>\n",
       "    </tr>\n",
       "  </tbody>\n",
       "</table>\n",
       "</div>"
      ],
      "text/plain": [
       "   education\n",
       "0  Bachelors\n",
       "1  Bachelors\n",
       "2  Bachelors\n",
       "3    Masters\n",
       "4    Masters"
      ]
     },
     "execution_count": 241,
     "metadata": {},
     "output_type": "execute_result"
    }
   ],
   "source": [
    "coluna0.head(5)"
   ]
  },
  {
   "cell_type": "code",
   "execution_count": 242,
   "metadata": {},
   "outputs": [
    {
     "data": {
      "text/html": [
       "<div>\n",
       "<style scoped>\n",
       "    .dataframe tbody tr th:only-of-type {\n",
       "        vertical-align: middle;\n",
       "    }\n",
       "\n",
       "    .dataframe tbody tr th {\n",
       "        vertical-align: top;\n",
       "    }\n",
       "\n",
       "    .dataframe thead th {\n",
       "        text-align: right;\n",
       "    }\n",
       "</style>\n",
       "<table border=\"1\" class=\"dataframe\">\n",
       "  <thead>\n",
       "    <tr style=\"text-align: right;\">\n",
       "      <th></th>\n",
       "      <th>education</th>\n",
       "      <th>valor_educacao</th>\n",
       "    </tr>\n",
       "  </thead>\n",
       "  <tbody>\n",
       "    <tr>\n",
       "      <th>0</th>\n",
       "      <td>Bachelors</td>\n",
       "      <td>1</td>\n",
       "    </tr>\n",
       "    <tr>\n",
       "      <th>1</th>\n",
       "      <td>Bachelors</td>\n",
       "      <td>1</td>\n",
       "    </tr>\n",
       "    <tr>\n",
       "      <th>2</th>\n",
       "      <td>Bachelors</td>\n",
       "      <td>1</td>\n",
       "    </tr>\n",
       "    <tr>\n",
       "      <th>3</th>\n",
       "      <td>Masters</td>\n",
       "      <td>2</td>\n",
       "    </tr>\n",
       "    <tr>\n",
       "      <th>4</th>\n",
       "      <td>Masters</td>\n",
       "      <td>2</td>\n",
       "    </tr>\n",
       "    <tr>\n",
       "      <th>...</th>\n",
       "      <td>...</td>\n",
       "      <td>...</td>\n",
       "    </tr>\n",
       "    <tr>\n",
       "      <th>5893</th>\n",
       "      <td>Bachelors</td>\n",
       "      <td>1</td>\n",
       "    </tr>\n",
       "    <tr>\n",
       "      <th>5894</th>\n",
       "      <td>High School</td>\n",
       "      <td>0</td>\n",
       "    </tr>\n",
       "    <tr>\n",
       "      <th>5895</th>\n",
       "      <td>High School</td>\n",
       "      <td>0</td>\n",
       "    </tr>\n",
       "    <tr>\n",
       "      <th>5896</th>\n",
       "      <td>High School</td>\n",
       "      <td>0</td>\n",
       "    </tr>\n",
       "    <tr>\n",
       "      <th>5897</th>\n",
       "      <td>PHD</td>\n",
       "      <td>3</td>\n",
       "    </tr>\n",
       "  </tbody>\n",
       "</table>\n",
       "<p>5898 rows × 2 columns</p>\n",
       "</div>"
      ],
      "text/plain": [
       "        education  valor_educacao\n",
       "0       Bachelors               1\n",
       "1       Bachelors               1\n",
       "2       Bachelors               1\n",
       "3         Masters               2\n",
       "4         Masters               2\n",
       "...           ...             ...\n",
       "5893    Bachelors               1\n",
       "5894  High School               0\n",
       "5895  High School               0\n",
       "5896  High School               0\n",
       "5897          PHD               3\n",
       "\n",
       "[5898 rows x 2 columns]"
      ]
     },
     "execution_count": 242,
     "metadata": {},
     "output_type": "execute_result"
    }
   ],
   "source": [
    "coluna0['valor_educacao'] = coluna0.education.map(dc)\n",
    "coluna0"
   ]
  },
  {
   "cell_type": "code",
   "execution_count": 244,
   "metadata": {},
   "outputs": [
    {
     "data": {
      "text/html": [
       "<div>\n",
       "<style scoped>\n",
       "    .dataframe tbody tr th:only-of-type {\n",
       "        vertical-align: middle;\n",
       "    }\n",
       "\n",
       "    .dataframe tbody tr th {\n",
       "        vertical-align: top;\n",
       "    }\n",
       "\n",
       "    .dataframe thead th {\n",
       "        text-align: right;\n",
       "    }\n",
       "</style>\n",
       "<table border=\"1\" class=\"dataframe\">\n",
       "  <thead>\n",
       "    <tr style=\"text-align: right;\">\n",
       "      <th></th>\n",
       "      <th>valor_educacao</th>\n",
       "    </tr>\n",
       "  </thead>\n",
       "  <tbody>\n",
       "    <tr>\n",
       "      <th>0</th>\n",
       "      <td>1</td>\n",
       "    </tr>\n",
       "    <tr>\n",
       "      <th>1</th>\n",
       "      <td>1</td>\n",
       "    </tr>\n",
       "    <tr>\n",
       "      <th>2</th>\n",
       "      <td>1</td>\n",
       "    </tr>\n",
       "    <tr>\n",
       "      <th>3</th>\n",
       "      <td>2</td>\n",
       "    </tr>\n",
       "    <tr>\n",
       "      <th>4</th>\n",
       "      <td>2</td>\n",
       "    </tr>\n",
       "    <tr>\n",
       "      <th>...</th>\n",
       "      <td>...</td>\n",
       "    </tr>\n",
       "    <tr>\n",
       "      <th>5893</th>\n",
       "      <td>1</td>\n",
       "    </tr>\n",
       "    <tr>\n",
       "      <th>5894</th>\n",
       "      <td>0</td>\n",
       "    </tr>\n",
       "    <tr>\n",
       "      <th>5895</th>\n",
       "      <td>0</td>\n",
       "    </tr>\n",
       "    <tr>\n",
       "      <th>5896</th>\n",
       "      <td>0</td>\n",
       "    </tr>\n",
       "    <tr>\n",
       "      <th>5897</th>\n",
       "      <td>3</td>\n",
       "    </tr>\n",
       "  </tbody>\n",
       "</table>\n",
       "<p>5898 rows × 1 columns</p>\n",
       "</div>"
      ],
      "text/plain": [
       "      valor_educacao\n",
       "0                  1\n",
       "1                  1\n",
       "2                  1\n",
       "3                  2\n",
       "4                  2\n",
       "...              ...\n",
       "5893               1\n",
       "5894               0\n",
       "5895               0\n",
       "5896               0\n",
       "5897               3\n",
       "\n",
       "[5898 rows x 1 columns]"
      ]
     },
     "execution_count": 244,
     "metadata": {},
     "output_type": "execute_result"
    }
   ],
   "source": [
    "coluna0 = coluna0[['valor_educacao']]\n",
    "coluna0"
   ]
  },
  {
   "attachments": {},
   "cell_type": "markdown",
   "metadata": {},
   "source": [
    "## Anotações sobre o que fazer em cada coluna:\n",
    "\n",
    "<li> experienceincurrentdomain - preencher valores não disponíveis - OK - coluna7\n",
    "<li> everbenched - corrigir classes dados e encodar - OK - coluna6\n",
    "<li> gender - corrigir classes e encodar dummy - OK - coluna5\n",
    "<li> city - encodar dummy - OK - coluna2\n",
    "<li> joiningyear - preencher valores não disponíveis e padronizar - OK - coluna1\n",
    "<li> education - encodar ordinal - OK - coluna0\n",
    "\n",
    "### remontando o dataframe\n",
    "\n",
    "Foi esquecido de tratar a coluna \"age\""
   ]
  },
  {
   "cell_type": "code",
   "execution_count": 251,
   "metadata": {},
   "outputs": [
    {
     "name": "stdout",
     "output_type": "stream",
     "text": [
      "<class 'pandas.core.frame.DataFrame'>\n",
      "RangeIndex: 5898 entries, 0 to 5897\n",
      "Data columns (total 9 columns):\n",
      " #   Column                     Non-Null Count  Dtype \n",
      "---  ------                     --------------  ----- \n",
      " 0   education                  5898 non-null   object\n",
      " 1   joiningyear                5898 non-null   object\n",
      " 2   city                       5898 non-null   object\n",
      " 3   paymenttier                5898 non-null   int64 \n",
      " 4   age                        5898 non-null   object\n",
      " 5   gender                     5898 non-null   object\n",
      " 6   everbenched                5898 non-null   object\n",
      " 7   experienceincurrentdomain  5898 non-null   object\n",
      " 8   leaveornot                 5898 non-null   int64 \n",
      "dtypes: int64(2), object(7)\n",
      "memory usage: 414.8+ KB\n"
     ]
    }
   ],
   "source": [
    "dados.info()"
   ]
  },
  {
   "cell_type": "code",
   "execution_count": 260,
   "metadata": {},
   "outputs": [
    {
     "data": {
      "text/plain": [
       "age          \n",
       "26               675\n",
       "28               660\n",
       "27               655\n",
       "25               457\n",
       "24               438\n",
       "29               269\n",
       "30               246\n",
       "36               185\n",
       "37               179\n",
       "39               179\n",
       "32               176\n",
       "34               176\n",
       "33               173\n",
       "38               173\n",
       "40               168\n",
       "35               168\n",
       "31               158\n",
       "Not available    126\n",
       "41               113\n",
       "23               106\n",
       "22                99\n",
       "45                53\n",
       "21                52\n",
       "20                47\n",
       "43                44\n",
       "48                43\n",
       "46                41\n",
       "49                39\n",
       "dtype: int64"
      ]
     },
     "execution_count": 260,
     "metadata": {},
     "output_type": "execute_result"
    }
   ],
   "source": [
    "coluna4 = dados[['age']]\n",
    "coluna4.value_counts()"
   ]
  },
  {
   "cell_type": "code",
   "execution_count": 261,
   "metadata": {},
   "outputs": [
    {
     "data": {
      "text/plain": [
       "(array([ 198., 1001., 1990.,  673.,  525.,  532.,  520.,  157.,   94.,\n",
       "          82.]),\n",
       " array([20. , 22.9, 25.8, 28.7, 31.6, 34.5, 37.4, 40.3, 43.2, 46.1, 49. ]),\n",
       " <BarContainer object of 10 artists>)"
      ]
     },
     "execution_count": 261,
     "metadata": {},
     "output_type": "execute_result"
    },
    {
     "data": {
      "image/png": "[encoded data removed]",
      "text/plain": [
       "<Figure size 640x480 with 1 Axes>"
      ]
     },
     "metadata": {},
     "output_type": "display_data"
    }
   ],
   "source": [
    "dados_numericos_age = coluna4[coluna4.age!='Not available']\n",
    "dados_numericos_age['age'] = dados_numericos_age['age'].astype(int)\n",
    "plt.hist(dados_numericos_age['age'])"
   ]
  },
  {
   "cell_type": "code",
   "execution_count": 262,
   "metadata": {},
   "outputs": [],
   "source": [
    "def idade_aleatoria():\n",
    "    valor = np.random.normal(dados_numericos_age['age'].mean(),dados_numericos_age['age'].std())\n",
    "    valor = int(valor)\n",
    "    return str(valor)"
   ]
  },
  {
   "cell_type": "code",
   "execution_count": 263,
   "metadata": {},
   "outputs": [
    {
     "data": {
      "text/plain": [
       "'24'"
      ]
     },
     "execution_count": 263,
     "metadata": {},
     "output_type": "execute_result"
    }
   ],
   "source": [
    "idade_aleatoria()"
   ]
  },
  {
   "cell_type": "code",
   "execution_count": 264,
   "metadata": {},
   "outputs": [
    {
     "data": {
      "text/plain": [
       "age\n",
       "26     685\n",
       "28     668\n",
       "27     666\n",
       "25     463\n",
       "24     443\n",
       "29     277\n",
       "30     255\n",
       "36     190\n",
       "32     183\n",
       "34     182\n",
       "37     182\n",
       "39     181\n",
       "38     178\n",
       "33     177\n",
       "35     175\n",
       "40     171\n",
       "31     170\n",
       "41     113\n",
       "23     110\n",
       "22     102\n",
       "45      54\n",
       "21      53\n",
       "20      51\n",
       "43      44\n",
       "48      43\n",
       "46      41\n",
       "49      39\n",
       "19       1\n",
       "18       1\n",
       "dtype: int64"
      ]
     },
     "execution_count": 264,
     "metadata": {},
     "output_type": "execute_result"
    }
   ],
   "source": [
    "coluna4['age'] = [idade_aleatoria() if x == 'Not available' else x for x in coluna4['age']]\n",
    "coluna4['age'] = coluna4['age'].astype(int)\n",
    "coluna4.value_counts()"
   ]
  },
  {
   "cell_type": "code",
   "execution_count": 265,
   "metadata": {},
   "outputs": [
    {
     "data": {
      "text/plain": [
       "age     \n",
       "0.258065    685\n",
       "0.322581    668\n",
       "0.290323    666\n",
       "0.225806    463\n",
       "0.193548    443\n",
       "0.354839    277\n",
       "0.387097    255\n",
       "0.580645    190\n",
       "0.451613    183\n",
       "0.516129    182\n",
       "0.612903    182\n",
       "0.677419    181\n",
       "0.645161    178\n",
       "0.483871    177\n",
       "0.548387    175\n",
       "0.709677    171\n",
       "0.419355    170\n",
       "0.741935    113\n",
       "0.161290    110\n",
       "0.129032    102\n",
       "0.870968     54\n",
       "0.096774     53\n",
       "0.064516     51\n",
       "0.806452     44\n",
       "0.967742     43\n",
       "0.903226     41\n",
       "1.000000     39\n",
       "0.032258      1\n",
       "0.000000      1\n",
       "dtype: int64"
      ]
     },
     "execution_count": 265,
     "metadata": {},
     "output_type": "execute_result"
    }
   ],
   "source": [
    "age_max = coluna4['age'].max()\n",
    "age_min = coluna4['age'].min()\n",
    "coluna4['age'] = (coluna4['age']-age_min)/(age_max-age_min)\n",
    "coluna4.value_counts()"
   ]
  },
  {
   "attachments": {},
   "cell_type": "markdown",
   "metadata": {},
   "source": [
    "## Anotações sobre o que fazer em cada coluna:\n",
    "\n",
    "<li> experienceincurrentdomain - preencher valores não disponíveis - OK - coluna7\n",
    "<li> everbenched - corrigir classes dados e encodar - OK - coluna6\n",
    "<li> gender - corrigir classes e encodar dummy - OK - coluna5\n",
    "<li> age - preencher valores não disponíveis  e padronizar - OK - coluna 4\n",
    "<li> city - encodar dummy - OK - coluna2\n",
    "<li> joiningyear - preencher valores não disponíveis e padronizar - OK - coluna1\n",
    "<li> education - encodar ordinal - OK - coluna0\n",
    "\n",
    "### remontando o dataframe\n",
    "\n",
    "colunas não alteradas: 8 e 3"
   ]
  },
  {
   "cell_type": "code",
   "execution_count": 279,
   "metadata": {},
   "outputs": [
    {
     "data": {
      "text/plain": [
       "Index(['education', 'joiningyear', 'city', 'paymenttier', 'age', 'gender',\n",
       "       'everbenched', 'experienceincurrentdomain', 'leaveornot'],\n",
       "      dtype='object')"
      ]
     },
     "execution_count": 279,
     "metadata": {},
     "output_type": "execute_result"
    }
   ],
   "source": [
    "dados.columns"
   ]
  },
  {
   "cell_type": "code",
   "execution_count": 302,
   "metadata": {},
   "outputs": [],
   "source": [
    "novo_dataframe = pd.concat([\n",
    "    coluna0,\n",
    "    coluna1_normalizada,\n",
    "    coluna2,\n",
    "    dados[['paymenttier']],\n",
    "    coluna4,\n",
    "    coluna5,\n",
    "    coluna6,\n",
    "    coluna7,\n",
    "    dados[['leaveornot']]\n",
    "],axis=1)"
   ]
  },
  {
   "cell_type": "code",
   "execution_count": 303,
   "metadata": {},
   "outputs": [
    {
     "data": {
      "text/html": [
       "<div>\n",
       "<style scoped>\n",
       "    .dataframe tbody tr th:only-of-type {\n",
       "        vertical-align: middle;\n",
       "    }\n",
       "\n",
       "    .dataframe tbody tr th {\n",
       "        vertical-align: top;\n",
       "    }\n",
       "\n",
       "    .dataframe thead th {\n",
       "        text-align: right;\n",
       "    }\n",
       "</style>\n",
       "<table border=\"1\" class=\"dataframe\">\n",
       "  <thead>\n",
       "    <tr style=\"text-align: right;\">\n",
       "      <th></th>\n",
       "      <th>valor_educacao</th>\n",
       "      <th>joiningyear</th>\n",
       "      <th>city_Ahmedabad</th>\n",
       "      <th>city_Bangalore</th>\n",
       "      <th>city_Chennai</th>\n",
       "      <th>city_Hyderabad</th>\n",
       "      <th>city_Mumbai</th>\n",
       "      <th>city_New Delhi</th>\n",
       "      <th>city_Pune</th>\n",
       "      <th>paymenttier</th>\n",
       "      <th>age</th>\n",
       "      <th>gender_Female</th>\n",
       "      <th>gender_Male</th>\n",
       "      <th>everbenched</th>\n",
       "      <th>experienceincurrentdomain</th>\n",
       "      <th>leaveornot</th>\n",
       "    </tr>\n",
       "  </thead>\n",
       "  <tbody>\n",
       "    <tr>\n",
       "      <th>0</th>\n",
       "      <td>1</td>\n",
       "      <td>0.8</td>\n",
       "      <td>0</td>\n",
       "      <td>1</td>\n",
       "      <td>0</td>\n",
       "      <td>0</td>\n",
       "      <td>0</td>\n",
       "      <td>0</td>\n",
       "      <td>0</td>\n",
       "      <td>3</td>\n",
       "      <td>0.516129</td>\n",
       "      <td>0</td>\n",
       "      <td>1</td>\n",
       "      <td>0</td>\n",
       "      <td>0</td>\n",
       "      <td>0</td>\n",
       "    </tr>\n",
       "    <tr>\n",
       "      <th>1</th>\n",
       "      <td>1</td>\n",
       "      <td>0.4</td>\n",
       "      <td>0</td>\n",
       "      <td>0</td>\n",
       "      <td>0</td>\n",
       "      <td>0</td>\n",
       "      <td>0</td>\n",
       "      <td>0</td>\n",
       "      <td>1</td>\n",
       "      <td>1</td>\n",
       "      <td>0.322581</td>\n",
       "      <td>1</td>\n",
       "      <td>0</td>\n",
       "      <td>0</td>\n",
       "      <td>3</td>\n",
       "      <td>1</td>\n",
       "    </tr>\n",
       "    <tr>\n",
       "      <th>2</th>\n",
       "      <td>1</td>\n",
       "      <td>0.5</td>\n",
       "      <td>0</td>\n",
       "      <td>0</td>\n",
       "      <td>0</td>\n",
       "      <td>0</td>\n",
       "      <td>0</td>\n",
       "      <td>1</td>\n",
       "      <td>0</td>\n",
       "      <td>3</td>\n",
       "      <td>0.645161</td>\n",
       "      <td>1</td>\n",
       "      <td>0</td>\n",
       "      <td>0</td>\n",
       "      <td>2</td>\n",
       "      <td>0</td>\n",
       "    </tr>\n",
       "    <tr>\n",
       "      <th>3</th>\n",
       "      <td>2</td>\n",
       "      <td>0.7</td>\n",
       "      <td>0</td>\n",
       "      <td>1</td>\n",
       "      <td>0</td>\n",
       "      <td>0</td>\n",
       "      <td>0</td>\n",
       "      <td>0</td>\n",
       "      <td>0</td>\n",
       "      <td>3</td>\n",
       "      <td>0.290323</td>\n",
       "      <td>0</td>\n",
       "      <td>1</td>\n",
       "      <td>0</td>\n",
       "      <td>5</td>\n",
       "      <td>1</td>\n",
       "    </tr>\n",
       "    <tr>\n",
       "      <th>4</th>\n",
       "      <td>2</td>\n",
       "      <td>0.8</td>\n",
       "      <td>0</td>\n",
       "      <td>0</td>\n",
       "      <td>0</td>\n",
       "      <td>0</td>\n",
       "      <td>0</td>\n",
       "      <td>0</td>\n",
       "      <td>1</td>\n",
       "      <td>3</td>\n",
       "      <td>0.193548</td>\n",
       "      <td>0</td>\n",
       "      <td>1</td>\n",
       "      <td>0</td>\n",
       "      <td>2</td>\n",
       "      <td>1</td>\n",
       "    </tr>\n",
       "    <tr>\n",
       "      <th>...</th>\n",
       "      <td>...</td>\n",
       "      <td>...</td>\n",
       "      <td>...</td>\n",
       "      <td>...</td>\n",
       "      <td>...</td>\n",
       "      <td>...</td>\n",
       "      <td>...</td>\n",
       "      <td>...</td>\n",
       "      <td>...</td>\n",
       "      <td>...</td>\n",
       "      <td>...</td>\n",
       "      <td>...</td>\n",
       "      <td>...</td>\n",
       "      <td>...</td>\n",
       "      <td>...</td>\n",
       "      <td>...</td>\n",
       "    </tr>\n",
       "    <tr>\n",
       "      <th>5893</th>\n",
       "      <td>1</td>\n",
       "      <td>0.3</td>\n",
       "      <td>0</td>\n",
       "      <td>0</td>\n",
       "      <td>0</td>\n",
       "      <td>1</td>\n",
       "      <td>0</td>\n",
       "      <td>0</td>\n",
       "      <td>0</td>\n",
       "      <td>3</td>\n",
       "      <td>0.451613</td>\n",
       "      <td>1</td>\n",
       "      <td>0</td>\n",
       "      <td>0</td>\n",
       "      <td>2</td>\n",
       "      <td>1</td>\n",
       "    </tr>\n",
       "    <tr>\n",
       "      <th>5894</th>\n",
       "      <td>0</td>\n",
       "      <td>0.8</td>\n",
       "      <td>0</td>\n",
       "      <td>1</td>\n",
       "      <td>0</td>\n",
       "      <td>0</td>\n",
       "      <td>0</td>\n",
       "      <td>0</td>\n",
       "      <td>0</td>\n",
       "      <td>3</td>\n",
       "      <td>0.354839</td>\n",
       "      <td>0</td>\n",
       "      <td>1</td>\n",
       "      <td>0</td>\n",
       "      <td>2</td>\n",
       "      <td>0</td>\n",
       "    </tr>\n",
       "    <tr>\n",
       "      <th>5895</th>\n",
       "      <td>0</td>\n",
       "      <td>0.4</td>\n",
       "      <td>0</td>\n",
       "      <td>0</td>\n",
       "      <td>0</td>\n",
       "      <td>0</td>\n",
       "      <td>0</td>\n",
       "      <td>1</td>\n",
       "      <td>0</td>\n",
       "      <td>3</td>\n",
       "      <td>0.225806</td>\n",
       "      <td>1</td>\n",
       "      <td>0</td>\n",
       "      <td>0</td>\n",
       "      <td>5</td>\n",
       "      <td>1</td>\n",
       "    </tr>\n",
       "    <tr>\n",
       "      <th>5896</th>\n",
       "      <td>0</td>\n",
       "      <td>0.2</td>\n",
       "      <td>1</td>\n",
       "      <td>0</td>\n",
       "      <td>0</td>\n",
       "      <td>0</td>\n",
       "      <td>0</td>\n",
       "      <td>0</td>\n",
       "      <td>0</td>\n",
       "      <td>3</td>\n",
       "      <td>0.354839</td>\n",
       "      <td>0</td>\n",
       "      <td>1</td>\n",
       "      <td>0</td>\n",
       "      <td>5</td>\n",
       "      <td>0</td>\n",
       "    </tr>\n",
       "    <tr>\n",
       "      <th>5897</th>\n",
       "      <td>3</td>\n",
       "      <td>0.5</td>\n",
       "      <td>1</td>\n",
       "      <td>0</td>\n",
       "      <td>0</td>\n",
       "      <td>0</td>\n",
       "      <td>0</td>\n",
       "      <td>0</td>\n",
       "      <td>0</td>\n",
       "      <td>3</td>\n",
       "      <td>0.548387</td>\n",
       "      <td>0</td>\n",
       "      <td>1</td>\n",
       "      <td>0</td>\n",
       "      <td>5</td>\n",
       "      <td>1</td>\n",
       "    </tr>\n",
       "  </tbody>\n",
       "</table>\n",
       "<p>5898 rows × 16 columns</p>\n",
       "</div>"
      ],
      "text/plain": [
       "      valor_educacao  joiningyear  city_Ahmedabad  city_Bangalore  \\\n",
       "0                  1          0.8               0               1   \n",
       "1                  1          0.4               0               0   \n",
       "2                  1          0.5               0               0   \n",
       "3                  2          0.7               0               1   \n",
       "4                  2          0.8               0               0   \n",
       "...              ...          ...             ...             ...   \n",
       "5893               1          0.3               0               0   \n",
       "5894               0          0.8               0               1   \n",
       "5895               0          0.4               0               0   \n",
       "5896               0          0.2               1               0   \n",
       "5897               3          0.5               1               0   \n",
       "\n",
       "      city_Chennai  city_Hyderabad  city_Mumbai  city_New Delhi  city_Pune  \\\n",
       "0                0               0            0               0          0   \n",
       "1                0               0            0               0          1   \n",
       "2                0               0            0               1          0   \n",
       "3                0               0            0               0          0   \n",
       "4                0               0            0               0          1   \n",
       "...            ...             ...          ...             ...        ...   \n",
       "5893             0               1            0               0          0   \n",
       "5894             0               0            0               0          0   \n",
       "5895             0               0            0               1          0   \n",
       "5896             0               0            0               0          0   \n",
       "5897             0               0            0               0          0   \n",
       "\n",
       "      paymenttier       age  gender_Female  gender_Male  everbenched  \\\n",
       "0               3  0.516129              0            1            0   \n",
       "1               1  0.322581              1            0            0   \n",
       "2               3  0.645161              1            0            0   \n",
       "3               3  0.290323              0            1            0   \n",
       "4               3  0.193548              0            1            0   \n",
       "...           ...       ...            ...          ...          ...   \n",
       "5893            3  0.451613              1            0            0   \n",
       "5894            3  0.354839              0            1            0   \n",
       "5895            3  0.225806              1            0            0   \n",
       "5896            3  0.354839              0            1            0   \n",
       "5897            3  0.548387              0            1            0   \n",
       "\n",
       "      experienceincurrentdomain  leaveornot  \n",
       "0                             0           0  \n",
       "1                             3           1  \n",
       "2                             2           0  \n",
       "3                             5           1  \n",
       "4                             2           1  \n",
       "...                         ...         ...  \n",
       "5893                          2           1  \n",
       "5894                          2           0  \n",
       "5895                          5           1  \n",
       "5896                          5           0  \n",
       "5897                          5           1  \n",
       "\n",
       "[5898 rows x 16 columns]"
      ]
     },
     "execution_count": 303,
     "metadata": {},
     "output_type": "execute_result"
    }
   ],
   "source": [
    "novo_dataframe"
   ]
  },
  {
   "cell_type": "code",
   "execution_count": null,
   "metadata": {},
   "outputs": [],
   "source": []
  }
 ],
 "metadata": {
  "kernelspec": {
   "display_name": "base",
   "language": "python",
   "name": "python3"
  },
  "language_info": {
   "codemirror_mode": {
    "name": "ipython",
    "version": 3
   },
   "file_extension": ".py",
   "mimetype": "text/x-python",
   "name": "python",
   "nbconvert_exporter": "python",
   "pygments_lexer": "ipython3",
   "version": "3.9.13"
  },
  "orig_nbformat": 4
 },
 "nbformat": 4,
 "nbformat_minor": 2
}
