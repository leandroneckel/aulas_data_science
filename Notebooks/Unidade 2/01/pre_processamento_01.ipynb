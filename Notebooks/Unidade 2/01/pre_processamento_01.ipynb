{
 "cells": [
  {
   "cell_type": "code",
   "execution_count": 30,
   "metadata": {},
   "outputs": [],
   "source": [
    "import warnings\n",
    "warnings.filterwarnings('ignore')"
   ]
  },
  {
   "attachments": {},
   "cell_type": "markdown",
   "metadata": {},
   "source": [
    "# Pré-processamento de dados\n",
    "## abertura da base de dados"
   ]
  },
  {
   "cell_type": "code",
   "execution_count": 31,
   "metadata": {},
   "outputs": [],
   "source": [
    "import pandas as pd\n",
    "dados = pd.read_csv('base_preprocessamento_01.csv')\n",
    "dados.columns = [x.lower() for x in dados.columns]"
   ]
  },
  {
   "cell_type": "code",
   "execution_count": 32,
   "metadata": {},
   "outputs": [
    {
     "data": {
      "text/html": [
       "<div>\n",
       "<style scoped>\n",
       "    .dataframe tbody tr th:only-of-type {\n",
       "        vertical-align: middle;\n",
       "    }\n",
       "\n",
       "    .dataframe tbody tr th {\n",
       "        vertical-align: top;\n",
       "    }\n",
       "\n",
       "    .dataframe thead th {\n",
       "        text-align: right;\n",
       "    }\n",
       "</style>\n",
       "<table border=\"1\" class=\"dataframe\">\n",
       "  <thead>\n",
       "    <tr style=\"text-align: right;\">\n",
       "      <th></th>\n",
       "      <th>education</th>\n",
       "      <th>joiningyear</th>\n",
       "      <th>city</th>\n",
       "      <th>paymenttier</th>\n",
       "      <th>age</th>\n",
       "      <th>gender</th>\n",
       "      <th>everbenched</th>\n",
       "      <th>experienceincurrentdomain</th>\n",
       "      <th>leaveornot</th>\n",
       "    </tr>\n",
       "  </thead>\n",
       "  <tbody>\n",
       "    <tr>\n",
       "      <th>0</th>\n",
       "      <td>Bachelors</td>\n",
       "      <td>2017</td>\n",
       "      <td>Bangalore</td>\n",
       "      <td>3</td>\n",
       "      <td>34</td>\n",
       "      <td>Male</td>\n",
       "      <td>No</td>\n",
       "      <td>0</td>\n",
       "      <td>0</td>\n",
       "    </tr>\n",
       "    <tr>\n",
       "      <th>1</th>\n",
       "      <td>Bachelors</td>\n",
       "      <td>2013</td>\n",
       "      <td>Pune</td>\n",
       "      <td>1</td>\n",
       "      <td>28</td>\n",
       "      <td>Female</td>\n",
       "      <td>No</td>\n",
       "      <td>3</td>\n",
       "      <td>1</td>\n",
       "    </tr>\n",
       "    <tr>\n",
       "      <th>2</th>\n",
       "      <td>Bachelors</td>\n",
       "      <td>2014</td>\n",
       "      <td>New Delhi</td>\n",
       "      <td>3</td>\n",
       "      <td>38</td>\n",
       "      <td>Female</td>\n",
       "      <td>No</td>\n",
       "      <td>2</td>\n",
       "      <td>0</td>\n",
       "    </tr>\n",
       "    <tr>\n",
       "      <th>3</th>\n",
       "      <td>Masters</td>\n",
       "      <td>2016</td>\n",
       "      <td>Bangalore</td>\n",
       "      <td>3</td>\n",
       "      <td>27</td>\n",
       "      <td>Male</td>\n",
       "      <td>No</td>\n",
       "      <td>5</td>\n",
       "      <td>1</td>\n",
       "    </tr>\n",
       "    <tr>\n",
       "      <th>4</th>\n",
       "      <td>Masters</td>\n",
       "      <td>2017</td>\n",
       "      <td>Pune</td>\n",
       "      <td>3</td>\n",
       "      <td>24</td>\n",
       "      <td>Male</td>\n",
       "      <td>no</td>\n",
       "      <td>2</td>\n",
       "      <td>1</td>\n",
       "    </tr>\n",
       "    <tr>\n",
       "      <th>...</th>\n",
       "      <td>...</td>\n",
       "      <td>...</td>\n",
       "      <td>...</td>\n",
       "      <td>...</td>\n",
       "      <td>...</td>\n",
       "      <td>...</td>\n",
       "      <td>...</td>\n",
       "      <td>...</td>\n",
       "      <td>...</td>\n",
       "    </tr>\n",
       "    <tr>\n",
       "      <th>5893</th>\n",
       "      <td>Bachelors</td>\n",
       "      <td>2012</td>\n",
       "      <td>Hyderabad</td>\n",
       "      <td>3</td>\n",
       "      <td>32</td>\n",
       "      <td>Female</td>\n",
       "      <td>no</td>\n",
       "      <td>2</td>\n",
       "      <td>1</td>\n",
       "    </tr>\n",
       "    <tr>\n",
       "      <th>5894</th>\n",
       "      <td>High School</td>\n",
       "      <td>2017</td>\n",
       "      <td>Bangalore</td>\n",
       "      <td>3</td>\n",
       "      <td>29</td>\n",
       "      <td>Male</td>\n",
       "      <td>No</td>\n",
       "      <td>2</td>\n",
       "      <td>0</td>\n",
       "    </tr>\n",
       "    <tr>\n",
       "      <th>5895</th>\n",
       "      <td>High School</td>\n",
       "      <td>2013</td>\n",
       "      <td>New Delhi</td>\n",
       "      <td>3</td>\n",
       "      <td>25</td>\n",
       "      <td>Female</td>\n",
       "      <td>No</td>\n",
       "      <td>5</td>\n",
       "      <td>1</td>\n",
       "    </tr>\n",
       "    <tr>\n",
       "      <th>5896</th>\n",
       "      <td>High School</td>\n",
       "      <td>2011</td>\n",
       "      <td>Ahmedabad</td>\n",
       "      <td>3</td>\n",
       "      <td>29</td>\n",
       "      <td>Male</td>\n",
       "      <td>No</td>\n",
       "      <td>5</td>\n",
       "      <td>0</td>\n",
       "    </tr>\n",
       "    <tr>\n",
       "      <th>5897</th>\n",
       "      <td>PHD</td>\n",
       "      <td>2014</td>\n",
       "      <td>Ahmedabad</td>\n",
       "      <td>3</td>\n",
       "      <td>35</td>\n",
       "      <td>Male</td>\n",
       "      <td>No</td>\n",
       "      <td>5</td>\n",
       "      <td>1</td>\n",
       "    </tr>\n",
       "  </tbody>\n",
       "</table>\n",
       "<p>5898 rows × 9 columns</p>\n",
       "</div>"
      ],
      "text/plain": [
       "        education joiningyear       city  paymenttier age  gender everbenched  \\\n",
       "0       Bachelors        2017  Bangalore            3  34    Male          No   \n",
       "1       Bachelors        2013       Pune            1  28  Female          No   \n",
       "2       Bachelors        2014  New Delhi            3  38  Female          No   \n",
       "3         Masters        2016  Bangalore            3  27    Male          No   \n",
       "4         Masters        2017       Pune            3  24    Male          no   \n",
       "...           ...         ...        ...          ...  ..     ...         ...   \n",
       "5893    Bachelors        2012  Hyderabad            3  32  Female          no   \n",
       "5894  High School        2017  Bangalore            3  29    Male          No   \n",
       "5895  High School        2013  New Delhi            3  25  Female          No   \n",
       "5896  High School        2011  Ahmedabad            3  29    Male          No   \n",
       "5897          PHD        2014  Ahmedabad            3  35    Male          No   \n",
       "\n",
       "     experienceincurrentdomain  leaveornot  \n",
       "0                            0           0  \n",
       "1                            3           1  \n",
       "2                            2           0  \n",
       "3                            5           1  \n",
       "4                            2           1  \n",
       "...                        ...         ...  \n",
       "5893                         2           1  \n",
       "5894                         2           0  \n",
       "5895                         5           1  \n",
       "5896                         5           0  \n",
       "5897                         5           1  \n",
       "\n",
       "[5898 rows x 9 columns]"
      ]
     },
     "execution_count": 32,
     "metadata": {},
     "output_type": "execute_result"
    }
   ],
   "source": [
    "dados"
   ]
  },
  {
   "cell_type": "code",
   "execution_count": 33,
   "metadata": {},
   "outputs": [
    {
     "name": "stdout",
     "output_type": "stream",
     "text": [
      "<class 'pandas.core.frame.DataFrame'>\n",
      "RangeIndex: 5898 entries, 0 to 5897\n",
      "Data columns (total 9 columns):\n",
      " #   Column                     Non-Null Count  Dtype \n",
      "---  ------                     --------------  ----- \n",
      " 0   education                  5898 non-null   object\n",
      " 1   joiningyear                5898 non-null   object\n",
      " 2   city                       5898 non-null   object\n",
      " 3   paymenttier                5898 non-null   int64 \n",
      " 4   age                        5898 non-null   object\n",
      " 5   gender                     5898 non-null   object\n",
      " 6   everbenched                5898 non-null   object\n",
      " 7   experienceincurrentdomain  5898 non-null   object\n",
      " 8   leaveornot                 5898 non-null   int64 \n",
      "dtypes: int64(2), object(7)\n",
      "memory usage: 414.8+ KB\n"
     ]
    }
   ],
   "source": [
    "dados.info()"
   ]
  },
  {
   "attachments": {},
   "cell_type": "markdown",
   "metadata": {},
   "source": [
    "## Verificando os atributos do dataframe"
   ]
  },
  {
   "cell_type": "code",
   "execution_count": 34,
   "metadata": {},
   "outputs": [
    {
     "data": {
      "text/plain": [
       "education\n",
       "Bachelors      3729\n",
       "Masters        1000\n",
       "High School     851\n",
       "PHD             318\n",
       "Name: count, dtype: int64"
      ]
     },
     "execution_count": 34,
     "metadata": {},
     "output_type": "execute_result"
    }
   ],
   "source": [
    "dados.education.value_counts()"
   ]
  },
  {
   "cell_type": "code",
   "execution_count": 35,
   "metadata": {},
   "outputs": [
    {
     "data": {
      "text/plain": [
       "joiningyear\n",
       "2017             1230\n",
       "2015              886\n",
       "2014              832\n",
       "2013              751\n",
       "2016              639\n",
       "2012              607\n",
       "2018              482\n",
       "2011              125\n",
       "2019              124\n",
       "2010              120\n",
       "Not available     102\n",
       "Name: count, dtype: int64"
      ]
     },
     "execution_count": 35,
     "metadata": {},
     "output_type": "execute_result"
    }
   ],
   "source": [
    "dados.joiningyear.value_counts()\n",
    "# é necessário substituir o Not Available"
   ]
  },
  {
   "cell_type": "code",
   "execution_count": 36,
   "metadata": {},
   "outputs": [
    {
     "data": {
      "text/plain": [
       "city\n",
       "Bangalore    2406\n",
       "Pune         1444\n",
       "New Delhi    1325\n",
       "Chennai       186\n",
       "Ahmedabad     182\n",
       "Hyderabad     182\n",
       "Mumbai        173\n",
       "Name: count, dtype: int64"
      ]
     },
     "execution_count": 36,
     "metadata": {},
     "output_type": "execute_result"
    }
   ],
   "source": [
    "dados.city.value_counts()"
   ]
  },
  {
   "cell_type": "code",
   "execution_count": 37,
   "metadata": {},
   "outputs": [
    {
     "data": {
      "text/plain": [
       "paymenttier\n",
       "3    4424\n",
       "2    1175\n",
       "1     299\n",
       "Name: count, dtype: int64"
      ]
     },
     "execution_count": 37,
     "metadata": {},
     "output_type": "execute_result"
    }
   ],
   "source": [
    "dados.paymenttier.value_counts()"
   ]
  },
  {
   "cell_type": "code",
   "execution_count": 38,
   "metadata": {},
   "outputs": [
    {
     "data": {
      "text/plain": [
       "gender\n",
       "Male      3350\n",
       "Female    2261\n",
       "male       168\n",
       "female     119\n",
       "Name: count, dtype: int64"
      ]
     },
     "execution_count": 38,
     "metadata": {},
     "output_type": "execute_result"
    }
   ],
   "source": [
    "dados.gender.value_counts()\n",
    "# É necessário tratar os male e female escritos diferentes"
   ]
  },
  {
   "cell_type": "code",
   "execution_count": 39,
   "metadata": {},
   "outputs": [
    {
     "data": {
      "text/plain": [
       "everbenched\n",
       "No     5038\n",
       "Yes     586\n",
       "no      150\n",
       "yes     124\n",
       "Name: count, dtype: int64"
      ]
     },
     "execution_count": 39,
     "metadata": {},
     "output_type": "execute_result"
    }
   ],
   "source": [
    "dados.everbenched.value_counts()\n",
    "# É necessário tratar os no e yes escritos diferentes"
   ]
  },
  {
   "cell_type": "code",
   "execution_count": 40,
   "metadata": {},
   "outputs": [
    {
     "data": {
      "text/plain": [
       "experienceincurrentdomain\n",
       "2                1322\n",
       "4                1164\n",
       "5                1129\n",
       "3                 958\n",
       "1                 691\n",
       "0                 435\n",
       "Not available     179\n",
       "7                  11\n",
       "6                   9\n",
       "Name: count, dtype: int64"
      ]
     },
     "execution_count": 40,
     "metadata": {},
     "output_type": "execute_result"
    }
   ],
   "source": [
    "dados.experienceincurrentdomain.value_counts()\n",
    "# É necessário tratar o not available"
   ]
  },
  {
   "cell_type": "code",
   "execution_count": 60,
   "metadata": {},
   "outputs": [
    {
     "data": {
      "text/plain": [
       "age\n",
       "26               675\n",
       "28               660\n",
       "27               655\n",
       "25               457\n",
       "24               438\n",
       "29               269\n",
       "30               246\n",
       "36               185\n",
       "37               179\n",
       "39               179\n",
       "34               176\n",
       "32               176\n",
       "38               173\n",
       "33               173\n",
       "35               168\n",
       "40               168\n",
       "31               158\n",
       "Not available    126\n",
       "41               113\n",
       "23               106\n",
       "22                99\n",
       "45                53\n",
       "21                52\n",
       "20                47\n",
       "43                44\n",
       "48                43\n",
       "46                41\n",
       "49                39\n",
       "Name: count, dtype: int64"
      ]
     },
     "execution_count": 60,
     "metadata": {},
     "output_type": "execute_result"
    }
   ],
   "source": [
    "dados.age.value_counts()"
   ]
  },
  {
   "cell_type": "code",
   "execution_count": 41,
   "metadata": {},
   "outputs": [
    {
     "data": {
      "text/plain": [
       "gender\n",
       "Male      3518\n",
       "Female    2380\n",
       "Name: count, dtype: int64"
      ]
     },
     "execution_count": 41,
     "metadata": {},
     "output_type": "execute_result"
    }
   ],
   "source": [
    "### Normalização de escrita - coluna gender - solução: colocar todos com a primeira letra maiúscula\n",
    "dados['gender'] = [x.capitalize() for x in dados['gender']]\n",
    "dados['gender'].value_counts()"
   ]
  },
  {
   "cell_type": "code",
   "execution_count": 42,
   "metadata": {},
   "outputs": [
    {
     "data": {
      "text/plain": [
       "everbenched\n",
       "No     5188\n",
       "Yes     710\n",
       "Name: count, dtype: int64"
      ]
     },
     "execution_count": 42,
     "metadata": {},
     "output_type": "execute_result"
    }
   ],
   "source": [
    "### Normalização de escrita - coluna everbenched - solução: colocar todos com a primeira letra maiúscula\n",
    "dados['everbenched'] = [x.capitalize() for x in dados['everbenched']]\n",
    "dados['everbenched'].value_counts()"
   ]
  },
  {
   "cell_type": "markdown",
   "metadata": {},
   "source": [
    "### Tratamento da coluna joiningyear:\n",
    "averiguar proporção de dados não disponíveis"
   ]
  },
  {
   "cell_type": "code",
   "execution_count": 43,
   "metadata": {},
   "outputs": [
    {
     "data": {
      "text/html": [
       "<div>\n",
       "<style scoped>\n",
       "    .dataframe tbody tr th:only-of-type {\n",
       "        vertical-align: middle;\n",
       "    }\n",
       "\n",
       "    .dataframe tbody tr th {\n",
       "        vertical-align: top;\n",
       "    }\n",
       "\n",
       "    .dataframe thead th {\n",
       "        text-align: right;\n",
       "    }\n",
       "</style>\n",
       "<table border=\"1\" class=\"dataframe\">\n",
       "  <thead>\n",
       "    <tr style=\"text-align: right;\">\n",
       "      <th></th>\n",
       "      <th>count</th>\n",
       "    </tr>\n",
       "    <tr>\n",
       "      <th>joiningyear</th>\n",
       "      <th></th>\n",
       "    </tr>\n",
       "  </thead>\n",
       "  <tbody>\n",
       "    <tr>\n",
       "      <th>2017</th>\n",
       "      <td>1230</td>\n",
       "    </tr>\n",
       "    <tr>\n",
       "      <th>2015</th>\n",
       "      <td>886</td>\n",
       "    </tr>\n",
       "    <tr>\n",
       "      <th>2014</th>\n",
       "      <td>832</td>\n",
       "    </tr>\n",
       "    <tr>\n",
       "      <th>2013</th>\n",
       "      <td>751</td>\n",
       "    </tr>\n",
       "    <tr>\n",
       "      <th>2016</th>\n",
       "      <td>639</td>\n",
       "    </tr>\n",
       "    <tr>\n",
       "      <th>2012</th>\n",
       "      <td>607</td>\n",
       "    </tr>\n",
       "    <tr>\n",
       "      <th>2018</th>\n",
       "      <td>482</td>\n",
       "    </tr>\n",
       "    <tr>\n",
       "      <th>2011</th>\n",
       "      <td>125</td>\n",
       "    </tr>\n",
       "    <tr>\n",
       "      <th>2019</th>\n",
       "      <td>124</td>\n",
       "    </tr>\n",
       "    <tr>\n",
       "      <th>2010</th>\n",
       "      <td>120</td>\n",
       "    </tr>\n",
       "    <tr>\n",
       "      <th>Not available</th>\n",
       "      <td>102</td>\n",
       "    </tr>\n",
       "  </tbody>\n",
       "</table>\n",
       "</div>"
      ],
      "text/plain": [
       "               count\n",
       "joiningyear         \n",
       "2017            1230\n",
       "2015             886\n",
       "2014             832\n",
       "2013             751\n",
       "2016             639\n",
       "2012             607\n",
       "2018             482\n",
       "2011             125\n",
       "2019             124\n",
       "2010             120\n",
       "Not available    102"
      ]
     },
     "execution_count": 43,
     "metadata": {},
     "output_type": "execute_result"
    }
   ],
   "source": [
    "prop = dados.joiningyear.value_counts()\n",
    "prop = pd.DataFrame(prop)\n",
    "prop"
   ]
  },
  {
   "cell_type": "code",
   "execution_count": 44,
   "metadata": {},
   "outputs": [
    {
     "data": {
      "text/html": [
       "<div>\n",
       "<style scoped>\n",
       "    .dataframe tbody tr th:only-of-type {\n",
       "        vertical-align: middle;\n",
       "    }\n",
       "\n",
       "    .dataframe tbody tr th {\n",
       "        vertical-align: top;\n",
       "    }\n",
       "\n",
       "    .dataframe thead th {\n",
       "        text-align: right;\n",
       "    }\n",
       "</style>\n",
       "<table border=\"1\" class=\"dataframe\">\n",
       "  <thead>\n",
       "    <tr style=\"text-align: right;\">\n",
       "      <th></th>\n",
       "      <th>count</th>\n",
       "      <th>proporcao</th>\n",
       "    </tr>\n",
       "    <tr>\n",
       "      <th>joiningyear</th>\n",
       "      <th></th>\n",
       "      <th></th>\n",
       "    </tr>\n",
       "  </thead>\n",
       "  <tbody>\n",
       "    <tr>\n",
       "      <th>2017</th>\n",
       "      <td>1230</td>\n",
       "      <td>20.854527</td>\n",
       "    </tr>\n",
       "    <tr>\n",
       "      <th>2015</th>\n",
       "      <td>886</td>\n",
       "      <td>15.022041</td>\n",
       "    </tr>\n",
       "    <tr>\n",
       "      <th>2014</th>\n",
       "      <td>832</td>\n",
       "      <td>14.106477</td>\n",
       "    </tr>\n",
       "    <tr>\n",
       "      <th>2013</th>\n",
       "      <td>751</td>\n",
       "      <td>12.733130</td>\n",
       "    </tr>\n",
       "    <tr>\n",
       "      <th>2016</th>\n",
       "      <td>639</td>\n",
       "      <td>10.834181</td>\n",
       "    </tr>\n",
       "    <tr>\n",
       "      <th>2012</th>\n",
       "      <td>607</td>\n",
       "      <td>10.291624</td>\n",
       "    </tr>\n",
       "    <tr>\n",
       "      <th>2018</th>\n",
       "      <td>482</td>\n",
       "      <td>8.172262</td>\n",
       "    </tr>\n",
       "    <tr>\n",
       "      <th>2011</th>\n",
       "      <td>125</td>\n",
       "      <td>2.119362</td>\n",
       "    </tr>\n",
       "    <tr>\n",
       "      <th>2019</th>\n",
       "      <td>124</td>\n",
       "      <td>2.102408</td>\n",
       "    </tr>\n",
       "    <tr>\n",
       "      <th>2010</th>\n",
       "      <td>120</td>\n",
       "      <td>2.034588</td>\n",
       "    </tr>\n",
       "    <tr>\n",
       "      <th>Not available</th>\n",
       "      <td>102</td>\n",
       "      <td>1.729400</td>\n",
       "    </tr>\n",
       "  </tbody>\n",
       "</table>\n",
       "</div>"
      ],
      "text/plain": [
       "               count  proporcao\n",
       "joiningyear                    \n",
       "2017            1230  20.854527\n",
       "2015             886  15.022041\n",
       "2014             832  14.106477\n",
       "2013             751  12.733130\n",
       "2016             639  10.834181\n",
       "2012             607  10.291624\n",
       "2018             482   8.172262\n",
       "2011             125   2.119362\n",
       "2019             124   2.102408\n",
       "2010             120   2.034588\n",
       "Not available    102   1.729400"
      ]
     },
     "execution_count": 44,
     "metadata": {},
     "output_type": "execute_result"
    }
   ],
   "source": [
    "prop['proporcao'] = prop['count']/prop['count'].sum()*100\n",
    "prop"
   ]
  },
  {
   "cell_type": "markdown",
   "metadata": {},
   "source": [
    "Como a proporção de dados não disponíveis é quase igual a proporção de dados de outra categoria, não é recomendado eliminar esses dados.\n",
    "\n",
    "Averiguar como os dados disponíveis estão distribuídos"
   ]
  },
  {
   "cell_type": "code",
   "execution_count": 45,
   "metadata": {},
   "outputs": [
    {
     "data": {
      "text/plain": [
       "joiningyear\n",
       "2017           1230\n",
       "2015            886\n",
       "2014            832\n",
       "2013            751\n",
       "2016            639\n",
       "2012            607\n",
       "2018            482\n",
       "2011            125\n",
       "2019            124\n",
       "2010            120\n",
       "Name: count, dtype: int64"
      ]
     },
     "execution_count": 45,
     "metadata": {},
     "output_type": "execute_result"
    }
   ],
   "source": [
    "analise_ano = dados[['joiningyear']]\n",
    "analise_ano_filtrado = analise_ano[analise_ano['joiningyear']!='Not available']\n",
    "analise_ano_filtrado.value_counts()"
   ]
  },
  {
   "cell_type": "code",
   "execution_count": 46,
   "metadata": {},
   "outputs": [
    {
     "data": {
      "text/plain": [
       "(array([1230.,  751.,  832.,  639.,  886.,  607.,  482.,  124.,  120.,\n",
       "         125.]),\n",
       " array([0. , 0.9, 1.8, 2.7, 3.6, 4.5, 5.4, 6.3, 7.2, 8.1, 9. ]),\n",
       " <BarContainer object of 10 artists>)"
      ]
     },
     "execution_count": 46,
     "metadata": {},
     "output_type": "execute_result"
    },
    {
     "data": {
      "image/png": "[encoded data removed]",
      "text/plain": [
       "<Figure size 640x480 with 1 Axes>"
      ]
     },
     "metadata": {},
     "output_type": "display_data"
    }
   ],
   "source": [
    "import matplotlib.pyplot as plt\n",
    "plt.hist(analise_ano_filtrado.joiningyear)"
   ]
  },
  {
   "cell_type": "markdown",
   "metadata": {},
   "source": [
    "Olhando o histograma acima, é possível ver que os dados do eixo x não estão em ordem crescente, como deveriam estar em um histograma.\n",
    "\n",
    "Isso possivelmente está ocorrendo por que os dados dessa coluna são strings e não ints. No .info() é possível observar que o Dtype da coluna após a filtragem continua como 'object'"
   ]
  },
  {
   "cell_type": "code",
   "execution_count": 47,
   "metadata": {},
   "outputs": [
    {
     "name": "stdout",
     "output_type": "stream",
     "text": [
      "<class 'pandas.core.frame.DataFrame'>\n",
      "Index: 5796 entries, 0 to 5897\n",
      "Data columns (total 1 columns):\n",
      " #   Column       Non-Null Count  Dtype \n",
      "---  ------       --------------  ----- \n",
      " 0   joiningyear  5796 non-null   object\n",
      "dtypes: object(1)\n",
      "memory usage: 90.6+ KB\n"
     ]
    }
   ],
   "source": [
    "analise_ano_filtrado.info()"
   ]
  },
  {
   "cell_type": "markdown",
   "metadata": {},
   "source": [
    "Tratando"
   ]
  },
  {
   "cell_type": "code",
   "execution_count": 48,
   "metadata": {},
   "outputs": [
    {
     "name": "stdout",
     "output_type": "stream",
     "text": [
      "<class 'pandas.core.frame.DataFrame'>\n",
      "Index: 5796 entries, 0 to 5897\n",
      "Data columns (total 1 columns):\n",
      " #   Column       Non-Null Count  Dtype\n",
      "---  ------       --------------  -----\n",
      " 0   joiningyear  5796 non-null   int32\n",
      "dtypes: int32(1)\n",
      "memory usage: 67.9 KB\n"
     ]
    }
   ],
   "source": [
    "analise_ano_filtrado['joiningyear'] = analise_ano_filtrado['joiningyear'].astype(int)\n",
    "analise_ano_filtrado.info()"
   ]
  },
  {
   "cell_type": "code",
   "execution_count": 49,
   "metadata": {},
   "outputs": [
    {
     "data": {
      "text/plain": [
       "(array([ 120.,  125.,  607.,  751.,  832.,  886.,  639., 1230.,  482.,\n",
       "         124.]),\n",
       " array([2010. , 2010.9, 2011.8, 2012.7, 2013.6, 2014.5, 2015.4, 2016.3,\n",
       "        2017.2, 2018.1, 2019. ]),\n",
       " <BarContainer object of 10 artists>)"
      ]
     },
     "execution_count": 49,
     "metadata": {},
     "output_type": "execute_result"
    },
    {
     "data": {
      "image/png": "[encoded data removed]",
      "text/plain": [
       "<Figure size 640x480 with 1 Axes>"
      ]
     },
     "metadata": {},
     "output_type": "display_data"
    }
   ],
   "source": [
    "plt.hist(analise_ano_filtrado.joiningyear)"
   ]
  },
  {
   "cell_type": "code",
   "execution_count": 50,
   "metadata": {},
   "outputs": [
    {
     "data": {
      "text/plain": [
       "{'whiskers': [<matplotlib.lines.Line2D at 0x1e5e2aae760>,\n",
       "  <matplotlib.lines.Line2D at 0x1e5e2aaea30>],\n",
       " 'caps': [<matplotlib.lines.Line2D at 0x1e5e2aaed00>,\n",
       "  <matplotlib.lines.Line2D at 0x1e5e2aaefd0>],\n",
       " 'boxes': [<matplotlib.lines.Line2D at 0x1e5e2aae490>],\n",
       " 'medians': [<matplotlib.lines.Line2D at 0x1e5e2abb2e0>],\n",
       " 'fliers': [<matplotlib.lines.Line2D at 0x1e5e2abb5b0>],\n",
       " 'means': []}"
      ]
     },
     "execution_count": 50,
     "metadata": {},
     "output_type": "execute_result"
    },
    {
     "data": {
      "image/png": "[encoded data removed]",
      "text/plain": [
       "<Figure size 640x480 with 1 Axes>"
      ]
     },
     "metadata": {},
     "output_type": "display_data"
    }
   ],
   "source": [
    "plt.boxplot(analise_ano_filtrado.joiningyear)"
   ]
  },
  {
   "cell_type": "markdown",
   "metadata": {},
   "source": [
    "Precisamos inputar valores no lugar dos 'Not available' da base de dados. Mas não podemos, por exemplo, somente imputar com o valor mais frequente, ou com a média... Isso poderia distorcer a distribuição de dados. Vejamos:\n",
    "\n",
    "1. Substituir o valor faltante pela média arredondada:"
   ]
  },
  {
   "cell_type": "code",
   "execution_count": 51,
   "metadata": {},
   "outputs": [
    {
     "data": {
      "text/plain": [
       "2014"
      ]
     },
     "execution_count": 51,
     "metadata": {},
     "output_type": "execute_result"
    }
   ],
   "source": [
    "media = analise_ano_filtrado.joiningyear.mean()\n",
    "media = int(media)\n",
    "media"
   ]
  },
  {
   "cell_type": "code",
   "execution_count": 52,
   "metadata": {},
   "outputs": [],
   "source": [
    "import numpy as np\n",
    "analise_ano_copia = analise_ano.copy()\n",
    "analise_ano_copia['joiningyear'] = np.where(\n",
    "    analise_ano_copia['joiningyear']=='Not available', ### condição\n",
    "    str(media), ### o que fazer caso atenda a condição\n",
    "    analise_ano_copia['joiningyear']) ### o que fazer caso não atenda a condição"
   ]
  },
  {
   "cell_type": "code",
   "execution_count": 53,
   "metadata": {},
   "outputs": [
    {
     "data": {
      "text/plain": [
       "joiningyear\n",
       "2017    1230\n",
       "2014     934\n",
       "2015     886\n",
       "2013     751\n",
       "2016     639\n",
       "2012     607\n",
       "2018     482\n",
       "2011     125\n",
       "2019     124\n",
       "2010     120\n",
       "Name: count, dtype: int64"
      ]
     },
     "execution_count": 53,
     "metadata": {},
     "output_type": "execute_result"
    }
   ],
   "source": [
    "analise_ano_copia.joiningyear.value_counts()"
   ]
  },
  {
   "cell_type": "markdown",
   "metadata": {},
   "source": [
    "Transformando em ints, comparando médias, histogramas e boxplots de antes e depois (no antes, somente os dados numéricos do ano)"
   ]
  },
  {
   "cell_type": "code",
   "execution_count": 54,
   "metadata": {},
   "outputs": [
    {
     "name": "stdout",
     "output_type": "stream",
     "text": [
      "Média antes: 2014.9630779848171, Média depois: 2014.946422516107\n"
     ]
    }
   ],
   "source": [
    "analise_ano_copia['joiningyear'] = analise_ano_copia['joiningyear'].astype(int)\n",
    "media_antes = analise_ano_filtrado.joiningyear.mean()\n",
    "media_depois = analise_ano_copia.joiningyear.mean()\n",
    "print(f'Média antes: {media_antes}, Média depois: {media_depois}')"
   ]
  },
  {
   "cell_type": "code",
   "execution_count": 55,
   "metadata": {},
   "outputs": [
    {
     "data": {
      "text/plain": [
       "count    5796.000000\n",
       "mean     2014.963078\n",
       "std         2.125165\n",
       "min      2010.000000\n",
       "25%      2013.000000\n",
       "50%      2015.000000\n",
       "75%      2017.000000\n",
       "max      2019.000000\n",
       "Name: joiningyear, dtype: float64"
      ]
     },
     "execution_count": 55,
     "metadata": {},
     "output_type": "execute_result"
    }
   ],
   "source": [
    "analise_ano_filtrado.joiningyear.describe()"
   ]
  },
  {
   "cell_type": "code",
   "execution_count": 56,
   "metadata": {},
   "outputs": [
    {
     "data": {
      "text/plain": [
       "count    5898.000000\n",
       "mean     2014.946423\n",
       "std         2.110443\n",
       "min      2010.000000\n",
       "25%      2013.000000\n",
       "50%      2015.000000\n",
       "75%      2017.000000\n",
       "max      2019.000000\n",
       "Name: joiningyear, dtype: float64"
      ]
     },
     "execution_count": 56,
     "metadata": {},
     "output_type": "execute_result"
    }
   ],
   "source": [
    "analise_ano_copia.joiningyear.describe()"
   ]
  },
  {
   "cell_type": "code",
   "execution_count": 57,
   "metadata": {},
   "outputs": [
    {
     "data": {
      "text/plain": [
       "<matplotlib.legend.Legend at 0x1e5e2abb760>"
      ]
     },
     "execution_count": 57,
     "metadata": {},
     "output_type": "execute_result"
    },
    {
     "data": {
      "image/png": "[encoded data removed]",
      "text/plain": [
       "<Figure size 600x450 with 1 Axes>"
      ]
     },
     "metadata": {},
     "output_type": "display_data"
    }
   ],
   "source": [
    "fig,ax = plt.subplots(1,figsize = (4,3),dpi = 150)\n",
    "ax.hist(analise_ano_filtrado.joiningyear,alpha = 0.5)\n",
    "ax.hist(analise_ano_copia.joiningyear,alpha=0.5)\n",
    "ax.legend(['Antes do input','Depois do input'])"
   ]
  },
  {
   "cell_type": "code",
   "execution_count": 58,
   "metadata": {},
   "outputs": [
    {
     "data": {
      "text/plain": [
       "[Text(1, 0, 'Antes do input'), Text(2, 0, 'Depois do input')]"
      ]
     },
     "execution_count": 58,
     "metadata": {},
     "output_type": "execute_result"
    },
    {
     "data": {
      "image/png": "[encoded data removed]",
      "text/plain": [
       "<Figure size 600x450 with 1 Axes>"
      ]
     },
     "metadata": {},
     "output_type": "display_data"
    }
   ],
   "source": [
    "fig,ax = plt.subplots(1,figsize = (4,3),dpi = 150)\n",
    "dados_para_plotar = [analise_ano_filtrado.joiningyear,analise_ano_copia.joiningyear]\n",
    "ax.boxplot(dados_para_plotar)\n",
    "ax.set_xticklabels(['Antes do input', 'Depois do input'])\n",
    "# ax.legend(['Antes do input','Depois do input'])"
   ]
  },
  {
   "cell_type": "markdown",
   "metadata": {},
   "source": [
    "## Conclusão:\n",
    "\n",
    "Inputar o valor da média dos valores numéricos na coluna 'joiningyear' é uma prática plausível uma vez que a distribuição dos dados não foi afetada significativamente de acordo com a descrição dos dados, com o histograma e com o boxplot"
   ]
  },
  {
   "cell_type": "markdown",
   "metadata": {},
   "source": [
    "# Tarefa 1\n",
    "\n",
    "Inputar o valor mais frequente e verificar se é a distribuição dos dados é afetada por meio dos mesmos métodos"
   ]
  },
  {
   "cell_type": "markdown",
   "metadata": {},
   "source": [
    "# Tarefa 2 (nivel mais alto de dificuldade)\n",
    "\n",
    "2.1 - Definir uma função que gera aleatoriamente dados distribuídos segundo uma distribuição normal baseados na média e no desvio padrão da população de dados numéricos da coluna\n",
    "\n",
    "2.2 - Utilizar essa função para inputar dados no lugar dos dados não disponíveis\n",
    "\n",
    "2.3 - Fazer a averiguação se a distribuição foi afetada pelos dados inputados"
   ]
  },
  {
   "cell_type": "markdown",
   "metadata": {},
   "source": [
    "# Tarefa 3\n",
    "\n",
    "Fazer o mesmo procedimento para a coluna \"```experienceincurrentdomain```\" e \"```age```\" (analisar como os dados estão distribuídos, se é melhor imputar pela média, pelo valor mais frequente ou se é mais interessante imputar aleatorimento baseado na distribuição dos dados não faltantes)"
   ]
  },
  {
   "cell_type": "code",
   "execution_count": null,
   "metadata": {},
   "outputs": [],
   "source": []
  }
 ],
 "metadata": {
  "kernelspec": {
   "display_name": "base",
   "language": "python",
   "name": "python3"
  },
  "language_info": {
   "codemirror_mode": {
    "name": "ipython",
    "version": 3
   },
   "file_extension": ".py",
   "mimetype": "text/x-python",
   "name": "python",
   "nbconvert_exporter": "python",
   "pygments_lexer": "ipython3",
   "version": "3.9.13"
  },
  "orig_nbformat": 4
 },
 "nbformat": 4,
 "nbformat_minor": 2
}
