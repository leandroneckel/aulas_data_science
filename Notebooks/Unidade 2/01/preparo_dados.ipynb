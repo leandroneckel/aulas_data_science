{
 "cells": [
  {
   "cell_type": "code",
   "execution_count": 12,
   "metadata": {},
   "outputs": [],
   "source": [
    "import warnings\n",
    "warnings.filterwarnings('ignore')\n",
    "import pandas as pd\n",
    "dados = pd.read_csv('base_preprocessamento_01.csv')\n",
    "dados.columns = [x.lower() for x in dados.columns]\n",
    "dados['gender'] = [x.capitalize() for x in dados['gender']]\n",
    "dados['gender'].value_counts()\n",
    "dados['everbenched'] = [x.capitalize() for x in dados['everbenched']]\n",
    "dados['everbenched'].value_counts()\n",
    "tratamento_joinyear = dados[['joiningyear']]\n",
    "tratamento_joinyear = tratamento_joinyear[tratamento_joinyear.joiningyear!='Not available']\n",
    "tratamento_joinyear['joiningyear'] = tratamento_joinyear['joiningyear'].astype(int)\n",
    "media_jy = tratamento_joinyear['joiningyear'].mean()\n",
    "media_jy = int(media_jy)\n",
    "import numpy as np\n",
    "dados['joiningyear'] = np.where(\n",
    "    dados['joiningyear'] == 'Not available',\n",
    "    str(media_jy),\n",
    "    dados['joiningyear']\n",
    ")\n",
    "tratamento_exp = dados[['experienceincurrentdomain']]\n",
    "tratamento_exp = tratamento_exp[tratamento_exp.experienceincurrentdomain!='Not available']\n",
    "tratamento_exp['experienceincurrentdomain'] = tratamento_exp['experienceincurrentdomain'].astype(int)\n",
    "media_exp = tratamento_exp['experienceincurrentdomain'].mean()\n",
    "media_exp = int(media_exp)\n",
    "import numpy as np\n",
    "dados['experienceincurrentdomain'] = np.where(\n",
    "    dados['experienceincurrentdomain'] == 'Not available',\n",
    "    str(media_exp),\n",
    "    dados['experienceincurrentdomain']\n",
    ")\n",
    "tratamento_age = dados[['age']]\n",
    "tratamento_age = tratamento_age[tratamento_age.age!='Not available']\n",
    "tratamento_age['age'] = tratamento_age['age'].astype(int)\n",
    "media_age = tratamento_age['age'].mean()\n",
    "media_age = int(media_age)\n",
    "import numpy as np\n",
    "dados['age'] = np.where(\n",
    "    dados['age'] == 'Not available',\n",
    "    str(media_age),\n",
    "    dados['age']\n",
    ")\n",
    "for column in dados.columns:\n",
    "    try:\n",
    "        dados[column] = dados[column].astype(int)\n",
    "    except:\n",
    "        pass\n",
    "dados.to_csv('base_preprocessamento_02.csv',index=False)"
   ]
  },
  {
   "cell_type": "code",
   "execution_count": 13,
   "metadata": {},
   "outputs": [
    {
     "name": "stdout",
     "output_type": "stream",
     "text": [
      "<class 'pandas.core.frame.DataFrame'>\n",
      "RangeIndex: 5898 entries, 0 to 5897\n",
      "Data columns (total 9 columns):\n",
      " #   Column                     Non-Null Count  Dtype \n",
      "---  ------                     --------------  ----- \n",
      " 0   education                  5898 non-null   object\n",
      " 1   joiningyear                5898 non-null   int32 \n",
      " 2   city                       5898 non-null   object\n",
      " 3   paymenttier                5898 non-null   int32 \n",
      " 4   age                        5898 non-null   int32 \n",
      " 5   gender                     5898 non-null   object\n",
      " 6   everbenched                5898 non-null   object\n",
      " 7   experienceincurrentdomain  5898 non-null   int32 \n",
      " 8   leaveornot                 5898 non-null   int32 \n",
      "dtypes: int32(5), object(4)\n",
      "memory usage: 299.6+ KB\n"
     ]
    }
   ],
   "source": [
    "dados.info()"
   ]
  },
  {
   "cell_type": "code",
   "execution_count": null,
   "metadata": {},
   "outputs": [],
   "source": []
  }
 ],
 "metadata": {
  "kernelspec": {
   "display_name": "base",
   "language": "python",
   "name": "python3"
  },
  "language_info": {
   "codemirror_mode": {
    "name": "ipython",
    "version": 3
   },
   "file_extension": ".py",
   "mimetype": "text/x-python",
   "name": "python",
   "nbconvert_exporter": "python",
   "pygments_lexer": "ipython3",
   "version": "3.9.13"
  },
  "orig_nbformat": 4
 },
 "nbformat": 4,
 "nbformat_minor": 2
}
