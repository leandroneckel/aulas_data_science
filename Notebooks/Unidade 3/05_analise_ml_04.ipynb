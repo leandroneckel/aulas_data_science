{
 "cells": [
  {
   "cell_type": "markdown",
   "metadata": {},
   "source": [
    "# Machine Learning de Classificação\n",
    "\n",
    "## Problemas multiclasse\n",
    "\n",
    "Fazendo o tratamento inicial dos dados, escalonando os atritbutos, mas mantendo a faixa de qualidade do vinho como original"
   ]
  },
  {
   "cell_type": "code",
   "execution_count": 1,
   "metadata": {},
   "outputs": [],
   "source": [
    "import pandas as pd\n",
    "dados = pd.read_excel('dados_vinho_original.xlsx')\n",
    "dados = pd.get_dummies(dados,columns=['type'],dtype = 'int')\n",
    "from sklearn.preprocessing import MinMaxScaler\n",
    "scaler = MinMaxScaler()\n",
    "lista_colunas = dados.columns.tolist()\n",
    "lista_colunas.remove('quality')\n",
    "lista_colunas.append('quality')\n",
    "dados = dados[lista_colunas]\n",
    "atributos = dados.iloc[:,:-1]\n",
    "atributos = pd.DataFrame(scaler.fit_transform(atributos),columns=atributos.columns)\n",
    "dados_tratados = atributos.copy()\n",
    "dados_tratados['quality'] = dados.quality"
   ]
  },
  {
   "cell_type": "code",
   "execution_count": 2,
   "metadata": {},
   "outputs": [
    {
     "data": {
      "text/html": [
       "<div>\n",
       "<style scoped>\n",
       "    .dataframe tbody tr th:only-of-type {\n",
       "        vertical-align: middle;\n",
       "    }\n",
       "\n",
       "    .dataframe tbody tr th {\n",
       "        vertical-align: top;\n",
       "    }\n",
       "\n",
       "    .dataframe thead th {\n",
       "        text-align: right;\n",
       "    }\n",
       "</style>\n",
       "<table border=\"1\" class=\"dataframe\">\n",
       "  <thead>\n",
       "    <tr style=\"text-align: right;\">\n",
       "      <th></th>\n",
       "      <th>fixed_acidity</th>\n",
       "      <th>volatile_acidity</th>\n",
       "      <th>citric_acid</th>\n",
       "      <th>residual_sugar</th>\n",
       "      <th>chlorides</th>\n",
       "      <th>free_sulfur_dioxide</th>\n",
       "      <th>total_sulfur_dioxide</th>\n",
       "      <th>density</th>\n",
       "      <th>ph</th>\n",
       "      <th>sulphates</th>\n",
       "      <th>alcohol</th>\n",
       "      <th>type_red</th>\n",
       "      <th>type_white</th>\n",
       "      <th>quality</th>\n",
       "    </tr>\n",
       "  </thead>\n",
       "  <tbody>\n",
       "    <tr>\n",
       "      <th>0</th>\n",
       "      <td>0.297521</td>\n",
       "      <td>0.413333</td>\n",
       "      <td>0.000000</td>\n",
       "      <td>0.019939</td>\n",
       "      <td>0.111296</td>\n",
       "      <td>0.034722</td>\n",
       "      <td>0.064516</td>\n",
       "      <td>0.206092</td>\n",
       "      <td>0.612403</td>\n",
       "      <td>0.191011</td>\n",
       "      <td>0.202899</td>\n",
       "      <td>1.0</td>\n",
       "      <td>0.0</td>\n",
       "      <td>5</td>\n",
       "    </tr>\n",
       "    <tr>\n",
       "      <th>1</th>\n",
       "      <td>0.330579</td>\n",
       "      <td>0.533333</td>\n",
       "      <td>0.000000</td>\n",
       "      <td>0.030675</td>\n",
       "      <td>0.147841</td>\n",
       "      <td>0.083333</td>\n",
       "      <td>0.140553</td>\n",
       "      <td>0.186813</td>\n",
       "      <td>0.372093</td>\n",
       "      <td>0.258427</td>\n",
       "      <td>0.260870</td>\n",
       "      <td>1.0</td>\n",
       "      <td>0.0</td>\n",
       "      <td>5</td>\n",
       "    </tr>\n",
       "    <tr>\n",
       "      <th>2</th>\n",
       "      <td>0.330579</td>\n",
       "      <td>0.453333</td>\n",
       "      <td>0.024096</td>\n",
       "      <td>0.026074</td>\n",
       "      <td>0.137874</td>\n",
       "      <td>0.048611</td>\n",
       "      <td>0.110599</td>\n",
       "      <td>0.190669</td>\n",
       "      <td>0.418605</td>\n",
       "      <td>0.241573</td>\n",
       "      <td>0.260870</td>\n",
       "      <td>1.0</td>\n",
       "      <td>0.0</td>\n",
       "      <td>5</td>\n",
       "    </tr>\n",
       "    <tr>\n",
       "      <th>3</th>\n",
       "      <td>0.611570</td>\n",
       "      <td>0.133333</td>\n",
       "      <td>0.337349</td>\n",
       "      <td>0.019939</td>\n",
       "      <td>0.109635</td>\n",
       "      <td>0.055556</td>\n",
       "      <td>0.124424</td>\n",
       "      <td>0.209948</td>\n",
       "      <td>0.341085</td>\n",
       "      <td>0.202247</td>\n",
       "      <td>0.260870</td>\n",
       "      <td>1.0</td>\n",
       "      <td>0.0</td>\n",
       "      <td>6</td>\n",
       "    </tr>\n",
       "    <tr>\n",
       "      <th>4</th>\n",
       "      <td>0.297521</td>\n",
       "      <td>0.413333</td>\n",
       "      <td>0.000000</td>\n",
       "      <td>0.019939</td>\n",
       "      <td>0.111296</td>\n",
       "      <td>0.034722</td>\n",
       "      <td>0.064516</td>\n",
       "      <td>0.206092</td>\n",
       "      <td>0.612403</td>\n",
       "      <td>0.191011</td>\n",
       "      <td>0.202899</td>\n",
       "      <td>1.0</td>\n",
       "      <td>0.0</td>\n",
       "      <td>5</td>\n",
       "    </tr>\n",
       "    <tr>\n",
       "      <th>...</th>\n",
       "      <td>...</td>\n",
       "      <td>...</td>\n",
       "      <td>...</td>\n",
       "      <td>...</td>\n",
       "      <td>...</td>\n",
       "      <td>...</td>\n",
       "      <td>...</td>\n",
       "      <td>...</td>\n",
       "      <td>...</td>\n",
       "      <td>...</td>\n",
       "      <td>...</td>\n",
       "      <td>...</td>\n",
       "      <td>...</td>\n",
       "      <td>...</td>\n",
       "    </tr>\n",
       "    <tr>\n",
       "      <th>6492</th>\n",
       "      <td>0.198347</td>\n",
       "      <td>0.086667</td>\n",
       "      <td>0.174699</td>\n",
       "      <td>0.015337</td>\n",
       "      <td>0.049834</td>\n",
       "      <td>0.079861</td>\n",
       "      <td>0.198157</td>\n",
       "      <td>0.077694</td>\n",
       "      <td>0.426357</td>\n",
       "      <td>0.157303</td>\n",
       "      <td>0.463768</td>\n",
       "      <td>0.0</td>\n",
       "      <td>1.0</td>\n",
       "      <td>6</td>\n",
       "    </tr>\n",
       "    <tr>\n",
       "      <th>6493</th>\n",
       "      <td>0.231405</td>\n",
       "      <td>0.160000</td>\n",
       "      <td>0.216867</td>\n",
       "      <td>0.113497</td>\n",
       "      <td>0.063123</td>\n",
       "      <td>0.194444</td>\n",
       "      <td>0.373272</td>\n",
       "      <td>0.150183</td>\n",
       "      <td>0.333333</td>\n",
       "      <td>0.134831</td>\n",
       "      <td>0.231884</td>\n",
       "      <td>0.0</td>\n",
       "      <td>1.0</td>\n",
       "      <td>5</td>\n",
       "    </tr>\n",
       "    <tr>\n",
       "      <th>6494</th>\n",
       "      <td>0.223140</td>\n",
       "      <td>0.106667</td>\n",
       "      <td>0.114458</td>\n",
       "      <td>0.009202</td>\n",
       "      <td>0.053156</td>\n",
       "      <td>0.100694</td>\n",
       "      <td>0.241935</td>\n",
       "      <td>0.104685</td>\n",
       "      <td>0.209302</td>\n",
       "      <td>0.134831</td>\n",
       "      <td>0.202899</td>\n",
       "      <td>0.0</td>\n",
       "      <td>1.0</td>\n",
       "      <td>6</td>\n",
       "    </tr>\n",
       "    <tr>\n",
       "      <th>6495</th>\n",
       "      <td>0.140496</td>\n",
       "      <td>0.140000</td>\n",
       "      <td>0.180723</td>\n",
       "      <td>0.007669</td>\n",
       "      <td>0.021595</td>\n",
       "      <td>0.065972</td>\n",
       "      <td>0.239631</td>\n",
       "      <td>0.030461</td>\n",
       "      <td>0.480620</td>\n",
       "      <td>0.089888</td>\n",
       "      <td>0.695652</td>\n",
       "      <td>0.0</td>\n",
       "      <td>1.0</td>\n",
       "      <td>7</td>\n",
       "    </tr>\n",
       "    <tr>\n",
       "      <th>6496</th>\n",
       "      <td>0.181818</td>\n",
       "      <td>0.086667</td>\n",
       "      <td>0.228916</td>\n",
       "      <td>0.003067</td>\n",
       "      <td>0.018272</td>\n",
       "      <td>0.072917</td>\n",
       "      <td>0.211982</td>\n",
       "      <td>0.044342</td>\n",
       "      <td>0.418605</td>\n",
       "      <td>0.056180</td>\n",
       "      <td>0.550725</td>\n",
       "      <td>0.0</td>\n",
       "      <td>1.0</td>\n",
       "      <td>6</td>\n",
       "    </tr>\n",
       "  </tbody>\n",
       "</table>\n",
       "<p>6497 rows × 14 columns</p>\n",
       "</div>"
      ],
      "text/plain": [
       "      fixed_acidity  volatile_acidity  citric_acid  residual_sugar  chlorides  \\\n",
       "0          0.297521          0.413333     0.000000        0.019939   0.111296   \n",
       "1          0.330579          0.533333     0.000000        0.030675   0.147841   \n",
       "2          0.330579          0.453333     0.024096        0.026074   0.137874   \n",
       "3          0.611570          0.133333     0.337349        0.019939   0.109635   \n",
       "4          0.297521          0.413333     0.000000        0.019939   0.111296   \n",
       "...             ...               ...          ...             ...        ...   \n",
       "6492       0.198347          0.086667     0.174699        0.015337   0.049834   \n",
       "6493       0.231405          0.160000     0.216867        0.113497   0.063123   \n",
       "6494       0.223140          0.106667     0.114458        0.009202   0.053156   \n",
       "6495       0.140496          0.140000     0.180723        0.007669   0.021595   \n",
       "6496       0.181818          0.086667     0.228916        0.003067   0.018272   \n",
       "\n",
       "      free_sulfur_dioxide  total_sulfur_dioxide   density        ph  \\\n",
       "0                0.034722              0.064516  0.206092  0.612403   \n",
       "1                0.083333              0.140553  0.186813  0.372093   \n",
       "2                0.048611              0.110599  0.190669  0.418605   \n",
       "3                0.055556              0.124424  0.209948  0.341085   \n",
       "4                0.034722              0.064516  0.206092  0.612403   \n",
       "...                   ...                   ...       ...       ...   \n",
       "6492             0.079861              0.198157  0.077694  0.426357   \n",
       "6493             0.194444              0.373272  0.150183  0.333333   \n",
       "6494             0.100694              0.241935  0.104685  0.209302   \n",
       "6495             0.065972              0.239631  0.030461  0.480620   \n",
       "6496             0.072917              0.211982  0.044342  0.418605   \n",
       "\n",
       "      sulphates   alcohol  type_red  type_white  quality  \n",
       "0      0.191011  0.202899       1.0         0.0        5  \n",
       "1      0.258427  0.260870       1.0         0.0        5  \n",
       "2      0.241573  0.260870       1.0         0.0        5  \n",
       "3      0.202247  0.260870       1.0         0.0        6  \n",
       "4      0.191011  0.202899       1.0         0.0        5  \n",
       "...         ...       ...       ...         ...      ...  \n",
       "6492   0.157303  0.463768       0.0         1.0        6  \n",
       "6493   0.134831  0.231884       0.0         1.0        5  \n",
       "6494   0.134831  0.202899       0.0         1.0        6  \n",
       "6495   0.089888  0.695652       0.0         1.0        7  \n",
       "6496   0.056180  0.550725       0.0         1.0        6  \n",
       "\n",
       "[6497 rows x 14 columns]"
      ]
     },
     "execution_count": 2,
     "metadata": {},
     "output_type": "execute_result"
    }
   ],
   "source": [
    "dados_tratados"
   ]
  },
  {
   "cell_type": "code",
   "execution_count": 3,
   "metadata": {},
   "outputs": [
    {
     "data": {
      "text/plain": [
       "quality\n",
       "6    2836\n",
       "5    2138\n",
       "7    1079\n",
       "4     216\n",
       "8     193\n",
       "3      30\n",
       "9       5\n",
       "Name: count, dtype: int64"
      ]
     },
     "execution_count": 3,
     "metadata": {},
     "output_type": "execute_result"
    }
   ],
   "source": [
    "dados_tratados.quality.value_counts()"
   ]
  },
  {
   "cell_type": "markdown",
   "metadata": {},
   "source": [
    "Separação de dados em x, y e, depois, em bases de treino e teste"
   ]
  },
  {
   "cell_type": "code",
   "execution_count": 4,
   "metadata": {},
   "outputs": [],
   "source": [
    "x = dados_tratados.iloc[:,:-1].values\n",
    "y = dados_tratados.iloc[:,-1].values"
   ]
  },
  {
   "cell_type": "code",
   "execution_count": 5,
   "metadata": {},
   "outputs": [
    {
     "data": {
      "text/plain": [
       "array([[0.29752066, 0.41333333, 0.        , ..., 0.20289855, 1.        ,\n",
       "        0.        ],\n",
       "       [0.33057851, 0.53333333, 0.        , ..., 0.26086957, 1.        ,\n",
       "        0.        ],\n",
       "       [0.33057851, 0.45333333, 0.02409639, ..., 0.26086957, 1.        ,\n",
       "        0.        ],\n",
       "       ...,\n",
       "       [0.2231405 , 0.10666667, 0.11445783, ..., 0.20289855, 0.        ,\n",
       "        1.        ],\n",
       "       [0.14049587, 0.14      , 0.18072289, ..., 0.69565217, 0.        ,\n",
       "        1.        ],\n",
       "       [0.18181818, 0.08666667, 0.22891566, ..., 0.55072464, 0.        ,\n",
       "        1.        ]])"
      ]
     },
     "execution_count": 5,
     "metadata": {},
     "output_type": "execute_result"
    }
   ],
   "source": [
    "x"
   ]
  },
  {
   "cell_type": "code",
   "execution_count": 6,
   "metadata": {},
   "outputs": [
    {
     "data": {
      "text/plain": [
       "array([5, 5, 5, ..., 6, 7, 6], dtype=int64)"
      ]
     },
     "execution_count": 6,
     "metadata": {},
     "output_type": "execute_result"
    }
   ],
   "source": [
    "y"
   ]
  },
  {
   "cell_type": "code",
   "execution_count": 7,
   "metadata": {},
   "outputs": [],
   "source": [
    "from sklearn.model_selection import train_test_split\n",
    "x_treino,x_teste,y_treino,y_teste = train_test_split(x,y,train_size=0.8,random_state=42)"
   ]
  },
  {
   "cell_type": "markdown",
   "metadata": {},
   "source": [
    "Definindo funções de anlálise"
   ]
  },
  {
   "cell_type": "code",
   "execution_count": 8,
   "metadata": {},
   "outputs": [],
   "source": [
    "import matplotlib.pyplot as plt\n",
    "from sklearn.metrics import confusion_matrix\n",
    "import numpy as np\n",
    "import seaborn as sns\n",
    "def plot_confusion_matrix(y_true, y_pred, nome, classes=None):\n",
    "    cmap = sns.cubehelix_palette(as_cmap=True)\n",
    "    \n",
    "    # Se classes não forem fornecidas, obter classes únicas a partir de y_true e y_pred\n",
    "    if classes is None:\n",
    "        classes = np.unique(np.concatenate([y_true, y_pred]))\n",
    "    \n",
    "    cm = confusion_matrix(y_true, y_pred, labels=classes)\n",
    "    fig, ax = plt.subplots(figsize=(4, 4))\n",
    "    sns.heatmap(cm, cmap=cmap, cbar=False, annot=False, fmt='g', linewidths=.5)\n",
    "\n",
    "    # Ajustar a cor e a posição das anotações para cada célula\n",
    "    for i in range(cm.shape[0]):\n",
    "        for j in range(cm.shape[1]):\n",
    "            text_color = 'white' if cm[i, j] > (0.5 * cm.max()) else 'black'\n",
    "            ax.text(j + 0.5, i + 0.5, str(cm[i, j]), \n",
    "                    horizontalalignment='center', \n",
    "                    verticalalignment='center', \n",
    "                    color=text_color)\n",
    "    \n",
    "    plt.title(nome)\n",
    "    plt.ylabel('Verdadeiro')\n",
    "    plt.xlabel('Previsto')\n",
    "    plt.xticks(ticks=np.arange(len(classes)) + 0.5, labels=classes)\n",
    "    plt.yticks(ticks=np.arange(len(classes)) + 0.5, labels=classes)\n",
    "    plt.tight_layout()\n",
    "    plt.show()\n",
    "from sklearn.metrics import accuracy_score,precision_score,recall_score,f1_score\n",
    "import pandas as pd\n",
    "resultados = pd.DataFrame(columns=['modelo','accuracy'])\n",
    "def add_result(resultados,modelo,y_real,y_previsto):\n",
    "    acc = accuracy_score(y_real,y_previsto)\n",
    "    resultados.loc[resultados.shape[0]]=[modelo,acc]\n",
    "    return resultados"
   ]
  },
  {
   "cell_type": "markdown",
   "metadata": {},
   "source": [
    "### Naive Bayes"
   ]
  },
  {
   "cell_type": "code",
   "execution_count": 9,
   "metadata": {},
   "outputs": [
    {
     "name": "stdout",
     "output_type": "stream",
     "text": [
      "[8 5 7 6 6 6 5 6 5 7] [6 5 9 9 5 6 6 9 5 9]\n"
     ]
    },
    {
     "data": {
      "image/png": "[encoded data removed]",
      "text/plain": [
       "<Figure size 400x400 with 1 Axes>"
      ]
     },
     "metadata": {},
     "output_type": "display_data"
    },
    {
     "data": {
      "text/html": [
       "<div>\n",
       "<style scoped>\n",
       "    .dataframe tbody tr th:only-of-type {\n",
       "        vertical-align: middle;\n",
       "    }\n",
       "\n",
       "    .dataframe tbody tr th {\n",
       "        vertical-align: top;\n",
       "    }\n",
       "\n",
       "    .dataframe thead th {\n",
       "        text-align: right;\n",
       "    }\n",
       "</style>\n",
       "<table border=\"1\" class=\"dataframe\">\n",
       "  <thead>\n",
       "    <tr style=\"text-align: right;\">\n",
       "      <th></th>\n",
       "      <th>modelo</th>\n",
       "      <th>accuracy</th>\n",
       "    </tr>\n",
       "  </thead>\n",
       "  <tbody>\n",
       "    <tr>\n",
       "      <th>0</th>\n",
       "      <td>Naive Bayes</td>\n",
       "      <td>0.214615</td>\n",
       "    </tr>\n",
       "  </tbody>\n",
       "</table>\n",
       "</div>"
      ],
      "text/plain": [
       "        modelo  accuracy\n",
       "0  Naive Bayes  0.214615"
      ]
     },
     "execution_count": 9,
     "metadata": {},
     "output_type": "execute_result"
    }
   ],
   "source": [
    "nome = 'Naive Bayes'\n",
    "from sklearn.naive_bayes import GaussianNB\n",
    "modelo = GaussianNB()\n",
    "modelo.fit(x_treino,y_treino)\n",
    "y_previsto = modelo.predict(x_teste)\n",
    "print(y_teste[:10],y_previsto[:10])\n",
    "plot_confusion_matrix(y_teste,y_previsto,nome)\n",
    "resultados = add_result(resultados,nome,y_teste,y_previsto)\n",
    "resultados"
   ]
  },
  {
   "cell_type": "markdown",
   "metadata": {},
   "source": [
    "### DecisionTree"
   ]
  },
  {
   "cell_type": "code",
   "execution_count": 10,
   "metadata": {},
   "outputs": [
    {
     "name": "stdout",
     "output_type": "stream",
     "text": [
      "[8 5 7 6 6 6 5 6 5 7] [7 5 7 6 5 6 5 6 5 7]\n"
     ]
    },
    {
     "data": {
      "image/png": "[encoded data removed]",
      "text/plain": [
       "<Figure size 400x400 with 1 Axes>"
      ]
     },
     "metadata": {},
     "output_type": "display_data"
    },
    {
     "data": {
      "text/html": [
       "<div>\n",
       "<style scoped>\n",
       "    .dataframe tbody tr th:only-of-type {\n",
       "        vertical-align: middle;\n",
       "    }\n",
       "\n",
       "    .dataframe tbody tr th {\n",
       "        vertical-align: top;\n",
       "    }\n",
       "\n",
       "    .dataframe thead th {\n",
       "        text-align: right;\n",
       "    }\n",
       "</style>\n",
       "<table border=\"1\" class=\"dataframe\">\n",
       "  <thead>\n",
       "    <tr style=\"text-align: right;\">\n",
       "      <th></th>\n",
       "      <th>modelo</th>\n",
       "      <th>accuracy</th>\n",
       "    </tr>\n",
       "  </thead>\n",
       "  <tbody>\n",
       "    <tr>\n",
       "      <th>0</th>\n",
       "      <td>Naive Bayes</td>\n",
       "      <td>0.214615</td>\n",
       "    </tr>\n",
       "    <tr>\n",
       "      <th>1</th>\n",
       "      <td>Decision Tree</td>\n",
       "      <td>0.598462</td>\n",
       "    </tr>\n",
       "  </tbody>\n",
       "</table>\n",
       "</div>"
      ],
      "text/plain": [
       "          modelo  accuracy\n",
       "0    Naive Bayes  0.214615\n",
       "1  Decision Tree  0.598462"
      ]
     },
     "execution_count": 10,
     "metadata": {},
     "output_type": "execute_result"
    }
   ],
   "source": [
    "nome = 'Decision Tree'\n",
    "from sklearn.tree import DecisionTreeClassifier\n",
    "modelo = DecisionTreeClassifier()\n",
    "modelo.fit(x_treino,y_treino)\n",
    "y_previsto = modelo.predict(x_teste)\n",
    "print(y_teste[:10],y_previsto[:10])\n",
    "plot_confusion_matrix(y_teste,y_previsto,nome)\n",
    "resultados = add_result(resultados,nome,y_teste,y_previsto)\n",
    "resultados"
   ]
  },
  {
   "cell_type": "markdown",
   "metadata": {},
   "source": [
    "### Random Forest"
   ]
  },
  {
   "cell_type": "code",
   "execution_count": 11,
   "metadata": {},
   "outputs": [
    {
     "name": "stdout",
     "output_type": "stream",
     "text": [
      "[8 5 7 6 6 6 5 6 5 7] [6 5 7 5 5 6 6 6 5 7]\n"
     ]
    },
    {
     "data": {
      "image/png": "[encoded data removed]",
      "text/plain": [
       "<Figure size 400x400 with 1 Axes>"
      ]
     },
     "metadata": {},
     "output_type": "display_data"
    },
    {
     "data": {
      "text/html": [
       "<div>\n",
       "<style scoped>\n",
       "    .dataframe tbody tr th:only-of-type {\n",
       "        vertical-align: middle;\n",
       "    }\n",
       "\n",
       "    .dataframe tbody tr th {\n",
       "        vertical-align: top;\n",
       "    }\n",
       "\n",
       "    .dataframe thead th {\n",
       "        text-align: right;\n",
       "    }\n",
       "</style>\n",
       "<table border=\"1\" class=\"dataframe\">\n",
       "  <thead>\n",
       "    <tr style=\"text-align: right;\">\n",
       "      <th></th>\n",
       "      <th>modelo</th>\n",
       "      <th>accuracy</th>\n",
       "    </tr>\n",
       "  </thead>\n",
       "  <tbody>\n",
       "    <tr>\n",
       "      <th>0</th>\n",
       "      <td>Naive Bayes</td>\n",
       "      <td>0.214615</td>\n",
       "    </tr>\n",
       "    <tr>\n",
       "      <th>1</th>\n",
       "      <td>Decision Tree</td>\n",
       "      <td>0.598462</td>\n",
       "    </tr>\n",
       "    <tr>\n",
       "      <th>2</th>\n",
       "      <td>Random Forest</td>\n",
       "      <td>0.676923</td>\n",
       "    </tr>\n",
       "  </tbody>\n",
       "</table>\n",
       "</div>"
      ],
      "text/plain": [
       "          modelo  accuracy\n",
       "0    Naive Bayes  0.214615\n",
       "1  Decision Tree  0.598462\n",
       "2  Random Forest  0.676923"
      ]
     },
     "execution_count": 11,
     "metadata": {},
     "output_type": "execute_result"
    }
   ],
   "source": [
    "nome = 'Random Forest'\n",
    "from sklearn.ensemble import RandomForestClassifier\n",
    "modelo = RandomForestClassifier()\n",
    "modelo.fit(x_treino,y_treino)\n",
    "y_previsto = modelo.predict(x_teste)\n",
    "print(y_teste[:10],y_previsto[:10])\n",
    "plot_confusion_matrix(y_teste,y_previsto,nome)\n",
    "resultados = add_result(resultados,nome,y_teste,y_previsto)\n",
    "resultados\n"
   ]
  },
  {
   "cell_type": "code",
   "execution_count": 12,
   "metadata": {},
   "outputs": [
    {
     "name": "stdout",
     "output_type": "stream",
     "text": [
      "[8 5 7 6 6 6 5 6 5 7] [6 5 7 5 5 6 5 6 5 6]\n"
     ]
    },
    {
     "data": {
      "image/png": "[encoded data removed]",
      "text/plain": [
       "<Figure size 400x400 with 1 Axes>"
      ]
     },
     "metadata": {},
     "output_type": "display_data"
    },
    {
     "data": {
      "text/html": [
       "<div>\n",
       "<style scoped>\n",
       "    .dataframe tbody tr th:only-of-type {\n",
       "        vertical-align: middle;\n",
       "    }\n",
       "\n",
       "    .dataframe tbody tr th {\n",
       "        vertical-align: top;\n",
       "    }\n",
       "\n",
       "    .dataframe thead th {\n",
       "        text-align: right;\n",
       "    }\n",
       "</style>\n",
       "<table border=\"1\" class=\"dataframe\">\n",
       "  <thead>\n",
       "    <tr style=\"text-align: right;\">\n",
       "      <th></th>\n",
       "      <th>modelo</th>\n",
       "      <th>accuracy</th>\n",
       "    </tr>\n",
       "  </thead>\n",
       "  <tbody>\n",
       "    <tr>\n",
       "      <th>0</th>\n",
       "      <td>Naive Bayes</td>\n",
       "      <td>0.214615</td>\n",
       "    </tr>\n",
       "    <tr>\n",
       "      <th>1</th>\n",
       "      <td>Decision Tree</td>\n",
       "      <td>0.598462</td>\n",
       "    </tr>\n",
       "    <tr>\n",
       "      <th>2</th>\n",
       "      <td>Random Forest</td>\n",
       "      <td>0.676923</td>\n",
       "    </tr>\n",
       "    <tr>\n",
       "      <th>3</th>\n",
       "      <td>KNN</td>\n",
       "      <td>0.563077</td>\n",
       "    </tr>\n",
       "  </tbody>\n",
       "</table>\n",
       "</div>"
      ],
      "text/plain": [
       "          modelo  accuracy\n",
       "0    Naive Bayes  0.214615\n",
       "1  Decision Tree  0.598462\n",
       "2  Random Forest  0.676923\n",
       "3            KNN  0.563077"
      ]
     },
     "execution_count": 12,
     "metadata": {},
     "output_type": "execute_result"
    }
   ],
   "source": [
    "nome = 'KNN'\n",
    "from sklearn.neighbors import KNeighborsClassifier\n",
    "modelo = KNeighborsClassifier()\n",
    "modelo.fit(x_treino,y_treino)\n",
    "y_previsto = modelo.predict(x_teste)\n",
    "print(y_teste[:10],y_previsto[:10])\n",
    "plot_confusion_matrix(y_teste,y_previsto,nome)\n",
    "resultados = add_result(resultados,nome,y_teste,y_previsto)\n",
    "resultados"
   ]
  },
  {
   "cell_type": "markdown",
   "metadata": {},
   "source": [
    "### Support Vector Machine"
   ]
  },
  {
   "cell_type": "code",
   "execution_count": 13,
   "metadata": {},
   "outputs": [
    {
     "name": "stdout",
     "output_type": "stream",
     "text": [
      "[8 5 7 6 6 6 5 6 5 7] [6 5 6 6 5 6 6 6 5 6]\n"
     ]
    },
    {
     "data": {
      "image/png": "[encoded data removed]",
      "text/plain": [
       "<Figure size 400x400 with 1 Axes>"
      ]
     },
     "metadata": {},
     "output_type": "display_data"
    },
    {
     "data": {
      "text/html": [
       "<div>\n",
       "<style scoped>\n",
       "    .dataframe tbody tr th:only-of-type {\n",
       "        vertical-align: middle;\n",
       "    }\n",
       "\n",
       "    .dataframe tbody tr th {\n",
       "        vertical-align: top;\n",
       "    }\n",
       "\n",
       "    .dataframe thead th {\n",
       "        text-align: right;\n",
       "    }\n",
       "</style>\n",
       "<table border=\"1\" class=\"dataframe\">\n",
       "  <thead>\n",
       "    <tr style=\"text-align: right;\">\n",
       "      <th></th>\n",
       "      <th>modelo</th>\n",
       "      <th>accuracy</th>\n",
       "    </tr>\n",
       "  </thead>\n",
       "  <tbody>\n",
       "    <tr>\n",
       "      <th>0</th>\n",
       "      <td>Naive Bayes</td>\n",
       "      <td>0.214615</td>\n",
       "    </tr>\n",
       "    <tr>\n",
       "      <th>1</th>\n",
       "      <td>Decision Tree</td>\n",
       "      <td>0.598462</td>\n",
       "    </tr>\n",
       "    <tr>\n",
       "      <th>2</th>\n",
       "      <td>Random Forest</td>\n",
       "      <td>0.676923</td>\n",
       "    </tr>\n",
       "    <tr>\n",
       "      <th>3</th>\n",
       "      <td>KNN</td>\n",
       "      <td>0.563077</td>\n",
       "    </tr>\n",
       "    <tr>\n",
       "      <th>4</th>\n",
       "      <td>Support Vector Machine</td>\n",
       "      <td>0.541538</td>\n",
       "    </tr>\n",
       "  </tbody>\n",
       "</table>\n",
       "</div>"
      ],
      "text/plain": [
       "                   modelo  accuracy\n",
       "0             Naive Bayes  0.214615\n",
       "1           Decision Tree  0.598462\n",
       "2           Random Forest  0.676923\n",
       "3                     KNN  0.563077\n",
       "4  Support Vector Machine  0.541538"
      ]
     },
     "execution_count": 13,
     "metadata": {},
     "output_type": "execute_result"
    }
   ],
   "source": [
    "nome = 'Support Vector Machine'\n",
    "from sklearn.svm import SVC\n",
    "modelo = SVC()\n",
    "modelo.fit(x_treino,y_treino)\n",
    "y_previsto = modelo.predict(x_teste)\n",
    "print(y_teste[:10],y_previsto[:10])\n",
    "plot_confusion_matrix(y_teste,y_previsto,nome)\n",
    "resultados = add_result(resultados,nome,y_teste,y_previsto)\n",
    "resultados"
   ]
  },
  {
   "cell_type": "markdown",
   "metadata": {},
   "source": [
    "### Regressão Logística"
   ]
  },
  {
   "cell_type": "code",
   "execution_count": 14,
   "metadata": {},
   "outputs": [
    {
     "name": "stderr",
     "output_type": "stream",
     "text": [
      "d:\\Drive Unesc\\Meu Drive\\2023-2\\5af - Ciência de Dados\\Notebooks\\Unidade 3\\venv\\lib\\site-packages\\sklearn\\linear_model\\_logistic.py:460: ConvergenceWarning: lbfgs failed to converge (status=1):\n",
      "STOP: TOTAL NO. of ITERATIONS REACHED LIMIT.\n",
      "\n",
      "Increase the number of iterations (max_iter) or scale the data as shown in:\n",
      "    https://scikit-learn.org/stable/modules/preprocessing.html\n",
      "Please also refer to the documentation for alternative solver options:\n",
      "    https://scikit-learn.org/stable/modules/linear_model.html#logistic-regression\n",
      "  n_iter_i = _check_optimize_result(\n"
     ]
    },
    {
     "name": "stdout",
     "output_type": "stream",
     "text": [
      "[8 5 7 6 6 6 5 6 5 7] [6 5 6 5 5 6 6 6 5 6]\n"
     ]
    },
    {
     "data": {
      "image/png": "[encoded data removed]",
      "text/plain": [
       "<Figure size 400x400 with 1 Axes>"
      ]
     },
     "metadata": {},
     "output_type": "display_data"
    },
    {
     "data": {
      "text/html": [
       "<div>\n",
       "<style scoped>\n",
       "    .dataframe tbody tr th:only-of-type {\n",
       "        vertical-align: middle;\n",
       "    }\n",
       "\n",
       "    .dataframe tbody tr th {\n",
       "        vertical-align: top;\n",
       "    }\n",
       "\n",
       "    .dataframe thead th {\n",
       "        text-align: right;\n",
       "    }\n",
       "</style>\n",
       "<table border=\"1\" class=\"dataframe\">\n",
       "  <thead>\n",
       "    <tr style=\"text-align: right;\">\n",
       "      <th></th>\n",
       "      <th>modelo</th>\n",
       "      <th>accuracy</th>\n",
       "    </tr>\n",
       "  </thead>\n",
       "  <tbody>\n",
       "    <tr>\n",
       "      <th>0</th>\n",
       "      <td>Naive Bayes</td>\n",
       "      <td>0.214615</td>\n",
       "    </tr>\n",
       "    <tr>\n",
       "      <th>1</th>\n",
       "      <td>Decision Tree</td>\n",
       "      <td>0.598462</td>\n",
       "    </tr>\n",
       "    <tr>\n",
       "      <th>2</th>\n",
       "      <td>Random Forest</td>\n",
       "      <td>0.676923</td>\n",
       "    </tr>\n",
       "    <tr>\n",
       "      <th>3</th>\n",
       "      <td>KNN</td>\n",
       "      <td>0.563077</td>\n",
       "    </tr>\n",
       "    <tr>\n",
       "      <th>4</th>\n",
       "      <td>Support Vector Machine</td>\n",
       "      <td>0.541538</td>\n",
       "    </tr>\n",
       "    <tr>\n",
       "      <th>5</th>\n",
       "      <td>Regressão Logística</td>\n",
       "      <td>0.531538</td>\n",
       "    </tr>\n",
       "  </tbody>\n",
       "</table>\n",
       "</div>"
      ],
      "text/plain": [
       "                   modelo  accuracy\n",
       "0             Naive Bayes  0.214615\n",
       "1           Decision Tree  0.598462\n",
       "2           Random Forest  0.676923\n",
       "3                     KNN  0.563077\n",
       "4  Support Vector Machine  0.541538\n",
       "5     Regressão Logística  0.531538"
      ]
     },
     "execution_count": 14,
     "metadata": {},
     "output_type": "execute_result"
    }
   ],
   "source": [
    "nome = 'Regressão Logística'\n",
    "from sklearn.linear_model import LogisticRegression\n",
    "modelo = LogisticRegression()\n",
    "modelo.fit(x_treino,y_treino)\n",
    "y_previsto = modelo.predict(x_teste)\n",
    "print(y_teste[:10],y_previsto[:10])\n",
    "plot_confusion_matrix(y_teste,y_previsto,nome)\n",
    "resultados = add_result(resultados,nome,y_teste,y_previsto)\n",
    "resultados"
   ]
  },
  {
   "cell_type": "markdown",
   "metadata": {},
   "source": [
    "### Rede neural artificial"
   ]
  },
  {
   "cell_type": "code",
   "execution_count": 15,
   "metadata": {},
   "outputs": [
    {
     "name": "stderr",
     "output_type": "stream",
     "text": [
      "d:\\Drive Unesc\\Meu Drive\\2023-2\\5af - Ciência de Dados\\Notebooks\\Unidade 3\\venv\\lib\\site-packages\\sklearn\\neural_network\\_multilayer_perceptron.py:691: ConvergenceWarning: Stochastic Optimizer: Maximum iterations (200) reached and the optimization hasn't converged yet.\n",
      "  warnings.warn(\n"
     ]
    },
    {
     "name": "stdout",
     "output_type": "stream",
     "text": [
      "[8 5 7 6 6 6 5 6 5 7] [6 5 7 5 5 6 6 6 5 6]\n"
     ]
    },
    {
     "data": {
      "image/png": "[encoded data removed]",
      "text/plain": [
       "<Figure size 400x400 with 1 Axes>"
      ]
     },
     "metadata": {},
     "output_type": "display_data"
    },
    {
     "data": {
      "text/html": [
       "<div>\n",
       "<style scoped>\n",
       "    .dataframe tbody tr th:only-of-type {\n",
       "        vertical-align: middle;\n",
       "    }\n",
       "\n",
       "    .dataframe tbody tr th {\n",
       "        vertical-align: top;\n",
       "    }\n",
       "\n",
       "    .dataframe thead th {\n",
       "        text-align: right;\n",
       "    }\n",
       "</style>\n",
       "<table border=\"1\" class=\"dataframe\">\n",
       "  <thead>\n",
       "    <tr style=\"text-align: right;\">\n",
       "      <th></th>\n",
       "      <th>modelo</th>\n",
       "      <th>accuracy</th>\n",
       "    </tr>\n",
       "  </thead>\n",
       "  <tbody>\n",
       "    <tr>\n",
       "      <th>0</th>\n",
       "      <td>Naive Bayes</td>\n",
       "      <td>0.214615</td>\n",
       "    </tr>\n",
       "    <tr>\n",
       "      <th>1</th>\n",
       "      <td>Decision Tree</td>\n",
       "      <td>0.598462</td>\n",
       "    </tr>\n",
       "    <tr>\n",
       "      <th>2</th>\n",
       "      <td>Random Forest</td>\n",
       "      <td>0.676923</td>\n",
       "    </tr>\n",
       "    <tr>\n",
       "      <th>3</th>\n",
       "      <td>KNN</td>\n",
       "      <td>0.563077</td>\n",
       "    </tr>\n",
       "    <tr>\n",
       "      <th>4</th>\n",
       "      <td>Support Vector Machine</td>\n",
       "      <td>0.541538</td>\n",
       "    </tr>\n",
       "    <tr>\n",
       "      <th>5</th>\n",
       "      <td>Regressão Logística</td>\n",
       "      <td>0.531538</td>\n",
       "    </tr>\n",
       "    <tr>\n",
       "      <th>6</th>\n",
       "      <td>Rede neural</td>\n",
       "      <td>0.558462</td>\n",
       "    </tr>\n",
       "  </tbody>\n",
       "</table>\n",
       "</div>"
      ],
      "text/plain": [
       "                   modelo  accuracy\n",
       "0             Naive Bayes  0.214615\n",
       "1           Decision Tree  0.598462\n",
       "2           Random Forest  0.676923\n",
       "3                     KNN  0.563077\n",
       "4  Support Vector Machine  0.541538\n",
       "5     Regressão Logística  0.531538\n",
       "6             Rede neural  0.558462"
      ]
     },
     "execution_count": 15,
     "metadata": {},
     "output_type": "execute_result"
    }
   ],
   "source": [
    "nome = 'Rede neural'\n",
    "from sklearn.neural_network import MLPClassifier\n",
    "modelo = MLPClassifier()\n",
    "modelo.fit(x_treino,y_treino)\n",
    "y_previsto = modelo.predict(x_teste)\n",
    "print(y_teste[:10],y_previsto[:10])\n",
    "plot_confusion_matrix(y_teste,y_previsto,nome)\n",
    "resultados = add_result(resultados,nome,y_teste,y_previsto)\n",
    "resultados"
   ]
  },
  {
   "cell_type": "markdown",
   "metadata": {},
   "source": [
    "## Salvando modelo"
   ]
  },
  {
   "cell_type": "code",
   "execution_count": 16,
   "metadata": {},
   "outputs": [
    {
     "data": {
      "text/plain": [
       "['modelo_final.pkl']"
      ]
     },
     "execution_count": 16,
     "metadata": {},
     "output_type": "execute_result"
    }
   ],
   "source": [
    "import joblib\n",
    "modelo_final = RandomForestClassifier()\n",
    "modelo_final.fit(x,y)\n",
    "arquivo = 'modelo_final.pkl'\n",
    "joblib.dump(modelo_final, arquivo)"
   ]
  },
  {
   "cell_type": "markdown",
   "metadata": {},
   "source": [
    "## Carregando modelo"
   ]
  },
  {
   "cell_type": "code",
   "execution_count": 17,
   "metadata": {},
   "outputs": [
    {
     "data": {
      "text/plain": [
       "array([8, 5, 7, ..., 7, 6, 7], dtype=int64)"
      ]
     },
     "execution_count": 17,
     "metadata": {},
     "output_type": "execute_result"
    }
   ],
   "source": [
    "modelo_carregado = joblib.load(arquivo)\n",
    "y_previsto = modelo_carregado.predict(x_teste)\n",
    "y_previsto"
   ]
  },
  {
   "cell_type": "code",
   "execution_count": null,
   "metadata": {},
   "outputs": [],
   "source": []
  }
 ],
 "metadata": {
  "kernelspec": {
   "display_name": "venv",
   "language": "python",
   "name": "python3"
  },
  "language_info": {
   "codemirror_mode": {
    "name": "ipython",
    "version": 3
   },
   "file_extension": ".py",
   "mimetype": "text/x-python",
   "name": "python",
   "nbconvert_exporter": "python",
   "pygments_lexer": "ipython3",
   "version": "3.9.13"
  },
  "orig_nbformat": 4
 },
 "nbformat": 4,
 "nbformat_minor": 2
}
