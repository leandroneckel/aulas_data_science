{
 "cells": [
  {
   "cell_type": "code",
   "execution_count": 5,
   "metadata": {},
   "outputs": [],
   "source": [
    "import pandas as pd\n",
    "dados = pd.read_excel('dados_vinho_tratado.xlsx')\n",
    "x = dados.iloc[:,:13].values\n",
    "y = dados.iloc[:,13].values\n",
    "from sklearn.model_selection import train_test_split\n",
    "x_treino,x_teste,y_treino,y_teste = train_test_split(x,y,train_size=0.8,random_state=42)"
   ]
  },
  {
   "cell_type": "markdown",
   "metadata": {},
   "source": [
    "# Teste de hiperparâmetros\n",
    "\n",
    "Cada algoritmo de ML tem parâmetros que influenciam no método de treinamento do modelo. Esses parâmetros do algoritmo são chamados de hiperparâmetros."
   ]
  },
  {
   "cell_type": "code",
   "execution_count": 17,
   "metadata": {},
   "outputs": [],
   "source": [
    "from sklearn.metrics import accuracy_score,precision_score,recall_score,f1_score\n",
    "import pandas as pd\n",
    "resultados = pd.DataFrame(columns=['modelo','accuracy','precision','recall','f1'])\n",
    "def add_result(resultados,y_real,y_previsto):\n",
    "    modelo = input('Nome do modelo')\n",
    "    acc = accuracy_score(y_real,y_previsto)\n",
    "    prec = precision_score(y_real,y_previsto)\n",
    "    reca = recall_score(y_real,y_previsto)\n",
    "    f1 = f1_score(y_real,y_previsto)\n",
    "    resultados.loc[resultados.shape[0]]=[modelo,acc,prec,reca,f1]\n",
    "    return resultados"
   ]
  },
  {
   "cell_type": "markdown",
   "metadata": {},
   "source": [
    "## Hiperparâmetros da árvore de decisão\n",
    "\n",
    "![Alt text](image-15.png)\n",
    "\n",
    "[documentação do DecisionTreeClassifier](https://scikit-learn.org/stable/modules/generated/sklearn.tree.DecisionTreeClassifier.html)"
   ]
  },
  {
   "cell_type": "code",
   "execution_count": 22,
   "metadata": {},
   "outputs": [
    {
     "data": {
      "text/html": [
       "<div>\n",
       "<style scoped>\n",
       "    .dataframe tbody tr th:only-of-type {\n",
       "        vertical-align: middle;\n",
       "    }\n",
       "\n",
       "    .dataframe tbody tr th {\n",
       "        vertical-align: top;\n",
       "    }\n",
       "\n",
       "    .dataframe thead th {\n",
       "        text-align: right;\n",
       "    }\n",
       "</style>\n",
       "<table border=\"1\" class=\"dataframe\">\n",
       "  <thead>\n",
       "    <tr style=\"text-align: right;\">\n",
       "      <th></th>\n",
       "      <th>modelo</th>\n",
       "      <th>accuracy</th>\n",
       "      <th>precision</th>\n",
       "      <th>recall</th>\n",
       "      <th>f1</th>\n",
       "    </tr>\n",
       "  </thead>\n",
       "  <tbody>\n",
       "    <tr>\n",
       "      <th>0</th>\n",
       "      <td>arvore, gini, best, none, 2, 1</td>\n",
       "      <td>0.836923</td>\n",
       "      <td>0.570423</td>\n",
       "      <td>0.642857</td>\n",
       "      <td>0.604478</td>\n",
       "    </tr>\n",
       "    <tr>\n",
       "      <th>1</th>\n",
       "      <td>arvore, entropy, random, 4, 2, 1</td>\n",
       "      <td>0.820000</td>\n",
       "      <td>0.595745</td>\n",
       "      <td>0.222222</td>\n",
       "      <td>0.323699</td>\n",
       "    </tr>\n",
       "    <tr>\n",
       "      <th>2</th>\n",
       "      <td>gini random 5, 0.2, 1</td>\n",
       "      <td>0.806154</td>\n",
       "      <td>0.000000</td>\n",
       "      <td>0.000000</td>\n",
       "      <td>0.000000</td>\n",
       "    </tr>\n",
       "    <tr>\n",
       "      <th>3</th>\n",
       "      <td>teste</td>\n",
       "      <td>0.836923</td>\n",
       "      <td>0.570423</td>\n",
       "      <td>0.642857</td>\n",
       "      <td>0.604478</td>\n",
       "    </tr>\n",
       "    <tr>\n",
       "      <th>4</th>\n",
       "      <td>teste2</td>\n",
       "      <td>0.833077</td>\n",
       "      <td>0.562724</td>\n",
       "      <td>0.623016</td>\n",
       "      <td>0.591337</td>\n",
       "    </tr>\n",
       "  </tbody>\n",
       "</table>\n",
       "</div>"
      ],
      "text/plain": [
       "                             modelo  accuracy  precision    recall        f1\n",
       "0    arvore, gini, best, none, 2, 1  0.836923   0.570423  0.642857  0.604478\n",
       "1  arvore, entropy, random, 4, 2, 1  0.820000   0.595745  0.222222  0.323699\n",
       "2             gini random 5, 0.2, 1  0.806154   0.000000  0.000000  0.000000\n",
       "3                             teste  0.836923   0.570423  0.642857  0.604478\n",
       "4                            teste2  0.833077   0.562724  0.623016  0.591337"
      ]
     },
     "execution_count": 22,
     "metadata": {},
     "output_type": "execute_result"
    }
   ],
   "source": [
    "from sklearn.tree import DecisionTreeClassifier\n",
    "modelo = DecisionTreeClassifier(\n",
    "    criterion = 'gini', #“gini”, “entropy”, “log_loss”,\n",
    "    splitter = 'best', #“best”, “random”}\n",
    "    max_depth = None, #int\n",
    "    min_samples_split = 2, #int ou float para fração\n",
    "    min_samples_leaf = 1, #int ou float para fração \n",
    "    random_state= 9\n",
    ")\n",
    "modelo.fit(x_treino,y_treino)\n",
    "y_previsto = modelo.predict(x_teste)\n",
    "resultados = add_result(resultados,y_teste,y_previsto)\n",
    "resultados\n"
   ]
  },
  {
   "cell_type": "code",
   "execution_count": null,
   "metadata": {},
   "outputs": [],
   "source": []
  }
 ],
 "metadata": {
  "kernelspec": {
   "display_name": "venv",
   "language": "python",
   "name": "python3"
  },
  "language_info": {
   "codemirror_mode": {
    "name": "ipython",
    "version": 3
   },
   "file_extension": ".py",
   "mimetype": "text/x-python",
   "name": "python",
   "nbconvert_exporter": "python",
   "pygments_lexer": "ipython3",
   "version": "3.9.13"
  },
  "orig_nbformat": 4
 },
 "nbformat": 4,
 "nbformat_minor": 2
}
