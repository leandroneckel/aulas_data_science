{
 "cells": [
  {
   "cell_type": "markdown",
   "metadata": {},
   "source": [
    "# Machine Learning Classificação\n",
    "\n",
    "Continuação"
   ]
  },
  {
   "cell_type": "code",
   "execution_count": 1,
   "metadata": {},
   "outputs": [],
   "source": [
    "import pandas as pd\n",
    "dados = pd.read_excel('dados_vinho_tratado.xlsx')\n",
    "x = dados.iloc[:,:13].values\n",
    "y = dados.iloc[:,13].values\n",
    "from sklearn.model_selection import train_test_split\n",
    "x_treino,x_teste,y_treino,y_teste = train_test_split(x,y,train_size=0.8,random_state=42)"
   ]
  },
  {
   "cell_type": "markdown",
   "metadata": {},
   "source": [
    "## Avaliação de modelos de machine learning\n",
    "\n",
    "Preparação dos modelos"
   ]
  },
  {
   "cell_type": "code",
   "execution_count": 2,
   "metadata": {},
   "outputs": [],
   "source": [
    "from sklearn.naive_bayes import GaussianNB\n",
    "from sklearn.tree import DecisionTreeClassifier\n",
    "from sklearn.ensemble import RandomForestClassifier\n",
    "from sklearn.neighbors import KNeighborsClassifier\n",
    "from sklearn.svm import SVC\n",
    "from sklearn.linear_model import LogisticRegression\n",
    "from sklearn.neural_network import MLPClassifier\n",
    "\n",
    "classes = [\n",
    "    GaussianNB(),\n",
    "    DecisionTreeClassifier(),\n",
    "    RandomForestClassifier(),\n",
    "    KNeighborsClassifier(),\n",
    "    SVC(),\n",
    "    LogisticRegression(),\n",
    "    MLPClassifier(),\n",
    "]\n",
    "nomes = [\n",
    "    \"Naive Bayes\",\n",
    "    \"Árvore de decisão\",\n",
    "    \"Random Forest\",\n",
    "    \"KNN\",\n",
    "    \"Suport Vector Machine\",\n",
    "    \"Regressão Logística\",\n",
    "    \"Rede Neural\"\n",
    "]"
   ]
  },
  {
   "cell_type": "code",
   "execution_count": 3,
   "metadata": {},
   "outputs": [
    {
     "name": "stderr",
     "output_type": "stream",
     "text": [
      "d:\\Drive Unesc\\Meu Drive\\2023-2\\5af - Ciência de Dados\\Notebooks\\Unidade 3\\venv\\lib\\site-packages\\sklearn\\neural_network\\_multilayer_perceptron.py:691: ConvergenceWarning: Stochastic Optimizer: Maximum iterations (200) reached and the optimization hasn't converged yet.\n",
      "  warnings.warn(\n"
     ]
    }
   ],
   "source": [
    "resultados = []\n",
    "for indice,item in enumerate(classes):\n",
    "    modelo = item\n",
    "    modelo.fit(x_treino,y_treino)\n",
    "    y_previsto = modelo.predict(x_teste)\n",
    "    resultados.append(y_previsto)"
   ]
  },
  {
   "cell_type": "code",
   "execution_count": 4,
   "metadata": {},
   "outputs": [
    {
     "data": {
      "text/plain": [
       "[array([0, 0, 1, ..., 1, 0, 0], dtype=int64),\n",
       " array([0, 0, 1, ..., 0, 0, 1], dtype=int64),\n",
       " array([0, 0, 1, ..., 1, 0, 1], dtype=int64),\n",
       " array([0, 0, 1, ..., 0, 0, 1], dtype=int64),\n",
       " array([0, 0, 0, ..., 0, 0, 0], dtype=int64),\n",
       " array([1, 0, 0, ..., 1, 0, 0], dtype=int64),\n",
       " array([0, 0, 1, ..., 1, 0, 0], dtype=int64)]"
      ]
     },
     "execution_count": 4,
     "metadata": {},
     "output_type": "execute_result"
    }
   ],
   "source": [
    "resultados"
   ]
  },
  {
   "cell_type": "markdown",
   "metadata": {},
   "source": [
    "\n",
    "### Acuracidade ou accuracy score\n",
    "\n",
    "Proporção do total de acertos do modelo, independente da classe\n",
    "\n",
    "![Alt text](image-11.png)"
   ]
  },
  {
   "cell_type": "code",
   "execution_count": 5,
   "metadata": {},
   "outputs": [
    {
     "data": {
      "text/plain": [
       "0.7476923076923077"
      ]
     },
     "execution_count": 5,
     "metadata": {},
     "output_type": "execute_result"
    }
   ],
   "source": [
    "from sklearn.metrics import accuracy_score\n",
    "accuracy_score(y_teste,resultados[0])"
   ]
  },
  {
   "cell_type": "code",
   "execution_count": 6,
   "metadata": {},
   "outputs": [],
   "source": [
    "df_results = pd.DataFrame()\n",
    "df_results['modelo'] = nomes"
   ]
  },
  {
   "cell_type": "code",
   "execution_count": 7,
   "metadata": {},
   "outputs": [
    {
     "data": {
      "text/html": [
       "<div>\n",
       "<style scoped>\n",
       "    .dataframe tbody tr th:only-of-type {\n",
       "        vertical-align: middle;\n",
       "    }\n",
       "\n",
       "    .dataframe tbody tr th {\n",
       "        vertical-align: top;\n",
       "    }\n",
       "\n",
       "    .dataframe thead th {\n",
       "        text-align: right;\n",
       "    }\n",
       "</style>\n",
       "<table border=\"1\" class=\"dataframe\">\n",
       "  <thead>\n",
       "    <tr style=\"text-align: right;\">\n",
       "      <th></th>\n",
       "      <th>modelo</th>\n",
       "      <th>Accuracy Score</th>\n",
       "    </tr>\n",
       "  </thead>\n",
       "  <tbody>\n",
       "    <tr>\n",
       "      <th>0</th>\n",
       "      <td>Naive Bayes</td>\n",
       "      <td>0.747692</td>\n",
       "    </tr>\n",
       "    <tr>\n",
       "      <th>1</th>\n",
       "      <td>Árvore de decisão</td>\n",
       "      <td>0.840000</td>\n",
       "    </tr>\n",
       "    <tr>\n",
       "      <th>2</th>\n",
       "      <td>Random Forest</td>\n",
       "      <td>0.895385</td>\n",
       "    </tr>\n",
       "    <tr>\n",
       "      <th>3</th>\n",
       "      <td>KNN</td>\n",
       "      <td>0.842308</td>\n",
       "    </tr>\n",
       "    <tr>\n",
       "      <th>4</th>\n",
       "      <td>Suport Vector Machine</td>\n",
       "      <td>0.821538</td>\n",
       "    </tr>\n",
       "    <tr>\n",
       "      <th>5</th>\n",
       "      <td>Regressão Logística</td>\n",
       "      <td>0.825385</td>\n",
       "    </tr>\n",
       "    <tr>\n",
       "      <th>6</th>\n",
       "      <td>Rede Neural</td>\n",
       "      <td>0.831538</td>\n",
       "    </tr>\n",
       "  </tbody>\n",
       "</table>\n",
       "</div>"
      ],
      "text/plain": [
       "                  modelo  Accuracy Score\n",
       "0            Naive Bayes        0.747692\n",
       "1      Árvore de decisão        0.840000\n",
       "2          Random Forest        0.895385\n",
       "3                    KNN        0.842308\n",
       "4  Suport Vector Machine        0.821538\n",
       "5    Regressão Logística        0.825385\n",
       "6            Rede Neural        0.831538"
      ]
     },
     "execution_count": 7,
     "metadata": {},
     "output_type": "execute_result"
    }
   ],
   "source": [
    "accuracy_score_lista = []\n",
    "for item in resultados:\n",
    "    acc = accuracy_score(y_teste,item)\n",
    "    accuracy_score_lista.append(acc)\n",
    "df_results['Accuracy Score'] = accuracy_score_lista\n",
    "df_results"
   ]
  },
  {
   "cell_type": "markdown",
   "metadata": {},
   "source": [
    "### Matriz de confusão\n",
    "\n",
    "Mostra de forma geral a contagem das classificações do modelo\n",
    "\n",
    "![Alt text](image-12.png)"
   ]
  },
  {
   "cell_type": "code",
   "execution_count": 8,
   "metadata": {},
   "outputs": [],
   "source": [
    "import matplotlib.pyplot as plt\n",
    "from sklearn.metrics import confusion_matrix\n",
    "import numpy as np\n",
    "import seaborn as sns\n",
    "def plot_confusion_matrix(y_true, y_pred, nome,classes=[0,1]):\n",
    "    cmap=sns.cubehelix_palette(as_cmap=True)\n",
    "    cm = confusion_matrix(y_true, y_pred)\n",
    "    fig, ax = plt.subplots(figsize=(4, 4))\n",
    "    sns.heatmap(cm, cmap=cmap, cbar=False)\n",
    "    for i in range(cm.shape[0]):\n",
    "        for j in range(cm.shape[1]):\n",
    "            plt.text(j + 0.5, i + 0.5, str(cm[i, j]),\n",
    "                     horizontalalignment='center',\n",
    "                     verticalalignment='center',\n",
    "                     color='white' if cm[i, j] > (0.5*cm.max()) else 'black')\n",
    "    plt.title(nome)\n",
    "    plt.ylabel('Verdadeiro')\n",
    "    plt.xlabel('Previsto')\n",
    "    plt.xticks(ticks=np.arange(len(classes)) + 0.5, labels=classes)\n",
    "    plt.yticks(ticks=np.arange(len(classes)) + 0.5, labels=classes)\n",
    "    plt.tight_layout()\n",
    "    plt.show()"
   ]
  },
  {
   "cell_type": "code",
   "execution_count": 9,
   "metadata": {},
   "outputs": [
    {
     "data": {
      "image/png": "[encoded data removed]",
      "text/plain": [
       "<Figure size 400x400 with 1 Axes>"
      ]
     },
     "metadata": {},
     "output_type": "display_data"
    }
   ],
   "source": [
    "indice = 0\n",
    "plot_confusion_matrix(y_teste,resultados[indice],nomes[indice])"
   ]
  },
  {
   "cell_type": "code",
   "execution_count": 10,
   "metadata": {},
   "outputs": [
    {
     "data": {
      "image/png": "[encoded data removed]",
      "text/plain": [
       "<Figure size 400x400 with 1 Axes>"
      ]
     },
     "metadata": {},
     "output_type": "display_data"
    },
    {
     "data": {
      "text/plain": [
       "<Figure size 640x480 with 0 Axes>"
      ]
     },
     "metadata": {},
     "output_type": "display_data"
    },
    {
     "data": {
      "image/png": "[encoded data removed]",
      "text/plain": [
       "<Figure size 400x400 with 1 Axes>"
      ]
     },
     "metadata": {},
     "output_type": "display_data"
    },
    {
     "data": {
      "text/plain": [
       "<Figure size 640x480 with 0 Axes>"
      ]
     },
     "metadata": {},
     "output_type": "display_data"
    },
    {
     "data": {
      "image/png": "[encoded data removed]",
      "text/plain": [
       "<Figure size 400x400 with 1 Axes>"
      ]
     },
     "metadata": {},
     "output_type": "display_data"
    },
    {
     "data": {
      "text/plain": [
       "<Figure size 640x480 with 0 Axes>"
      ]
     },
     "metadata": {},
     "output_type": "display_data"
    },
    {
     "data": {
      "image/png": "[encoded data removed]",
      "text/plain": [
       "<Figure size 400x400 with 1 Axes>"
      ]
     },
     "metadata": {},
     "output_type": "display_data"
    },
    {
     "data": {
      "text/plain": [
       "<Figure size 640x480 with 0 Axes>"
      ]
     },
     "metadata": {},
     "output_type": "display_data"
    },
    {
     "data": {
      "image/png": "[encoded data removed]",
      "text/plain": [
       "<Figure size 400x400 with 1 Axes>"
      ]
     },
     "metadata": {},
     "output_type": "display_data"
    },
    {
     "data": {
      "text/plain": [
       "<Figure size 640x480 with 0 Axes>"
      ]
     },
     "metadata": {},
     "output_type": "display_data"
    },
    {
     "data": {
      "image/png": "[encoded data removed]",
      "text/plain": [
       "<Figure size 400x400 with 1 Axes>"
      ]
     },
     "metadata": {},
     "output_type": "display_data"
    },
    {
     "data": {
      "text/plain": [
       "<Figure size 640x480 with 0 Axes>"
      ]
     },
     "metadata": {},
     "output_type": "display_data"
    },
    {
     "data": {
      "image/png": "[encoded data removed]",
      "text/plain": [
       "<Figure size 400x400 with 1 Axes>"
      ]
     },
     "metadata": {},
     "output_type": "display_data"
    },
    {
     "data": {
      "text/plain": [
       "<Figure size 640x480 with 0 Axes>"
      ]
     },
     "metadata": {},
     "output_type": "display_data"
    }
   ],
   "source": [
    "for indice,item in enumerate(resultados):\n",
    "    plot_confusion_matrix(y_teste,resultados[indice],nomes[indice])\n",
    "    plt.savefig(f'{nomes[indice]}.jpg')\n",
    "    "
   ]
  },
  {
   "cell_type": "markdown",
   "metadata": {},
   "source": [
    "### Precision e Recall\n",
    "\n",
    "A precisão averigua qual é a fração das vezes que o modelo classificou como positivo e estava correto\n",
    "\n",
    "O Recall (sensibilidade) é a fração das vezes em que o valor era positivo e o modelo classificou corretamente\n",
    "\n",
    "![Alt text](image-13.png)"
   ]
  },
  {
   "cell_type": "code",
   "execution_count": 11,
   "metadata": {},
   "outputs": [
    {
     "data": {
      "text/html": [
       "<div>\n",
       "<style scoped>\n",
       "    .dataframe tbody tr th:only-of-type {\n",
       "        vertical-align: middle;\n",
       "    }\n",
       "\n",
       "    .dataframe tbody tr th {\n",
       "        vertical-align: top;\n",
       "    }\n",
       "\n",
       "    .dataframe thead th {\n",
       "        text-align: right;\n",
       "    }\n",
       "</style>\n",
       "<table border=\"1\" class=\"dataframe\">\n",
       "  <thead>\n",
       "    <tr style=\"text-align: right;\">\n",
       "      <th></th>\n",
       "      <th>modelo</th>\n",
       "      <th>Accuracy Score</th>\n",
       "      <th>Precision Score</th>\n",
       "      <th>Recall Score</th>\n",
       "    </tr>\n",
       "  </thead>\n",
       "  <tbody>\n",
       "    <tr>\n",
       "      <th>0</th>\n",
       "      <td>Naive Bayes</td>\n",
       "      <td>0.747692</td>\n",
       "      <td>0.407767</td>\n",
       "      <td>0.666667</td>\n",
       "    </tr>\n",
       "    <tr>\n",
       "      <th>1</th>\n",
       "      <td>Árvore de decisão</td>\n",
       "      <td>0.840000</td>\n",
       "      <td>0.579710</td>\n",
       "      <td>0.634921</td>\n",
       "    </tr>\n",
       "    <tr>\n",
       "      <th>2</th>\n",
       "      <td>Random Forest</td>\n",
       "      <td>0.895385</td>\n",
       "      <td>0.825843</td>\n",
       "      <td>0.583333</td>\n",
       "    </tr>\n",
       "    <tr>\n",
       "      <th>3</th>\n",
       "      <td>KNN</td>\n",
       "      <td>0.842308</td>\n",
       "      <td>0.619289</td>\n",
       "      <td>0.484127</td>\n",
       "    </tr>\n",
       "    <tr>\n",
       "      <th>4</th>\n",
       "      <td>Suport Vector Machine</td>\n",
       "      <td>0.821538</td>\n",
       "      <td>0.708333</td>\n",
       "      <td>0.134921</td>\n",
       "    </tr>\n",
       "    <tr>\n",
       "      <th>5</th>\n",
       "      <td>Regressão Logística</td>\n",
       "      <td>0.825385</td>\n",
       "      <td>0.640449</td>\n",
       "      <td>0.226190</td>\n",
       "    </tr>\n",
       "    <tr>\n",
       "      <th>6</th>\n",
       "      <td>Rede Neural</td>\n",
       "      <td>0.831538</td>\n",
       "      <td>0.624060</td>\n",
       "      <td>0.329365</td>\n",
       "    </tr>\n",
       "  </tbody>\n",
       "</table>\n",
       "</div>"
      ],
      "text/plain": [
       "                  modelo  Accuracy Score  Precision Score  Recall Score\n",
       "0            Naive Bayes        0.747692         0.407767      0.666667\n",
       "1      Árvore de decisão        0.840000         0.579710      0.634921\n",
       "2          Random Forest        0.895385         0.825843      0.583333\n",
       "3                    KNN        0.842308         0.619289      0.484127\n",
       "4  Suport Vector Machine        0.821538         0.708333      0.134921\n",
       "5    Regressão Logística        0.825385         0.640449      0.226190\n",
       "6            Rede Neural        0.831538         0.624060      0.329365"
      ]
     },
     "execution_count": 11,
     "metadata": {},
     "output_type": "execute_result"
    }
   ],
   "source": [
    "from sklearn.metrics import precision_score,recall_score\n",
    "precision_lista = []\n",
    "recall_lista = []\n",
    "for item in resultados:\n",
    "    prec = precision_score(y_teste,item)\n",
    "    reca = recall_score(y_teste,item)\n",
    "    precision_lista.append(prec)\n",
    "    recall_lista.append(reca)\n",
    "df_results['Precision Score'] = precision_lista\n",
    "df_results['Recall Score'] = recall_lista\n",
    "df_results"
   ]
  },
  {
   "cell_type": "markdown",
   "metadata": {},
   "source": [
    "### F1 Score\n",
    "\n",
    "Nada mais é que uma média ponderada entre o Precision e o Recall\n",
    "\n",
    "![Alt text](image-14.png)\n"
   ]
  },
  {
   "cell_type": "code",
   "execution_count": 12,
   "metadata": {},
   "outputs": [
    {
     "data": {
      "text/html": [
       "<div>\n",
       "<style scoped>\n",
       "    .dataframe tbody tr th:only-of-type {\n",
       "        vertical-align: middle;\n",
       "    }\n",
       "\n",
       "    .dataframe tbody tr th {\n",
       "        vertical-align: top;\n",
       "    }\n",
       "\n",
       "    .dataframe thead th {\n",
       "        text-align: right;\n",
       "    }\n",
       "</style>\n",
       "<table border=\"1\" class=\"dataframe\">\n",
       "  <thead>\n",
       "    <tr style=\"text-align: right;\">\n",
       "      <th></th>\n",
       "      <th>modelo</th>\n",
       "      <th>Accuracy Score</th>\n",
       "      <th>Precision Score</th>\n",
       "      <th>Recall Score</th>\n",
       "      <th>F1 Score</th>\n",
       "    </tr>\n",
       "  </thead>\n",
       "  <tbody>\n",
       "    <tr>\n",
       "      <th>0</th>\n",
       "      <td>Naive Bayes</td>\n",
       "      <td>0.747692</td>\n",
       "      <td>0.407767</td>\n",
       "      <td>0.666667</td>\n",
       "      <td>0.506024</td>\n",
       "    </tr>\n",
       "    <tr>\n",
       "      <th>1</th>\n",
       "      <td>Árvore de decisão</td>\n",
       "      <td>0.840000</td>\n",
       "      <td>0.579710</td>\n",
       "      <td>0.634921</td>\n",
       "      <td>0.606061</td>\n",
       "    </tr>\n",
       "    <tr>\n",
       "      <th>2</th>\n",
       "      <td>Random Forest</td>\n",
       "      <td>0.895385</td>\n",
       "      <td>0.825843</td>\n",
       "      <td>0.583333</td>\n",
       "      <td>0.683721</td>\n",
       "    </tr>\n",
       "    <tr>\n",
       "      <th>3</th>\n",
       "      <td>KNN</td>\n",
       "      <td>0.842308</td>\n",
       "      <td>0.619289</td>\n",
       "      <td>0.484127</td>\n",
       "      <td>0.543430</td>\n",
       "    </tr>\n",
       "    <tr>\n",
       "      <th>4</th>\n",
       "      <td>Suport Vector Machine</td>\n",
       "      <td>0.821538</td>\n",
       "      <td>0.708333</td>\n",
       "      <td>0.134921</td>\n",
       "      <td>0.226667</td>\n",
       "    </tr>\n",
       "    <tr>\n",
       "      <th>5</th>\n",
       "      <td>Regressão Logística</td>\n",
       "      <td>0.825385</td>\n",
       "      <td>0.640449</td>\n",
       "      <td>0.226190</td>\n",
       "      <td>0.334311</td>\n",
       "    </tr>\n",
       "    <tr>\n",
       "      <th>6</th>\n",
       "      <td>Rede Neural</td>\n",
       "      <td>0.831538</td>\n",
       "      <td>0.624060</td>\n",
       "      <td>0.329365</td>\n",
       "      <td>0.431169</td>\n",
       "    </tr>\n",
       "  </tbody>\n",
       "</table>\n",
       "</div>"
      ],
      "text/plain": [
       "                  modelo  Accuracy Score  Precision Score  Recall Score  \\\n",
       "0            Naive Bayes        0.747692         0.407767      0.666667   \n",
       "1      Árvore de decisão        0.840000         0.579710      0.634921   \n",
       "2          Random Forest        0.895385         0.825843      0.583333   \n",
       "3                    KNN        0.842308         0.619289      0.484127   \n",
       "4  Suport Vector Machine        0.821538         0.708333      0.134921   \n",
       "5    Regressão Logística        0.825385         0.640449      0.226190   \n",
       "6            Rede Neural        0.831538         0.624060      0.329365   \n",
       "\n",
       "   F1 Score  \n",
       "0  0.506024  \n",
       "1  0.606061  \n",
       "2  0.683721  \n",
       "3  0.543430  \n",
       "4  0.226667  \n",
       "5  0.334311  \n",
       "6  0.431169  "
      ]
     },
     "execution_count": 12,
     "metadata": {},
     "output_type": "execute_result"
    }
   ],
   "source": [
    "from sklearn.metrics import f1_score\n",
    "f1_score_lista = []\n",
    "for item in resultados:\n",
    "    f1 = f1_score(y_teste,item)\n",
    "    f1_score_lista.append(f1)\n",
    "df_results['F1 Score'] = f1_score_lista\n",
    "df_results"
   ]
  },
  {
   "cell_type": "code",
   "execution_count": null,
   "metadata": {},
   "outputs": [],
   "source": []
  }
 ],
 "metadata": {
  "kernelspec": {
   "display_name": "venv",
   "language": "python",
   "name": "python3"
  },
  "language_info": {
   "codemirror_mode": {
    "name": "ipython",
    "version": 3
   },
   "file_extension": ".py",
   "mimetype": "text/x-python",
   "name": "python",
   "nbconvert_exporter": "python",
   "pygments_lexer": "ipython3",
   "version": "3.9.13"
  },
  "orig_nbformat": 4
 },
 "nbformat": 4,
 "nbformat_minor": 2
}
