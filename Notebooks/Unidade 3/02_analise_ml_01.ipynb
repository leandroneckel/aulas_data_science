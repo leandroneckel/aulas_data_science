{
 "cells": [
  {
   "cell_type": "markdown",
   "metadata": {},
   "source": [
    "# Machine Learning Classificação\n",
    "## Continuação"
   ]
  },
  {
   "cell_type": "code",
   "execution_count": 1,
   "metadata": {},
   "outputs": [
    {
     "data": {
      "text/html": [
       "<div>\n",
       "<style scoped>\n",
       "    .dataframe tbody tr th:only-of-type {\n",
       "        vertical-align: middle;\n",
       "    }\n",
       "\n",
       "    .dataframe tbody tr th {\n",
       "        vertical-align: top;\n",
       "    }\n",
       "\n",
       "    .dataframe thead th {\n",
       "        text-align: right;\n",
       "    }\n",
       "</style>\n",
       "<table border=\"1\" class=\"dataframe\">\n",
       "  <thead>\n",
       "    <tr style=\"text-align: right;\">\n",
       "      <th></th>\n",
       "      <th>fixed_acidity</th>\n",
       "      <th>volatile_acidity</th>\n",
       "      <th>citric_acid</th>\n",
       "      <th>residual_sugar</th>\n",
       "      <th>chlorides</th>\n",
       "      <th>free_sulfur_dioxide</th>\n",
       "      <th>total_sulfur_dioxide</th>\n",
       "      <th>density</th>\n",
       "      <th>ph</th>\n",
       "      <th>sulphates</th>\n",
       "      <th>alcohol</th>\n",
       "      <th>type_red</th>\n",
       "      <th>type_white</th>\n",
       "      <th>quality</th>\n",
       "    </tr>\n",
       "  </thead>\n",
       "  <tbody>\n",
       "    <tr>\n",
       "      <th>0</th>\n",
       "      <td>0.297521</td>\n",
       "      <td>0.413333</td>\n",
       "      <td>0.000000</td>\n",
       "      <td>0.019939</td>\n",
       "      <td>0.111296</td>\n",
       "      <td>0.034722</td>\n",
       "      <td>0.064516</td>\n",
       "      <td>0.206092</td>\n",
       "      <td>0.612403</td>\n",
       "      <td>0.191011</td>\n",
       "      <td>0.202899</td>\n",
       "      <td>1</td>\n",
       "      <td>0</td>\n",
       "      <td>0</td>\n",
       "    </tr>\n",
       "    <tr>\n",
       "      <th>1</th>\n",
       "      <td>0.330579</td>\n",
       "      <td>0.533333</td>\n",
       "      <td>0.000000</td>\n",
       "      <td>0.030675</td>\n",
       "      <td>0.147841</td>\n",
       "      <td>0.083333</td>\n",
       "      <td>0.140553</td>\n",
       "      <td>0.186813</td>\n",
       "      <td>0.372093</td>\n",
       "      <td>0.258427</td>\n",
       "      <td>0.260870</td>\n",
       "      <td>1</td>\n",
       "      <td>0</td>\n",
       "      <td>0</td>\n",
       "    </tr>\n",
       "    <tr>\n",
       "      <th>2</th>\n",
       "      <td>0.330579</td>\n",
       "      <td>0.453333</td>\n",
       "      <td>0.024096</td>\n",
       "      <td>0.026074</td>\n",
       "      <td>0.137874</td>\n",
       "      <td>0.048611</td>\n",
       "      <td>0.110599</td>\n",
       "      <td>0.190669</td>\n",
       "      <td>0.418605</td>\n",
       "      <td>0.241573</td>\n",
       "      <td>0.260870</td>\n",
       "      <td>1</td>\n",
       "      <td>0</td>\n",
       "      <td>0</td>\n",
       "    </tr>\n",
       "    <tr>\n",
       "      <th>3</th>\n",
       "      <td>0.611570</td>\n",
       "      <td>0.133333</td>\n",
       "      <td>0.337349</td>\n",
       "      <td>0.019939</td>\n",
       "      <td>0.109635</td>\n",
       "      <td>0.055556</td>\n",
       "      <td>0.124424</td>\n",
       "      <td>0.209948</td>\n",
       "      <td>0.341085</td>\n",
       "      <td>0.202247</td>\n",
       "      <td>0.260870</td>\n",
       "      <td>1</td>\n",
       "      <td>0</td>\n",
       "      <td>0</td>\n",
       "    </tr>\n",
       "    <tr>\n",
       "      <th>4</th>\n",
       "      <td>0.297521</td>\n",
       "      <td>0.413333</td>\n",
       "      <td>0.000000</td>\n",
       "      <td>0.019939</td>\n",
       "      <td>0.111296</td>\n",
       "      <td>0.034722</td>\n",
       "      <td>0.064516</td>\n",
       "      <td>0.206092</td>\n",
       "      <td>0.612403</td>\n",
       "      <td>0.191011</td>\n",
       "      <td>0.202899</td>\n",
       "      <td>1</td>\n",
       "      <td>0</td>\n",
       "      <td>0</td>\n",
       "    </tr>\n",
       "    <tr>\n",
       "      <th>...</th>\n",
       "      <td>...</td>\n",
       "      <td>...</td>\n",
       "      <td>...</td>\n",
       "      <td>...</td>\n",
       "      <td>...</td>\n",
       "      <td>...</td>\n",
       "      <td>...</td>\n",
       "      <td>...</td>\n",
       "      <td>...</td>\n",
       "      <td>...</td>\n",
       "      <td>...</td>\n",
       "      <td>...</td>\n",
       "      <td>...</td>\n",
       "      <td>...</td>\n",
       "    </tr>\n",
       "    <tr>\n",
       "      <th>6492</th>\n",
       "      <td>0.198347</td>\n",
       "      <td>0.086667</td>\n",
       "      <td>0.174699</td>\n",
       "      <td>0.015337</td>\n",
       "      <td>0.049834</td>\n",
       "      <td>0.079861</td>\n",
       "      <td>0.198157</td>\n",
       "      <td>0.077694</td>\n",
       "      <td>0.426357</td>\n",
       "      <td>0.157303</td>\n",
       "      <td>0.463768</td>\n",
       "      <td>0</td>\n",
       "      <td>1</td>\n",
       "      <td>0</td>\n",
       "    </tr>\n",
       "    <tr>\n",
       "      <th>6493</th>\n",
       "      <td>0.231405</td>\n",
       "      <td>0.160000</td>\n",
       "      <td>0.216867</td>\n",
       "      <td>0.113497</td>\n",
       "      <td>0.063123</td>\n",
       "      <td>0.194444</td>\n",
       "      <td>0.373272</td>\n",
       "      <td>0.150183</td>\n",
       "      <td>0.333333</td>\n",
       "      <td>0.134831</td>\n",
       "      <td>0.231884</td>\n",
       "      <td>0</td>\n",
       "      <td>1</td>\n",
       "      <td>0</td>\n",
       "    </tr>\n",
       "    <tr>\n",
       "      <th>6494</th>\n",
       "      <td>0.223140</td>\n",
       "      <td>0.106667</td>\n",
       "      <td>0.114458</td>\n",
       "      <td>0.009202</td>\n",
       "      <td>0.053156</td>\n",
       "      <td>0.100694</td>\n",
       "      <td>0.241935</td>\n",
       "      <td>0.104685</td>\n",
       "      <td>0.209302</td>\n",
       "      <td>0.134831</td>\n",
       "      <td>0.202899</td>\n",
       "      <td>0</td>\n",
       "      <td>1</td>\n",
       "      <td>0</td>\n",
       "    </tr>\n",
       "    <tr>\n",
       "      <th>6495</th>\n",
       "      <td>0.140496</td>\n",
       "      <td>0.140000</td>\n",
       "      <td>0.180723</td>\n",
       "      <td>0.007669</td>\n",
       "      <td>0.021595</td>\n",
       "      <td>0.065972</td>\n",
       "      <td>0.239631</td>\n",
       "      <td>0.030461</td>\n",
       "      <td>0.480620</td>\n",
       "      <td>0.089888</td>\n",
       "      <td>0.695652</td>\n",
       "      <td>0</td>\n",
       "      <td>1</td>\n",
       "      <td>1</td>\n",
       "    </tr>\n",
       "    <tr>\n",
       "      <th>6496</th>\n",
       "      <td>0.181818</td>\n",
       "      <td>0.086667</td>\n",
       "      <td>0.228916</td>\n",
       "      <td>0.003067</td>\n",
       "      <td>0.018272</td>\n",
       "      <td>0.072917</td>\n",
       "      <td>0.211982</td>\n",
       "      <td>0.044342</td>\n",
       "      <td>0.418605</td>\n",
       "      <td>0.056180</td>\n",
       "      <td>0.550725</td>\n",
       "      <td>0</td>\n",
       "      <td>1</td>\n",
       "      <td>0</td>\n",
       "    </tr>\n",
       "  </tbody>\n",
       "</table>\n",
       "<p>6497 rows × 14 columns</p>\n",
       "</div>"
      ],
      "text/plain": [
       "      fixed_acidity  volatile_acidity  citric_acid  residual_sugar  chlorides  \\\n",
       "0          0.297521          0.413333     0.000000        0.019939   0.111296   \n",
       "1          0.330579          0.533333     0.000000        0.030675   0.147841   \n",
       "2          0.330579          0.453333     0.024096        0.026074   0.137874   \n",
       "3          0.611570          0.133333     0.337349        0.019939   0.109635   \n",
       "4          0.297521          0.413333     0.000000        0.019939   0.111296   \n",
       "...             ...               ...          ...             ...        ...   \n",
       "6492       0.198347          0.086667     0.174699        0.015337   0.049834   \n",
       "6493       0.231405          0.160000     0.216867        0.113497   0.063123   \n",
       "6494       0.223140          0.106667     0.114458        0.009202   0.053156   \n",
       "6495       0.140496          0.140000     0.180723        0.007669   0.021595   \n",
       "6496       0.181818          0.086667     0.228916        0.003067   0.018272   \n",
       "\n",
       "      free_sulfur_dioxide  total_sulfur_dioxide   density        ph  \\\n",
       "0                0.034722              0.064516  0.206092  0.612403   \n",
       "1                0.083333              0.140553  0.186813  0.372093   \n",
       "2                0.048611              0.110599  0.190669  0.418605   \n",
       "3                0.055556              0.124424  0.209948  0.341085   \n",
       "4                0.034722              0.064516  0.206092  0.612403   \n",
       "...                   ...                   ...       ...       ...   \n",
       "6492             0.079861              0.198157  0.077694  0.426357   \n",
       "6493             0.194444              0.373272  0.150183  0.333333   \n",
       "6494             0.100694              0.241935  0.104685  0.209302   \n",
       "6495             0.065972              0.239631  0.030461  0.480620   \n",
       "6496             0.072917              0.211982  0.044342  0.418605   \n",
       "\n",
       "      sulphates   alcohol  type_red  type_white  quality  \n",
       "0      0.191011  0.202899         1           0        0  \n",
       "1      0.258427  0.260870         1           0        0  \n",
       "2      0.241573  0.260870         1           0        0  \n",
       "3      0.202247  0.260870         1           0        0  \n",
       "4      0.191011  0.202899         1           0        0  \n",
       "...         ...       ...       ...         ...      ...  \n",
       "6492   0.157303  0.463768         0           1        0  \n",
       "6493   0.134831  0.231884         0           1        0  \n",
       "6494   0.134831  0.202899         0           1        0  \n",
       "6495   0.089888  0.695652         0           1        1  \n",
       "6496   0.056180  0.550725         0           1        0  \n",
       "\n",
       "[6497 rows x 14 columns]"
      ]
     },
     "execution_count": 1,
     "metadata": {},
     "output_type": "execute_result"
    }
   ],
   "source": [
    "import pandas as pd\n",
    "dados = pd.read_excel('dados_vinho_tratado.xlsx')\n",
    "dados"
   ]
  },
  {
   "cell_type": "markdown",
   "metadata": {},
   "source": [
    "### Separação dos dados em x e y\n",
    "Daqui em diante, é importante ter em mente que o nome das colunas será perdido"
   ]
  },
  {
   "cell_type": "code",
   "execution_count": 2,
   "metadata": {},
   "outputs": [
    {
     "name": "stdout",
     "output_type": "stream",
     "text": [
      "<class 'pandas.core.frame.DataFrame'>\n",
      "RangeIndex: 6497 entries, 0 to 6496\n",
      "Data columns (total 14 columns):\n",
      " #   Column                Non-Null Count  Dtype  \n",
      "---  ------                --------------  -----  \n",
      " 0   fixed_acidity         6497 non-null   float64\n",
      " 1   volatile_acidity      6497 non-null   float64\n",
      " 2   citric_acid           6497 non-null   float64\n",
      " 3   residual_sugar        6497 non-null   float64\n",
      " 4   chlorides             6497 non-null   float64\n",
      " 5   free_sulfur_dioxide   6497 non-null   float64\n",
      " 6   total_sulfur_dioxide  6497 non-null   float64\n",
      " 7   density               6497 non-null   float64\n",
      " 8   ph                    6497 non-null   float64\n",
      " 9   sulphates             6497 non-null   float64\n",
      " 10  alcohol               6497 non-null   float64\n",
      " 11  type_red              6497 non-null   int64  \n",
      " 12  type_white            6497 non-null   int64  \n",
      " 13  quality               6497 non-null   int64  \n",
      "dtypes: float64(11), int64(3)\n",
      "memory usage: 710.7 KB\n"
     ]
    }
   ],
   "source": [
    "dados.info()"
   ]
  },
  {
   "cell_type": "code",
   "execution_count": 3,
   "metadata": {},
   "outputs": [],
   "source": [
    "x = dados.iloc[:,:13].values\n",
    "y = dados.iloc[:,13].values"
   ]
  },
  {
   "cell_type": "code",
   "execution_count": 4,
   "metadata": {},
   "outputs": [
    {
     "data": {
      "text/plain": [
       "((6497, 13), (6497,))"
      ]
     },
     "execution_count": 4,
     "metadata": {},
     "output_type": "execute_result"
    }
   ],
   "source": [
    "x.shape,y.shape"
   ]
  },
  {
   "cell_type": "markdown",
   "metadata": {},
   "source": [
    "### Separação da base em treino e teste"
   ]
  },
  {
   "cell_type": "code",
   "execution_count": 5,
   "metadata": {},
   "outputs": [],
   "source": [
    "from sklearn.model_selection import train_test_split\n",
    "x_treino,x_teste,y_treino,y_teste = train_test_split(x,y,train_size=0.8,random_state=42)"
   ]
  },
  {
   "cell_type": "code",
   "execution_count": 6,
   "metadata": {},
   "outputs": [
    {
     "data": {
      "text/plain": [
       "((5197, 13), (5197,))"
      ]
     },
     "execution_count": 6,
     "metadata": {},
     "output_type": "execute_result"
    }
   ],
   "source": [
    "x_treino.shape,y_treino.shape"
   ]
  },
  {
   "cell_type": "code",
   "execution_count": 7,
   "metadata": {},
   "outputs": [
    {
     "data": {
      "text/plain": [
       "((1300, 13), (1300,))"
      ]
     },
     "execution_count": 7,
     "metadata": {},
     "output_type": "execute_result"
    }
   ],
   "source": [
    "x_teste.shape,y_teste.shape"
   ]
  },
  {
   "cell_type": "markdown",
   "metadata": {},
   "source": [
    "Averiguando a distribuição de classes antes e depois da separação:"
   ]
  },
  {
   "cell_type": "code",
   "execution_count": 8,
   "metadata": {},
   "outputs": [
    {
     "name": "stdout",
     "output_type": "stream",
     "text": [
      "[0 1] [5220 1277] [0.80344775 0.19655225]\n"
     ]
    }
   ],
   "source": [
    "import numpy as np\n",
    "# Base original\n",
    "unique_values, counts = np.unique(y, return_counts=True)\n",
    "prop = counts/y.size\n",
    "print(unique_values,counts,prop)"
   ]
  },
  {
   "cell_type": "code",
   "execution_count": 9,
   "metadata": {},
   "outputs": [
    {
     "name": "stdout",
     "output_type": "stream",
     "text": [
      "[0 1] [4172 1025] [0.80277083 0.19722917]\n"
     ]
    }
   ],
   "source": [
    "# Base de treino\n",
    "unique_values, counts = np.unique(y_treino, return_counts=True)\n",
    "prop = counts/y_treino.size\n",
    "print(unique_values,counts,prop)"
   ]
  },
  {
   "cell_type": "code",
   "execution_count": 10,
   "metadata": {},
   "outputs": [
    {
     "name": "stdout",
     "output_type": "stream",
     "text": [
      "[0 1] [1048  252] [0.80615385 0.19384615]\n"
     ]
    }
   ],
   "source": [
    "# Base de teste\n",
    "unique_values, counts = np.unique(y_teste, return_counts=True)\n",
    "prop = counts/y_teste.size\n",
    "print(unique_values,counts,prop)"
   ]
  },
  {
   "cell_type": "markdown",
   "metadata": {},
   "source": [
    "A função ```train_test_split``` é fundamental, pois tenta manter a proporção das classes nas bases de treino e teste iguais a proporção das classes na base original"
   ]
  },
  {
   "cell_type": "markdown",
   "metadata": {},
   "source": [
    "## Algoritmos de Machine Learning de Classificação\n",
    "* Naive Bayes\n",
    "* Árvore de decisão\n",
    "* Random Forest\n",
    "* KNN\n",
    "* Regressão Logística\n",
    "* SVM\n",
    "* Redes Neurais"
   ]
  },
  {
   "cell_type": "markdown",
   "metadata": {},
   "source": [
    "### Naive Bayes\n",
    "\n",
    "Algoritmo baseados em probabilidade pura, determinístico\n",
    "\n",
    "![Alt text](image.png)"
   ]
  },
  {
   "cell_type": "code",
   "execution_count": 11,
   "metadata": {},
   "outputs": [],
   "source": [
    "from sklearn.naive_bayes import GaussianNB\n",
    "modelo = GaussianNB()\n",
    "modelo.fit(x_treino,y_treino)\n",
    "y_previsto = modelo.predict(x_teste)\n"
   ]
  },
  {
   "cell_type": "code",
   "execution_count": 12,
   "metadata": {},
   "outputs": [
    {
     "data": {
      "text/plain": [
       "(array([1, 0, 1, 0, 0, 0, 0, 0, 0, 1], dtype=int64),\n",
       " array([0, 0, 1, 0, 0, 0, 0, 0, 0, 1], dtype=int64))"
      ]
     },
     "execution_count": 12,
     "metadata": {},
     "output_type": "execute_result"
    }
   ],
   "source": [
    "y_teste[:10],y_previsto[:10]"
   ]
  },
  {
   "cell_type": "code",
   "execution_count": 13,
   "metadata": {},
   "outputs": [
    {
     "data": {
      "text/plain": [
       "(array([0, 0, 1, 0, 0, 0, 0, 1, 0, 1], dtype=int64),\n",
       " array([0, 1, 0, 0, 0, 0, 0, 1, 0, 0], dtype=int64))"
      ]
     },
     "execution_count": 13,
     "metadata": {},
     "output_type": "execute_result"
    }
   ],
   "source": [
    "y_teste[-10:],y_previsto[-10:]"
   ]
  },
  {
   "cell_type": "markdown",
   "metadata": {},
   "source": [
    "### Árvore de decisão\n",
    "\n",
    "Define uma árvore de regras.\n",
    "\n",
    "![Alt text](image-5.png)"
   ]
  },
  {
   "cell_type": "code",
   "execution_count": 14,
   "metadata": {},
   "outputs": [],
   "source": [
    "from sklearn.tree import DecisionTreeClassifier\n",
    "modelo = DecisionTreeClassifier()\n",
    "modelo.fit(x_treino,y_treino)\n",
    "y_previsto = modelo.predict(x_teste)\n"
   ]
  },
  {
   "cell_type": "code",
   "execution_count": 15,
   "metadata": {},
   "outputs": [
    {
     "data": {
      "text/plain": [
       "(array([1, 0, 1, 0, 0, 0, 0, 0, 0, 1], dtype=int64),\n",
       " array([0, 0, 1, 0, 0, 0, 0, 0, 0, 0], dtype=int64))"
      ]
     },
     "execution_count": 15,
     "metadata": {},
     "output_type": "execute_result"
    }
   ],
   "source": [
    "y_teste[:10],y_previsto[:10]"
   ]
  },
  {
   "cell_type": "code",
   "execution_count": 16,
   "metadata": {},
   "outputs": [
    {
     "data": {
      "text/plain": [
       "(array([0, 0, 1, 0, 0, 0, 0, 1, 0, 1], dtype=int64),\n",
       " array([0, 1, 1, 0, 1, 0, 0, 1, 0, 1], dtype=int64))"
      ]
     },
     "execution_count": 16,
     "metadata": {},
     "output_type": "execute_result"
    }
   ],
   "source": [
    "y_teste[-10:],y_previsto[-10:]"
   ]
  },
  {
   "cell_type": "markdown",
   "metadata": {},
   "source": [
    "### Random Forest\n",
    "\n",
    "Define várias árvores de regras sob diferentes circunstâncias, com diferentes inicializações, etc... e seleciona o resultado por votação entre as árvores\n",
    "\n",
    "![Alt text](image-6.png)"
   ]
  },
  {
   "cell_type": "code",
   "execution_count": 17,
   "metadata": {},
   "outputs": [],
   "source": [
    "from sklearn.ensemble import RandomForestClassifier\n",
    "modelo = RandomForestClassifier()\n",
    "modelo.fit(x_treino,y_treino)\n",
    "y_previsto = modelo.predict(x_teste)\n"
   ]
  },
  {
   "cell_type": "code",
   "execution_count": 18,
   "metadata": {},
   "outputs": [
    {
     "data": {
      "text/plain": [
       "(array([1, 0, 1, 0, 0, 0, 0, 0, 0, 1], dtype=int64),\n",
       " array([0, 0, 1, 0, 0, 0, 0, 0, 0, 1], dtype=int64))"
      ]
     },
     "execution_count": 18,
     "metadata": {},
     "output_type": "execute_result"
    }
   ],
   "source": [
    "y_teste[:10],y_previsto[:10]"
   ]
  },
  {
   "cell_type": "code",
   "execution_count": 19,
   "metadata": {},
   "outputs": [
    {
     "data": {
      "text/plain": [
       "(array([0, 0, 1, 0, 0, 0, 0, 1, 0, 1], dtype=int64),\n",
       " array([0, 0, 1, 0, 0, 0, 0, 1, 0, 1], dtype=int64))"
      ]
     },
     "execution_count": 19,
     "metadata": {},
     "output_type": "execute_result"
    }
   ],
   "source": [
    "y_teste[-10:],y_previsto[-10:]"
   ]
  },
  {
   "cell_type": "markdown",
   "metadata": {},
   "source": [
    "### KNN\n",
    "\n",
    "Algoritmo baseado em proximidade entre os valores\n",
    "\n",
    "![Alt text](image-7.png)"
   ]
  },
  {
   "cell_type": "code",
   "execution_count": 20,
   "metadata": {},
   "outputs": [],
   "source": [
    "from sklearn.neighbors import KNeighborsClassifier\n",
    "modelo = KNeighborsClassifier()\n",
    "modelo.fit(x_treino,y_treino)\n",
    "y_previsto = modelo.predict(x_teste)\n"
   ]
  },
  {
   "cell_type": "code",
   "execution_count": 21,
   "metadata": {},
   "outputs": [
    {
     "data": {
      "text/plain": [
       "(array([1, 0, 1, 0, 0, 0, 0, 0, 0, 1], dtype=int64),\n",
       " array([0, 0, 1, 0, 0, 0, 0, 0, 0, 0], dtype=int64))"
      ]
     },
     "execution_count": 21,
     "metadata": {},
     "output_type": "execute_result"
    }
   ],
   "source": [
    "y_teste[:10],y_previsto[:10]"
   ]
  },
  {
   "cell_type": "code",
   "execution_count": 22,
   "metadata": {},
   "outputs": [
    {
     "data": {
      "text/plain": [
       "(array([0, 0, 1, 0, 0, 0, 0, 1, 0, 1], dtype=int64),\n",
       " array([0, 0, 1, 0, 0, 0, 0, 0, 0, 1], dtype=int64))"
      ]
     },
     "execution_count": 22,
     "metadata": {},
     "output_type": "execute_result"
    }
   ],
   "source": [
    "y_teste[-10:],y_previsto[-10:]"
   ]
  },
  {
   "cell_type": "markdown",
   "metadata": {},
   "source": [
    "### Suport Vector Machine\n",
    "\n",
    "Tenta definir uma fronteira entre os dados de uma classe e outra\n",
    "\n",
    "![Alt text](image-8.png)"
   ]
  },
  {
   "cell_type": "code",
   "execution_count": 23,
   "metadata": {},
   "outputs": [],
   "source": [
    "from sklearn.svm import SVC\n",
    "modelo = SVC()\n",
    "modelo.fit(x_treino,y_treino)\n",
    "y_previsto = modelo.predict(x_teste)\n"
   ]
  },
  {
   "cell_type": "code",
   "execution_count": 24,
   "metadata": {},
   "outputs": [
    {
     "data": {
      "text/plain": [
       "(array([1, 0, 1, 0, 0, 0, 0, 0, 0, 1], dtype=int64),\n",
       " array([0, 0, 0, 0, 0, 0, 0, 0, 0, 0], dtype=int64))"
      ]
     },
     "execution_count": 24,
     "metadata": {},
     "output_type": "execute_result"
    }
   ],
   "source": [
    "y_teste[:10],y_previsto[:10]"
   ]
  },
  {
   "cell_type": "code",
   "execution_count": 25,
   "metadata": {},
   "outputs": [
    {
     "data": {
      "text/plain": [
       "(array([0, 0, 1, 0, 0, 0, 0, 1, 0, 1], dtype=int64),\n",
       " array([0, 0, 0, 0, 0, 0, 0, 0, 0, 0], dtype=int64))"
      ]
     },
     "execution_count": 25,
     "metadata": {},
     "output_type": "execute_result"
    }
   ],
   "source": [
    "y_teste[-10:],y_previsto[-10:]"
   ]
  },
  {
   "cell_type": "markdown",
   "metadata": {},
   "source": [
    "### Regressão Logística\n",
    "\n",
    "Embora exista \"regressão\", é um algoritmo de classificação.\n",
    "\n",
    "É baseado em probabilidade, mas ajusta uma função cumulativa de probabilidade ao dados.\n",
    "\n",
    "![Alt text](image-9.png)"
   ]
  },
  {
   "cell_type": "code",
   "execution_count": 26,
   "metadata": {},
   "outputs": [],
   "source": [
    "from sklearn.linear_model import LogisticRegression\n",
    "modelo = LogisticRegression()\n",
    "modelo.fit(x_treino,y_treino)\n",
    "y_previsto = modelo.predict(x_teste)\n"
   ]
  },
  {
   "cell_type": "code",
   "execution_count": 27,
   "metadata": {},
   "outputs": [
    {
     "data": {
      "text/plain": [
       "(array([1, 0, 1, 0, 0, 0, 0, 0, 0, 1], dtype=int64),\n",
       " array([1, 0, 0, 0, 0, 0, 0, 0, 0, 0], dtype=int64))"
      ]
     },
     "execution_count": 27,
     "metadata": {},
     "output_type": "execute_result"
    }
   ],
   "source": [
    "y_teste[:10],y_previsto[:10]"
   ]
  },
  {
   "cell_type": "code",
   "execution_count": 28,
   "metadata": {},
   "outputs": [
    {
     "data": {
      "text/plain": [
       "(array([0, 0, 1, 0, 0, 0, 0, 1, 0, 1], dtype=int64),\n",
       " array([0, 0, 0, 0, 0, 0, 0, 1, 0, 0], dtype=int64))"
      ]
     },
     "execution_count": 28,
     "metadata": {},
     "output_type": "execute_result"
    }
   ],
   "source": [
    "y_teste[-10:],y_previsto[-10:]"
   ]
  },
  {
   "cell_type": "markdown",
   "metadata": {},
   "source": [
    "### Redes neurais artificiais\n",
    "\n",
    "![Alt text](image-10.png)"
   ]
  },
  {
   "cell_type": "code",
   "execution_count": 29,
   "metadata": {},
   "outputs": [
    {
     "name": "stderr",
     "output_type": "stream",
     "text": [
      "d:\\Drive Unesc\\Meu Drive\\2023-2\\5af - Ciência de Dados\\Notebooks\\Unidade 3\\venv\\lib\\site-packages\\sklearn\\neural_network\\_multilayer_perceptron.py:691: ConvergenceWarning: Stochastic Optimizer: Maximum iterations (200) reached and the optimization hasn't converged yet.\n",
      "  warnings.warn(\n"
     ]
    }
   ],
   "source": [
    "from sklearn.neural_network import MLPClassifier\n",
    "modelo = MLPClassifier()\n",
    "modelo.fit(x_treino,y_treino)\n",
    "y_previsto = modelo.predict(x_teste)\n"
   ]
  },
  {
   "cell_type": "code",
   "execution_count": 30,
   "metadata": {},
   "outputs": [
    {
     "data": {
      "text/plain": [
       "(array([1, 0, 1, 0, 0, 0, 0, 0, 0, 1], dtype=int64),\n",
       " array([0, 0, 1, 0, 0, 0, 0, 0, 0, 0], dtype=int64))"
      ]
     },
     "execution_count": 30,
     "metadata": {},
     "output_type": "execute_result"
    }
   ],
   "source": [
    "y_teste[:10],y_previsto[:10]"
   ]
  },
  {
   "cell_type": "code",
   "execution_count": 31,
   "metadata": {},
   "outputs": [
    {
     "data": {
      "text/plain": [
       "(array([0, 0, 1, 0, 0, 0, 0, 1, 0, 1], dtype=int64),\n",
       " array([0, 0, 0, 0, 0, 0, 0, 1, 0, 0], dtype=int64))"
      ]
     },
     "execution_count": 31,
     "metadata": {},
     "output_type": "execute_result"
    }
   ],
   "source": [
    "y_teste[-10:],y_previsto[-10:]"
   ]
  }
 ],
 "metadata": {
  "kernelspec": {
   "display_name": "base",
   "language": "python",
   "name": "python3"
  },
  "language_info": {
   "codemirror_mode": {
    "name": "ipython",
    "version": 3
   },
   "file_extension": ".py",
   "mimetype": "text/x-python",
   "name": "python",
   "nbconvert_exporter": "python",
   "pygments_lexer": "ipython3",
   "version": "3.9.13"
  },
  "orig_nbformat": 4
 },
 "nbformat": 4,
 "nbformat_minor": 2
}
