{
 "cells": [
  {
   "cell_type": "code",
   "execution_count": 6,
   "metadata": {},
   "outputs": [
    {
     "data": {
      "text/html": [
       "<div>\n",
       "<style scoped>\n",
       "    .dataframe tbody tr th:only-of-type {\n",
       "        vertical-align: middle;\n",
       "    }\n",
       "\n",
       "    .dataframe tbody tr th {\n",
       "        vertical-align: top;\n",
       "    }\n",
       "\n",
       "    .dataframe thead th {\n",
       "        text-align: right;\n",
       "    }\n",
       "</style>\n",
       "<table border=\"1\" class=\"dataframe\">\n",
       "  <thead>\n",
       "    <tr style=\"text-align: right;\">\n",
       "      <th></th>\n",
       "      <th>at</th>\n",
       "      <th>ap</th>\n",
       "      <th>ah</th>\n",
       "      <th>afdp</th>\n",
       "      <th>gtep</th>\n",
       "      <th>tit</th>\n",
       "      <th>tat</th>\n",
       "      <th>tey</th>\n",
       "      <th>cdp</th>\n",
       "      <th>co</th>\n",
       "      <th>nox</th>\n",
       "    </tr>\n",
       "  </thead>\n",
       "  <tbody>\n",
       "    <tr>\n",
       "      <th>0</th>\n",
       "      <td>4.5878</td>\n",
       "      <td>1018.7</td>\n",
       "      <td>83.675</td>\n",
       "      <td>3.5758</td>\n",
       "      <td>23.979</td>\n",
       "      <td>1086.2</td>\n",
       "      <td>549.83</td>\n",
       "      <td>134.67</td>\n",
       "      <td>11.898</td>\n",
       "      <td>0.32663</td>\n",
       "      <td>81.952</td>\n",
       "    </tr>\n",
       "    <tr>\n",
       "      <th>1</th>\n",
       "      <td>4.2932</td>\n",
       "      <td>1018.3</td>\n",
       "      <td>84.235</td>\n",
       "      <td>3.5709</td>\n",
       "      <td>23.951</td>\n",
       "      <td>1086.1</td>\n",
       "      <td>550.05</td>\n",
       "      <td>134.67</td>\n",
       "      <td>11.892</td>\n",
       "      <td>0.44784</td>\n",
       "      <td>82.377</td>\n",
       "    </tr>\n",
       "    <tr>\n",
       "      <th>2</th>\n",
       "      <td>3.9045</td>\n",
       "      <td>1018.4</td>\n",
       "      <td>84.858</td>\n",
       "      <td>3.5828</td>\n",
       "      <td>23.990</td>\n",
       "      <td>1086.5</td>\n",
       "      <td>550.19</td>\n",
       "      <td>135.10</td>\n",
       "      <td>12.042</td>\n",
       "      <td>0.45144</td>\n",
       "      <td>83.776</td>\n",
       "    </tr>\n",
       "    <tr>\n",
       "      <th>3</th>\n",
       "      <td>3.7436</td>\n",
       "      <td>1018.3</td>\n",
       "      <td>85.434</td>\n",
       "      <td>3.5808</td>\n",
       "      <td>23.911</td>\n",
       "      <td>1086.5</td>\n",
       "      <td>550.17</td>\n",
       "      <td>135.03</td>\n",
       "      <td>11.990</td>\n",
       "      <td>0.23107</td>\n",
       "      <td>82.505</td>\n",
       "    </tr>\n",
       "    <tr>\n",
       "      <th>4</th>\n",
       "      <td>3.7516</td>\n",
       "      <td>1017.8</td>\n",
       "      <td>85.182</td>\n",
       "      <td>3.5781</td>\n",
       "      <td>23.917</td>\n",
       "      <td>1085.9</td>\n",
       "      <td>550.00</td>\n",
       "      <td>134.67</td>\n",
       "      <td>11.910</td>\n",
       "      <td>0.26747</td>\n",
       "      <td>82.028</td>\n",
       "    </tr>\n",
       "    <tr>\n",
       "      <th>...</th>\n",
       "      <td>...</td>\n",
       "      <td>...</td>\n",
       "      <td>...</td>\n",
       "      <td>...</td>\n",
       "      <td>...</td>\n",
       "      <td>...</td>\n",
       "      <td>...</td>\n",
       "      <td>...</td>\n",
       "      <td>...</td>\n",
       "      <td>...</td>\n",
       "      <td>...</td>\n",
       "    </tr>\n",
       "    <tr>\n",
       "      <th>36728</th>\n",
       "      <td>3.6268</td>\n",
       "      <td>1028.5</td>\n",
       "      <td>93.200</td>\n",
       "      <td>3.1661</td>\n",
       "      <td>19.087</td>\n",
       "      <td>1037.0</td>\n",
       "      <td>541.59</td>\n",
       "      <td>109.08</td>\n",
       "      <td>10.411</td>\n",
       "      <td>10.99300</td>\n",
       "      <td>89.172</td>\n",
       "    </tr>\n",
       "    <tr>\n",
       "      <th>36729</th>\n",
       "      <td>4.1674</td>\n",
       "      <td>1028.6</td>\n",
       "      <td>94.036</td>\n",
       "      <td>3.1923</td>\n",
       "      <td>19.016</td>\n",
       "      <td>1037.6</td>\n",
       "      <td>542.28</td>\n",
       "      <td>108.79</td>\n",
       "      <td>10.344</td>\n",
       "      <td>11.14400</td>\n",
       "      <td>88.849</td>\n",
       "    </tr>\n",
       "    <tr>\n",
       "      <th>36730</th>\n",
       "      <td>5.4820</td>\n",
       "      <td>1028.5</td>\n",
       "      <td>95.219</td>\n",
       "      <td>3.3128</td>\n",
       "      <td>18.857</td>\n",
       "      <td>1038.0</td>\n",
       "      <td>543.48</td>\n",
       "      <td>107.81</td>\n",
       "      <td>10.462</td>\n",
       "      <td>11.41400</td>\n",
       "      <td>96.147</td>\n",
       "    </tr>\n",
       "    <tr>\n",
       "      <th>36731</th>\n",
       "      <td>5.8837</td>\n",
       "      <td>1028.7</td>\n",
       "      <td>94.200</td>\n",
       "      <td>3.9831</td>\n",
       "      <td>23.563</td>\n",
       "      <td>1076.9</td>\n",
       "      <td>550.11</td>\n",
       "      <td>131.41</td>\n",
       "      <td>11.771</td>\n",
       "      <td>3.31340</td>\n",
       "      <td>64.738</td>\n",
       "    </tr>\n",
       "    <tr>\n",
       "      <th>36732</th>\n",
       "      <td>6.0392</td>\n",
       "      <td>1028.8</td>\n",
       "      <td>94.547</td>\n",
       "      <td>3.8752</td>\n",
       "      <td>22.524</td>\n",
       "      <td>1067.9</td>\n",
       "      <td>548.23</td>\n",
       "      <td>125.41</td>\n",
       "      <td>11.462</td>\n",
       "      <td>11.98100</td>\n",
       "      <td>109.240</td>\n",
       "    </tr>\n",
       "  </tbody>\n",
       "</table>\n",
       "<p>36733 rows × 11 columns</p>\n",
       "</div>"
      ],
      "text/plain": [
       "           at      ap      ah    afdp    gtep     tit     tat     tey     cdp  \\\n",
       "0      4.5878  1018.7  83.675  3.5758  23.979  1086.2  549.83  134.67  11.898   \n",
       "1      4.2932  1018.3  84.235  3.5709  23.951  1086.1  550.05  134.67  11.892   \n",
       "2      3.9045  1018.4  84.858  3.5828  23.990  1086.5  550.19  135.10  12.042   \n",
       "3      3.7436  1018.3  85.434  3.5808  23.911  1086.5  550.17  135.03  11.990   \n",
       "4      3.7516  1017.8  85.182  3.5781  23.917  1085.9  550.00  134.67  11.910   \n",
       "...       ...     ...     ...     ...     ...     ...     ...     ...     ...   \n",
       "36728  3.6268  1028.5  93.200  3.1661  19.087  1037.0  541.59  109.08  10.411   \n",
       "36729  4.1674  1028.6  94.036  3.1923  19.016  1037.6  542.28  108.79  10.344   \n",
       "36730  5.4820  1028.5  95.219  3.3128  18.857  1038.0  543.48  107.81  10.462   \n",
       "36731  5.8837  1028.7  94.200  3.9831  23.563  1076.9  550.11  131.41  11.771   \n",
       "36732  6.0392  1028.8  94.547  3.8752  22.524  1067.9  548.23  125.41  11.462   \n",
       "\n",
       "             co      nox  \n",
       "0       0.32663   81.952  \n",
       "1       0.44784   82.377  \n",
       "2       0.45144   83.776  \n",
       "3       0.23107   82.505  \n",
       "4       0.26747   82.028  \n",
       "...         ...      ...  \n",
       "36728  10.99300   89.172  \n",
       "36729  11.14400   88.849  \n",
       "36730  11.41400   96.147  \n",
       "36731   3.31340   64.738  \n",
       "36732  11.98100  109.240  \n",
       "\n",
       "[36733 rows x 11 columns]"
      ]
     },
     "execution_count": 6,
     "metadata": {},
     "output_type": "execute_result"
    }
   ],
   "source": [
    "import pandas as pd\n",
    "dados = pd.read_csv('dados_unidade_3.csv')\n",
    "dados.columns = [x.lower() for x in dados.columns]\n",
    "dados"
   ]
  },
  {
   "cell_type": "code",
   "execution_count": 12,
   "metadata": {},
   "outputs": [
    {
     "data": {
      "text/plain": [
       "(array([4.0000e+00, 2.7900e+02, 5.4170e+03, 1.2157e+04, 1.0875e+04,\n",
       "        5.2480e+03, 1.7350e+03, 5.0100e+02, 3.1300e+02, 2.0400e+02]),\n",
       " array([ 25.905 ,  35.3055,  44.706 ,  54.1065,  63.507 ,  72.9075,\n",
       "         82.308 ,  91.7085, 101.109 , 110.5095, 119.91  ]),\n",
       " <BarContainer object of 10 artists>)"
      ]
     },
     "execution_count": 12,
     "metadata": {},
     "output_type": "execute_result"
    },
    {
     "data": {
      "image/png": "[encoded data removed]",
      "text/plain": [
       "<Figure size 640x480 with 1 Axes>"
      ]
     },
     "metadata": {},
     "output_type": "display_data"
    }
   ],
   "source": [
    "import matplotlib.pyplot as plt\n",
    "plt.hist(dados.nox)"
   ]
  },
  {
   "cell_type": "code",
   "execution_count": 13,
   "metadata": {},
   "outputs": [
    {
     "data": {
      "text/plain": [
       "{'whiskers': [<matplotlib.lines.Line2D at 0x156d7a7f910>,\n",
       "  <matplotlib.lines.Line2D at 0x156d7a7fbb0>],\n",
       " 'caps': [<matplotlib.lines.Line2D at 0x156d7a7fe50>,\n",
       "  <matplotlib.lines.Line2D at 0x156d7a9a130>],\n",
       " 'boxes': [<matplotlib.lines.Line2D at 0x156d7a7f670>],\n",
       " 'medians': [<matplotlib.lines.Line2D at 0x156d7a9a3d0>],\n",
       " 'fliers': [<matplotlib.lines.Line2D at 0x156d7a9a670>],\n",
       " 'means': []}"
      ]
     },
     "execution_count": 13,
     "metadata": {},
     "output_type": "execute_result"
    },
    {
     "data": {
      "image/png": "[encoded data removed]",
      "text/plain": [
       "<Figure size 640x480 with 1 Axes>"
      ]
     },
     "metadata": {},
     "output_type": "display_data"
    }
   ],
   "source": [
    "plt.boxplot(dados.nox)"
   ]
  },
  {
   "cell_type": "markdown",
   "metadata": {},
   "source": [
    "# Análise de dados de regressão: exploração de algoritmos e métricas\n",
    "\n",
    "## Pré-processamento\n",
    "\n",
    "A base de dados pode ser utilizada para prever o nox ou o co. Vamos abordar de forma diferente: consideraremos o nox como targer e toas as demais colunas como features.\n",
    "\n",
    "Assim, escalonaremos via min-max todas as features, mas não escalonaremos o target (escolha)"
   ]
  },
  {
   "cell_type": "code",
   "execution_count": 8,
   "metadata": {},
   "outputs": [
    {
     "data": {
      "text/html": [
       "<div>\n",
       "<style scoped>\n",
       "    .dataframe tbody tr th:only-of-type {\n",
       "        vertical-align: middle;\n",
       "    }\n",
       "\n",
       "    .dataframe tbody tr th {\n",
       "        vertical-align: top;\n",
       "    }\n",
       "\n",
       "    .dataframe thead th {\n",
       "        text-align: right;\n",
       "    }\n",
       "</style>\n",
       "<table border=\"1\" class=\"dataframe\">\n",
       "  <thead>\n",
       "    <tr style=\"text-align: right;\">\n",
       "      <th></th>\n",
       "      <th>at</th>\n",
       "      <th>ap</th>\n",
       "      <th>ah</th>\n",
       "      <th>afdp</th>\n",
       "      <th>gtep</th>\n",
       "      <th>tit</th>\n",
       "      <th>tat</th>\n",
       "      <th>tey</th>\n",
       "      <th>cdp</th>\n",
       "      <th>co</th>\n",
       "      <th>nox</th>\n",
       "    </tr>\n",
       "  </thead>\n",
       "  <tbody>\n",
       "    <tr>\n",
       "      <th>0</th>\n",
       "      <td>0.249727</td>\n",
       "      <td>0.647291</td>\n",
       "      <td>0.782894</td>\n",
       "      <td>0.269481</td>\n",
       "      <td>0.272873</td>\n",
       "      <td>0.853147</td>\n",
       "      <td>0.980288</td>\n",
       "      <td>0.435959</td>\n",
       "      <td>0.385552</td>\n",
       "      <td>0.007397</td>\n",
       "      <td>81.952</td>\n",
       "    </tr>\n",
       "    <tr>\n",
       "      <th>1</th>\n",
       "      <td>0.242929</td>\n",
       "      <td>0.639409</td>\n",
       "      <td>0.790252</td>\n",
       "      <td>0.268594</td>\n",
       "      <td>0.271657</td>\n",
       "      <td>0.852148</td>\n",
       "      <td>0.985848</td>\n",
       "      <td>0.435959</td>\n",
       "      <td>0.384421</td>\n",
       "      <td>0.010146</td>\n",
       "      <td>82.377</td>\n",
       "    </tr>\n",
       "    <tr>\n",
       "      <th>2</th>\n",
       "      <td>0.233960</td>\n",
       "      <td>0.641379</td>\n",
       "      <td>0.798437</td>\n",
       "      <td>0.270749</td>\n",
       "      <td>0.273351</td>\n",
       "      <td>0.856144</td>\n",
       "      <td>0.989386</td>\n",
       "      <td>0.441369</td>\n",
       "      <td>0.412685</td>\n",
       "      <td>0.010227</td>\n",
       "      <td>83.776</td>\n",
       "    </tr>\n",
       "    <tr>\n",
       "      <th>3</th>\n",
       "      <td>0.230247</td>\n",
       "      <td>0.639409</td>\n",
       "      <td>0.806004</td>\n",
       "      <td>0.270387</td>\n",
       "      <td>0.269919</td>\n",
       "      <td>0.856144</td>\n",
       "      <td>0.988880</td>\n",
       "      <td>0.440488</td>\n",
       "      <td>0.402887</td>\n",
       "      <td>0.005231</td>\n",
       "      <td>82.505</td>\n",
       "    </tr>\n",
       "    <tr>\n",
       "      <th>4</th>\n",
       "      <td>0.230432</td>\n",
       "      <td>0.629557</td>\n",
       "      <td>0.802693</td>\n",
       "      <td>0.269898</td>\n",
       "      <td>0.270180</td>\n",
       "      <td>0.850150</td>\n",
       "      <td>0.984584</td>\n",
       "      <td>0.435959</td>\n",
       "      <td>0.387813</td>\n",
       "      <td>0.006056</td>\n",
       "      <td>82.028</td>\n",
       "    </tr>\n",
       "    <tr>\n",
       "      <th>...</th>\n",
       "      <td>...</td>\n",
       "      <td>...</td>\n",
       "      <td>...</td>\n",
       "      <td>...</td>\n",
       "      <td>...</td>\n",
       "      <td>...</td>\n",
       "      <td>...</td>\n",
       "      <td>...</td>\n",
       "      <td>...</td>\n",
       "      <td>...</td>\n",
       "      <td>...</td>\n",
       "    </tr>\n",
       "    <tr>\n",
       "      <th>36728</th>\n",
       "      <td>0.227552</td>\n",
       "      <td>0.840394</td>\n",
       "      <td>0.908034</td>\n",
       "      <td>0.195303</td>\n",
       "      <td>0.060344</td>\n",
       "      <td>0.361638</td>\n",
       "      <td>0.772050</td>\n",
       "      <td>0.113991</td>\n",
       "      <td>0.105366</td>\n",
       "      <td>0.249251</td>\n",
       "      <td>89.172</td>\n",
       "    </tr>\n",
       "    <tr>\n",
       "      <th>36729</th>\n",
       "      <td>0.240026</td>\n",
       "      <td>0.842365</td>\n",
       "      <td>0.919017</td>\n",
       "      <td>0.200047</td>\n",
       "      <td>0.057260</td>\n",
       "      <td>0.367632</td>\n",
       "      <td>0.789487</td>\n",
       "      <td>0.110342</td>\n",
       "      <td>0.092742</td>\n",
       "      <td>0.252675</td>\n",
       "      <td>88.849</td>\n",
       "    </tr>\n",
       "    <tr>\n",
       "      <th>36730</th>\n",
       "      <td>0.270360</td>\n",
       "      <td>0.840394</td>\n",
       "      <td>0.934560</td>\n",
       "      <td>0.221864</td>\n",
       "      <td>0.050352</td>\n",
       "      <td>0.371628</td>\n",
       "      <td>0.819813</td>\n",
       "      <td>0.098012</td>\n",
       "      <td>0.114976</td>\n",
       "      <td>0.258797</td>\n",
       "      <td>96.147</td>\n",
       "    </tr>\n",
       "    <tr>\n",
       "      <th>36731</th>\n",
       "      <td>0.279629</td>\n",
       "      <td>0.844335</td>\n",
       "      <td>0.921172</td>\n",
       "      <td>0.343225</td>\n",
       "      <td>0.254801</td>\n",
       "      <td>0.760240</td>\n",
       "      <td>0.987364</td>\n",
       "      <td>0.394942</td>\n",
       "      <td>0.361622</td>\n",
       "      <td>0.075121</td>\n",
       "      <td>64.738</td>\n",
       "    </tr>\n",
       "    <tr>\n",
       "      <th>36732</th>\n",
       "      <td>0.283217</td>\n",
       "      <td>0.846305</td>\n",
       "      <td>0.925731</td>\n",
       "      <td>0.323689</td>\n",
       "      <td>0.209662</td>\n",
       "      <td>0.670330</td>\n",
       "      <td>0.939853</td>\n",
       "      <td>0.319451</td>\n",
       "      <td>0.303399</td>\n",
       "      <td>0.271653</td>\n",
       "      <td>109.240</td>\n",
       "    </tr>\n",
       "  </tbody>\n",
       "</table>\n",
       "<p>36733 rows × 11 columns</p>\n",
       "</div>"
      ],
      "text/plain": [
       "             at        ap        ah      afdp      gtep       tit       tat  \\\n",
       "0      0.249727  0.647291  0.782894  0.269481  0.272873  0.853147  0.980288   \n",
       "1      0.242929  0.639409  0.790252  0.268594  0.271657  0.852148  0.985848   \n",
       "2      0.233960  0.641379  0.798437  0.270749  0.273351  0.856144  0.989386   \n",
       "3      0.230247  0.639409  0.806004  0.270387  0.269919  0.856144  0.988880   \n",
       "4      0.230432  0.629557  0.802693  0.269898  0.270180  0.850150  0.984584   \n",
       "...         ...       ...       ...       ...       ...       ...       ...   \n",
       "36728  0.227552  0.840394  0.908034  0.195303  0.060344  0.361638  0.772050   \n",
       "36729  0.240026  0.842365  0.919017  0.200047  0.057260  0.367632  0.789487   \n",
       "36730  0.270360  0.840394  0.934560  0.221864  0.050352  0.371628  0.819813   \n",
       "36731  0.279629  0.844335  0.921172  0.343225  0.254801  0.760240  0.987364   \n",
       "36732  0.283217  0.846305  0.925731  0.323689  0.209662  0.670330  0.939853   \n",
       "\n",
       "            tey       cdp        co      nox  \n",
       "0      0.435959  0.385552  0.007397   81.952  \n",
       "1      0.435959  0.384421  0.010146   82.377  \n",
       "2      0.441369  0.412685  0.010227   83.776  \n",
       "3      0.440488  0.402887  0.005231   82.505  \n",
       "4      0.435959  0.387813  0.006056   82.028  \n",
       "...         ...       ...       ...      ...  \n",
       "36728  0.113991  0.105366  0.249251   89.172  \n",
       "36729  0.110342  0.092742  0.252675   88.849  \n",
       "36730  0.098012  0.114976  0.258797   96.147  \n",
       "36731  0.394942  0.361622  0.075121   64.738  \n",
       "36732  0.319451  0.303399  0.271653  109.240  \n",
       "\n",
       "[36733 rows x 11 columns]"
      ]
     },
     "execution_count": 8,
     "metadata": {},
     "output_type": "execute_result"
    }
   ],
   "source": [
    "from sklearn.preprocessing import MinMaxScaler\n",
    "scaler = MinMaxScaler()\n",
    "escalonar = dados.iloc[:,:10]\n",
    "escalonar = pd.DataFrame(scaler.fit_transform(escalonar),columns=escalonar.columns)\n",
    "escalonar['nox'] = dados['nox'].values\n",
    "escalonar"
   ]
  },
  {
   "cell_type": "markdown",
   "metadata": {},
   "source": [
    "Separação em x e y e separação em dados de treino e teste"
   ]
  },
  {
   "cell_type": "code",
   "execution_count": 9,
   "metadata": {},
   "outputs": [],
   "source": [
    "x = escalonar.iloc[:,:10].values\n",
    "y = escalonar.iloc[:,10].values"
   ]
  },
  {
   "cell_type": "code",
   "execution_count": 10,
   "metadata": {},
   "outputs": [
    {
     "data": {
      "text/plain": [
       "array([[0.24972657, 0.64729064, 0.7828943 , ..., 0.43595873, 0.3855517 ,\n",
       "        0.00739735],\n",
       "       [0.24292881, 0.63940887, 0.79025159, ..., 0.43595873, 0.38442116,\n",
       "        0.01014571],\n",
       "       [0.23395973, 0.64137931, 0.79843658, ..., 0.4413689 , 0.41268465,\n",
       "        0.01022734],\n",
       "       ...,\n",
       "       [0.27035982, 0.84039409, 0.93455955, ..., 0.09801208, 0.11497588,\n",
       "        0.25879674],\n",
       "       [0.27962887, 0.84433498, 0.92117191, ..., 0.39494212, 0.36162195,\n",
       "        0.07512055],\n",
       "       [0.28321696, 0.84630542, 0.9257308 , ..., 0.31945143, 0.30339916,\n",
       "        0.27165312]])"
      ]
     },
     "execution_count": 10,
     "metadata": {},
     "output_type": "execute_result"
    }
   ],
   "source": [
    "x"
   ]
  },
  {
   "cell_type": "code",
   "execution_count": 11,
   "metadata": {},
   "outputs": [
    {
     "data": {
      "text/plain": [
       "array([ 81.952,  82.377,  83.776, ...,  96.147,  64.738, 109.24 ])"
      ]
     },
     "execution_count": 11,
     "metadata": {},
     "output_type": "execute_result"
    }
   ],
   "source": [
    "y"
   ]
  },
  {
   "cell_type": "code",
   "execution_count": 24,
   "metadata": {},
   "outputs": [],
   "source": [
    "from sklearn.model_selection import train_test_split\n",
    "x_treino,x_teste,y_treino,y_teste = train_test_split(x,y,train_size=0.8,random_state=3)"
   ]
  },
  {
   "cell_type": "markdown",
   "metadata": {},
   "source": [
    "Averiguando distribuição do target nos três grupos"
   ]
  },
  {
   "cell_type": "code",
   "execution_count": 25,
   "metadata": {},
   "outputs": [
    {
     "data": {
      "image/png": "[encoded data removed]",
      "text/plain": [
       "<Figure size 1350x900 with 6 Axes>"
      ]
     },
     "metadata": {},
     "output_type": "display_data"
    }
   ],
   "source": [
    "fig, ax = plt.subplots(2,3,figsize = (9,6),dpi=150)\n",
    "ax[0,0].hist(dados.nox,density = True)\n",
    "ax[0,0].set_title('Y')\n",
    "ax[0,1].hist(y_treino,density = True)\n",
    "ax[0,1].set_title('Y treino')\n",
    "ax[0,2].hist(y_teste,density = True)\n",
    "ax[0,2].set_title('Y teste')\n",
    "ax[1,0].boxplot(dados.nox)\n",
    "ax[1,1].boxplot(y_treino)\n",
    "ax[1,2].boxplot(y_teste)\n",
    "plt.tight_layout()\n"
   ]
  },
  {
   "cell_type": "markdown",
   "metadata": {},
   "source": [
    "## Algoritmos de machine learning de regressão\n",
    "\n",
    "### Regressão Linear\n",
    "\n",
    "![Alt text](image.png)"
   ]
  },
  {
   "cell_type": "code",
   "execution_count": 26,
   "metadata": {},
   "outputs": [],
   "source": [
    "from sklearn.linear_model import LinearRegression\n",
    "modelo = LinearRegression()\n",
    "modelo.fit(x_treino,y_treino)\n",
    "y_prev = modelo.predict(x_teste)"
   ]
  },
  {
   "cell_type": "code",
   "execution_count": 27,
   "metadata": {},
   "outputs": [
    {
     "data": {
      "text/plain": [
       "(array([67.773, 67.955, 84.848, 69.775, 78.81 , 61.878, 64.865, 68.187,\n",
       "        59.308, 69.479]),\n",
       " array([73.2228282 , 68.18220914, 83.91840862, 68.31105703, 67.90431428,\n",
       "        69.31109925, 60.24683969, 61.55069936, 59.33684068, 74.831925  ]))"
      ]
     },
     "execution_count": 27,
     "metadata": {},
     "output_type": "execute_result"
    }
   ],
   "source": [
    "y_teste[:10],y_prev[:10]"
   ]
  },
  {
   "cell_type": "code",
   "execution_count": 28,
   "metadata": {},
   "outputs": [
    {
     "data": {
      "text/plain": [
       "(array([64.396, 60.725, 55.498, 86.324, 64.005, 66.223, 63.481, 50.217,\n",
       "        79.041, 63.95 ]),\n",
       " array([71.4653371 , 53.93572148, 55.3401584 , 80.55063393, 68.03516735,\n",
       "        63.59093556, 69.30325031, 62.38881282, 71.72180871, 68.37696053]))"
      ]
     },
     "execution_count": 28,
     "metadata": {},
     "output_type": "execute_result"
    }
   ],
   "source": [
    "y_teste[-10:],y_prev[-10:]"
   ]
  },
  {
   "cell_type": "markdown",
   "metadata": {},
   "source": [
    "Repare já na comparação dos valores que não é mais possível pensar em acuracidade, precisão e sensibilidade devido à própria natureza do dado.\n",
    "\n",
    "Assim, os métodos de avaliação do modelo serão outros"
   ]
  },
  {
   "cell_type": "code",
   "execution_count": null,
   "metadata": {},
   "outputs": [],
   "source": []
  }
 ],
 "metadata": {
  "kernelspec": {
   "display_name": "venv",
   "language": "python",
   "name": "python3"
  },
  "language_info": {
   "codemirror_mode": {
    "name": "ipython",
    "version": 3
   },
   "file_extension": ".py",
   "mimetype": "text/x-python",
   "name": "python",
   "nbconvert_exporter": "python",
   "pygments_lexer": "ipython3",
   "version": "3.9.13"
  },
  "orig_nbformat": 4
 },
 "nbformat": 4,
 "nbformat_minor": 2
}
